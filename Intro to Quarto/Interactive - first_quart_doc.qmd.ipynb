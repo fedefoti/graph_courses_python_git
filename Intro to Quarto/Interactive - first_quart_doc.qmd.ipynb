{
 "cells": [
  {
   "cell_type": "markdown",
   "metadata": {},
   "source": [
    "Connected to .venv (Python 3.12.0)"
   ]
  },
  {
   "cell_type": "code",
   "execution_count": null,
   "id": "050f3d26-eaa3-4ee8-86da-a9805e688958",
   "metadata": {
    "vscode": {
     "languageId": "quarto"
    }
   },
   "outputs": [
    {
     "ename": "NameError",
     "evalue": "name 'px' is not defined",
     "output_type": "error",
     "traceback": [
      "\u001b[31m---------------------------------------------------------------------------\u001b[39m",
      "\u001b[31mNameError\u001b[39m                                 Traceback (most recent call last)",
      "\u001b[36mCell\u001b[39m\u001b[36m \u001b[39m\u001b[32mIn[1]\u001b[39m\u001b[32m, line 1\u001b[39m\n\u001b[32m----> \u001b[39m\u001b[32m1\u001b[39m tips_sex = \u001b[43mpx\u001b[49m.violin(tips, x = \u001b[33m\"\u001b[39m\u001b[33mtip\u001b[39m\u001b[33m\"\u001b[39m, y = \u001b[33m\"\u001b[39m\u001b[33msex\u001b[39m\u001b[33m\"\u001b[39m)\n\u001b[32m      2\u001b[39m tips_sex.write_image(\u001b[33m\"\u001b[39m\u001b[33moutputs/tips by sex.png\u001b[39m\u001b[33m\"\u001b[39m)\n",
      "\u001b[31mNameError\u001b[39m: name 'px' is not defined"
     ]
    }
   ],
   "source": [
    "tips_sex = px.violin(tips, x = \"tip\", y = \"sex\")\n",
    "tips_sex.write_image(\"outputs/tips by sex.png\")"
   ]
  },
  {
   "cell_type": "code",
   "execution_count": null,
   "id": "bcd25c94-d64a-4003-8ac5-5987fc71d7c1",
   "metadata": {
    "vscode": {
     "languageId": "quarto"
    }
   },
   "outputs": [
    {
     "data": {
      "text/html": [
       "<table id=\"itables_1398d827_fa7b_44e1_884b_4e897bcd3234\" class=\"display nowrap\" data-quarto-disable-processing=\"true\" style=\"table-layout:auto;width:auto;margin:auto;caption-side:bottom\">\n",
       "<thead>\n",
       "    <tr style=\"text-align: right;\">\n",
       "      \n",
       "      <th>total_bill</th>\n",
       "      <th>tip</th>\n",
       "      <th>sex</th>\n",
       "      <th>smoker</th>\n",
       "      <th>day</th>\n",
       "      <th>time</th>\n",
       "      <th>size</th>\n",
       "    </tr>\n",
       "  </thead><tbody><tr>\n",
       "<td style=\"vertical-align:middle; text-align:left\">\n",
       "<a href=https://mwouts.github.io/itables/><svg class=\"main-svg\" xmlns=\"http://www.w3.org/2000/svg\" xmlns:xlink=\"http://www.w3.org/1999/xlink\"\n",
       "width=\"64\" viewBox=\"0 0 500 400\" style=\"font-family: 'Droid Sans', sans-serif;\">\n",
       "    <g style=\"fill:#d9d7fc\">\n",
       "        <path d=\"M100,400H500V357H100Z\" />\n",
       "        <path d=\"M100,300H400V257H100Z\" />\n",
       "        <path d=\"M0,200H400V157H0Z\" />\n",
       "        <path d=\"M100,100H500V57H100Z\" />\n",
       "        <path d=\"M100,350H500V307H100Z\" />\n",
       "        <path d=\"M100,250H400V207H100Z\" />\n",
       "        <path d=\"M0,150H400V107H0Z\" />\n",
       "        <path d=\"M100,50H500V7H100Z\" />\n",
       "    </g>\n",
       "    <g style=\"fill:#1a1366;stroke:#1a1366;\">\n",
       "   <rect x=\"100\" y=\"7\" width=\"400\" height=\"43\">\n",
       "    <animate\n",
       "      attributeName=\"width\"\n",
       "      values=\"0;400;0\"\n",
       "      dur=\"5s\"\n",
       "      repeatCount=\"indefinite\" />\n",
       "      <animate\n",
       "      attributeName=\"x\"\n",
       "      values=\"100;100;500\"\n",
       "      dur=\"5s\"\n",
       "      repeatCount=\"indefinite\" />\n",
       "  </rect>\n",
       "        <rect x=\"0\" y=\"107\" width=\"400\" height=\"43\">\n",
       "    <animate\n",
       "      attributeName=\"width\"\n",
       "      values=\"0;400;0\"\n",
       "      dur=\"3.5s\"\n",
       "      repeatCount=\"indefinite\" />\n",
       "    <animate\n",
       "      attributeName=\"x\"\n",
       "      values=\"0;0;400\"\n",
       "      dur=\"3.5s\"\n",
       "      repeatCount=\"indefinite\" />\n",
       "  </rect>\n",
       "        <rect x=\"100\" y=\"207\" width=\"300\" height=\"43\">\n",
       "    <animate\n",
       "      attributeName=\"width\"\n",
       "      values=\"0;300;0\"\n",
       "      dur=\"3s\"\n",
       "      repeatCount=\"indefinite\" />\n",
       "    <animate\n",
       "      attributeName=\"x\"\n",
       "      values=\"100;100;400\"\n",
       "      dur=\"3s\"\n",
       "      repeatCount=\"indefinite\" />\n",
       "  </rect>\n",
       "        <rect x=\"100\" y=\"307\" width=\"400\" height=\"43\">\n",
       "    <animate\n",
       "      attributeName=\"width\"\n",
       "      values=\"0;400;0\"\n",
       "      dur=\"4s\"\n",
       "      repeatCount=\"indefinite\" />\n",
       "      <animate\n",
       "      attributeName=\"x\"\n",
       "      values=\"100;100;500\"\n",
       "      dur=\"4s\"\n",
       "      repeatCount=\"indefinite\" />\n",
       "  </rect>\n",
       "        <g style=\"fill:transparent;stroke-width:8; stroke-linejoin:round\" rx=\"5\">\n",
       "            <g transform=\"translate(45 50) rotate(-45)\">\n",
       "                <circle r=\"33\" cx=\"0\" cy=\"0\" />\n",
       "                <rect x=\"-8\" y=\"32\" width=\"16\" height=\"30\" />\n",
       "            </g>\n",
       "\n",
       "            <g transform=\"translate(450 152)\">\n",
       "                <polyline points=\"-15,-20 -35,-20 -35,40 25,40 25,20\" />\n",
       "                <rect x=\"-15\" y=\"-40\" width=\"60\" height=\"60\" />\n",
       "            </g>\n",
       "\n",
       "            <g transform=\"translate(50 352)\">\n",
       "                <polygon points=\"-35,-5 0,-40 35,-5\" />\n",
       "                <polygon points=\"-35,10 0,45 35,10\" />\n",
       "            </g>\n",
       "\n",
       "            <g transform=\"translate(75 250)\">\n",
       "                <polyline points=\"-30,30 -60,0 -30,-30\" />\n",
       "                <polyline points=\"0,30 -30,0 0,-30\" />\n",
       "            </g>\n",
       "\n",
       "            <g transform=\"translate(425 250) rotate(180)\">\n",
       "                <polyline points=\"-30,30 -60,0 -30,-30\" />\n",
       "                <polyline points=\"0,30 -30,0 0,-30\" />\n",
       "            </g>\n",
       "        </g>\n",
       "    </g>\n",
       "</svg>\n",
       "</a>\n",
       "Loading ITables v2.3.0 from the internet...\n",
       "(need <a href=https://mwouts.github.io/itables/troubleshooting.html>help</a>?)</td>\n",
       "</tr></tbody>\n",
       "</table>\n",
       "<link href=\"https://www.unpkg.com/dt_for_itables@2.2.0/dt_bundle.css\" rel=\"stylesheet\">\n",
       "<script type=\"module\">\n",
       "    import {DataTable, jQuery as $} from 'https://www.unpkg.com/dt_for_itables@2.2.0/dt_bundle.js';\n",
       "\n",
       "    document.querySelectorAll(\"#itables_1398d827_fa7b_44e1_884b_4e897bcd3234:not(.dataTable)\").forEach(table => {\n",
       "        if (!(table instanceof HTMLTableElement))\n",
       "            return;\n",
       "\n",
       "        // Define the table data\n",
       "        const data = [[16.99, 1.01, \"Female\", \"No\", \"Sun\", \"Dinner\", 2], [10.34, 1.66, \"Male\", \"No\", \"Sun\", \"Dinner\", 3], [21.01, 3.5, \"Male\", \"No\", \"Sun\", \"Dinner\", 3], [23.68, 3.31, \"Male\", \"No\", \"Sun\", \"Dinner\", 2], [24.59, 3.61, \"Female\", \"No\", \"Sun\", \"Dinner\", 4], [25.29, 4.71, \"Male\", \"No\", \"Sun\", \"Dinner\", 4], [8.77, 2.0, \"Male\", \"No\", \"Sun\", \"Dinner\", 2], [26.88, 3.12, \"Male\", \"No\", \"Sun\", \"Dinner\", 4], [15.04, 1.96, \"Male\", \"No\", \"Sun\", \"Dinner\", 2], [14.78, 3.23, \"Male\", \"No\", \"Sun\", \"Dinner\", 2], [10.27, 1.71, \"Male\", \"No\", \"Sun\", \"Dinner\", 2], [35.26, 5.0, \"Female\", \"No\", \"Sun\", \"Dinner\", 4], [15.42, 1.57, \"Male\", \"No\", \"Sun\", \"Dinner\", 2], [18.43, 3.0, \"Male\", \"No\", \"Sun\", \"Dinner\", 4], [14.83, 3.02, \"Female\", \"No\", \"Sun\", \"Dinner\", 2], [21.58, 3.92, \"Male\", \"No\", \"Sun\", \"Dinner\", 2], [10.33, 1.67, \"Female\", \"No\", \"Sun\", \"Dinner\", 3], [16.29, 3.71, \"Male\", \"No\", \"Sun\", \"Dinner\", 3], [16.97, 3.5, \"Female\", \"No\", \"Sun\", \"Dinner\", 3], [20.65, 3.35, \"Male\", \"No\", \"Sat\", \"Dinner\", 3], [17.92, 4.08, \"Male\", \"No\", \"Sat\", \"Dinner\", 2], [20.29, 2.75, \"Female\", \"No\", \"Sat\", \"Dinner\", 2], [15.77, 2.23, \"Female\", \"No\", \"Sat\", \"Dinner\", 2], [39.42, 7.58, \"Male\", \"No\", \"Sat\", \"Dinner\", 4], [19.82, 3.18, \"Male\", \"No\", \"Sat\", \"Dinner\", 2], [17.81, 2.34, \"Male\", \"No\", \"Sat\", \"Dinner\", 4], [13.37, 2.0, \"Male\", \"No\", \"Sat\", \"Dinner\", 2], [12.69, 2.0, \"Male\", \"No\", \"Sat\", \"Dinner\", 2], [21.7, 4.3, \"Male\", \"No\", \"Sat\", \"Dinner\", 2], [19.65, 3.0, \"Female\", \"No\", \"Sat\", \"Dinner\", 2], [9.55, 1.45, \"Male\", \"No\", \"Sat\", \"Dinner\", 2], [18.35, 2.5, \"Male\", \"No\", \"Sat\", \"Dinner\", 4], [15.06, 3.0, \"Female\", \"No\", \"Sat\", \"Dinner\", 2], [20.69, 2.45, \"Female\", \"No\", \"Sat\", \"Dinner\", 4], [17.78, 3.27, \"Male\", \"No\", \"Sat\", \"Dinner\", 2], [24.06, 3.6, \"Male\", \"No\", \"Sat\", \"Dinner\", 3], [16.31, 2.0, \"Male\", \"No\", \"Sat\", \"Dinner\", 3], [16.93, 3.07, \"Female\", \"No\", \"Sat\", \"Dinner\", 3], [18.69, 2.31, \"Male\", \"No\", \"Sat\", \"Dinner\", 3], [31.27, 5.0, \"Male\", \"No\", \"Sat\", \"Dinner\", 3], [16.04, 2.24, \"Male\", \"No\", \"Sat\", \"Dinner\", 3], [17.46, 2.54, \"Male\", \"No\", \"Sun\", \"Dinner\", 2], [13.94, 3.06, \"Male\", \"No\", \"Sun\", \"Dinner\", 2], [9.68, 1.32, \"Male\", \"No\", \"Sun\", \"Dinner\", 2], [30.4, 5.6, \"Male\", \"No\", \"Sun\", \"Dinner\", 4], [18.29, 3.0, \"Male\", \"No\", \"Sun\", \"Dinner\", 2], [22.23, 5.0, \"Male\", \"No\", \"Sun\", \"Dinner\", 2], [32.4, 6.0, \"Male\", \"No\", \"Sun\", \"Dinner\", 4], [28.55, 2.05, \"Male\", \"No\", \"Sun\", \"Dinner\", 3], [18.04, 3.0, \"Male\", \"No\", \"Sun\", \"Dinner\", 2], [12.54, 2.5, \"Male\", \"No\", \"Sun\", \"Dinner\", 2], [10.29, 2.6, \"Female\", \"No\", \"Sun\", \"Dinner\", 2], [34.81, 5.2, \"Female\", \"No\", \"Sun\", \"Dinner\", 4], [9.94, 1.56, \"Male\", \"No\", \"Sun\", \"Dinner\", 2], [25.56, 4.34, \"Male\", \"No\", \"Sun\", \"Dinner\", 4], [19.49, 3.51, \"Male\", \"No\", \"Sun\", \"Dinner\", 2], [38.01, 3.0, \"Male\", \"Yes\", \"Sat\", \"Dinner\", 4], [26.41, 1.5, \"Female\", \"No\", \"Sat\", \"Dinner\", 2], [11.24, 1.76, \"Male\", \"Yes\", \"Sat\", \"Dinner\", 2], [48.27, 6.73, \"Male\", \"No\", \"Sat\", \"Dinner\", 4], [20.29, 3.21, \"Male\", \"Yes\", \"Sat\", \"Dinner\", 2], [13.81, 2.0, \"Male\", \"Yes\", \"Sat\", \"Dinner\", 2], [11.02, 1.98, \"Male\", \"Yes\", \"Sat\", \"Dinner\", 2], [18.29, 3.76, \"Male\", \"Yes\", \"Sat\", \"Dinner\", 4], [17.59, 2.64, \"Male\", \"No\", \"Sat\", \"Dinner\", 3], [20.08, 3.15, \"Male\", \"No\", \"Sat\", \"Dinner\", 3], [16.45, 2.47, \"Female\", \"No\", \"Sat\", \"Dinner\", 2], [3.07, 1.0, \"Female\", \"Yes\", \"Sat\", \"Dinner\", 1], [20.23, 2.01, \"Male\", \"No\", \"Sat\", \"Dinner\", 2], [15.01, 2.09, \"Male\", \"Yes\", \"Sat\", \"Dinner\", 2], [12.02, 1.97, \"Male\", \"No\", \"Sat\", \"Dinner\", 2], [17.07, 3.0, \"Female\", \"No\", \"Sat\", \"Dinner\", 3], [26.86, 3.14, \"Female\", \"Yes\", \"Sat\", \"Dinner\", 2], [25.28, 5.0, \"Female\", \"Yes\", \"Sat\", \"Dinner\", 2], [14.73, 2.2, \"Female\", \"No\", \"Sat\", \"Dinner\", 2], [10.51, 1.25, \"Male\", \"No\", \"Sat\", \"Dinner\", 2], [17.92, 3.08, \"Male\", \"Yes\", \"Sat\", \"Dinner\", 2], [27.2, 4.0, \"Male\", \"No\", \"Thur\", \"Lunch\", 4], [22.76, 3.0, \"Male\", \"No\", \"Thur\", \"Lunch\", 2], [17.29, 2.71, \"Male\", \"No\", \"Thur\", \"Lunch\", 2], [19.44, 3.0, \"Male\", \"Yes\", \"Thur\", \"Lunch\", 2], [16.66, 3.4, \"Male\", \"No\", \"Thur\", \"Lunch\", 2], [10.07, 1.83, \"Female\", \"No\", \"Thur\", \"Lunch\", 1], [32.68, 5.0, \"Male\", \"Yes\", \"Thur\", \"Lunch\", 2], [15.98, 2.03, \"Male\", \"No\", \"Thur\", \"Lunch\", 2], [34.83, 5.17, \"Female\", \"No\", \"Thur\", \"Lunch\", 4], [13.03, 2.0, \"Male\", \"No\", \"Thur\", \"Lunch\", 2], [18.28, 4.0, \"Male\", \"No\", \"Thur\", \"Lunch\", 2], [24.71, 5.85, \"Male\", \"No\", \"Thur\", \"Lunch\", 2], [21.16, 3.0, \"Male\", \"No\", \"Thur\", \"Lunch\", 2], [28.97, 3.0, \"Male\", \"Yes\", \"Fri\", \"Dinner\", 2], [22.49, 3.5, \"Male\", \"No\", \"Fri\", \"Dinner\", 2], [5.75, 1.0, \"Female\", \"Yes\", \"Fri\", \"Dinner\", 2], [16.32, 4.3, \"Female\", \"Yes\", \"Fri\", \"Dinner\", 2], [22.75, 3.25, \"Female\", \"No\", \"Fri\", \"Dinner\", 2], [40.17, 4.73, \"Male\", \"Yes\", \"Fri\", \"Dinner\", 4], [27.28, 4.0, \"Male\", \"Yes\", \"Fri\", \"Dinner\", 2], [12.03, 1.5, \"Male\", \"Yes\", \"Fri\", \"Dinner\", 2], [21.01, 3.0, \"Male\", \"Yes\", \"Fri\", \"Dinner\", 2], [12.46, 1.5, \"Male\", \"No\", \"Fri\", \"Dinner\", 2], [11.35, 2.5, \"Female\", \"Yes\", \"Fri\", \"Dinner\", 2], [15.38, 3.0, \"Female\", \"Yes\", \"Fri\", \"Dinner\", 2], [44.3, 2.5, \"Female\", \"Yes\", \"Sat\", \"Dinner\", 3], [22.42, 3.48, \"Female\", \"Yes\", \"Sat\", \"Dinner\", 2], [20.92, 4.08, \"Female\", \"No\", \"Sat\", \"Dinner\", 2], [15.36, 1.64, \"Male\", \"Yes\", \"Sat\", \"Dinner\", 2], [20.49, 4.06, \"Male\", \"Yes\", \"Sat\", \"Dinner\", 2], [25.21, 4.29, \"Male\", \"Yes\", \"Sat\", \"Dinner\", 2], [18.24, 3.76, \"Male\", \"No\", \"Sat\", \"Dinner\", 2], [14.31, 4.0, \"Female\", \"Yes\", \"Sat\", \"Dinner\", 2], [14.0, 3.0, \"Male\", \"No\", \"Sat\", \"Dinner\", 2], [7.25, 1.0, \"Female\", \"No\", \"Sat\", \"Dinner\", 1], [38.07, 4.0, \"Male\", \"No\", \"Sun\", \"Dinner\", 3], [23.95, 2.55, \"Male\", \"No\", \"Sun\", \"Dinner\", 2], [25.71, 4.0, \"Female\", \"No\", \"Sun\", \"Dinner\", 3], [17.31, 3.5, \"Female\", \"No\", \"Sun\", \"Dinner\", 2], [29.93, 5.07, \"Male\", \"No\", \"Sun\", \"Dinner\", 4], [10.65, 1.5, \"Female\", \"No\", \"Thur\", \"Lunch\", 2], [12.43, 1.8, \"Female\", \"No\", \"Thur\", \"Lunch\", 2], [24.08, 2.92, \"Female\", \"No\", \"Thur\", \"Lunch\", 4], [11.69, 2.31, \"Male\", \"No\", \"Thur\", \"Lunch\", 2], [13.42, 1.68, \"Female\", \"No\", \"Thur\", \"Lunch\", 2], [14.26, 2.5, \"Male\", \"No\", \"Thur\", \"Lunch\", 2], [15.95, 2.0, \"Male\", \"No\", \"Thur\", \"Lunch\", 2], [12.48, 2.52, \"Female\", \"No\", \"Thur\", \"Lunch\", 2], [29.8, 4.2, \"Female\", \"No\", \"Thur\", \"Lunch\", 6], [8.52, 1.48, \"Male\", \"No\", \"Thur\", \"Lunch\", 2], [14.52, 2.0, \"Female\", \"No\", \"Thur\", \"Lunch\", 2], [11.38, 2.0, \"Female\", \"No\", \"Thur\", \"Lunch\", 2], [22.82, 2.18, \"Male\", \"No\", \"Thur\", \"Lunch\", 3], [19.08, 1.5, \"Male\", \"No\", \"Thur\", \"Lunch\", 2], [20.27, 2.83, \"Female\", \"No\", \"Thur\", \"Lunch\", 2], [11.17, 1.5, \"Female\", \"No\", \"Thur\", \"Lunch\", 2], [12.26, 2.0, \"Female\", \"No\", \"Thur\", \"Lunch\", 2], [18.26, 3.25, \"Female\", \"No\", \"Thur\", \"Lunch\", 2], [8.51, 1.25, \"Female\", \"No\", \"Thur\", \"Lunch\", 2], [10.33, 2.0, \"Female\", \"No\", \"Thur\", \"Lunch\", 2], [14.15, 2.0, \"Female\", \"No\", \"Thur\", \"Lunch\", 2], [16.0, 2.0, \"Male\", \"Yes\", \"Thur\", \"Lunch\", 2], [13.16, 2.75, \"Female\", \"No\", \"Thur\", \"Lunch\", 2], [17.47, 3.5, \"Female\", \"No\", \"Thur\", \"Lunch\", 2], [34.3, 6.7, \"Male\", \"No\", \"Thur\", \"Lunch\", 6], [41.19, 5.0, \"Male\", \"No\", \"Thur\", \"Lunch\", 5], [27.05, 5.0, \"Female\", \"No\", \"Thur\", \"Lunch\", 6], [16.43, 2.3, \"Female\", \"No\", \"Thur\", \"Lunch\", 2], [8.35, 1.5, \"Female\", \"No\", \"Thur\", \"Lunch\", 2], [18.64, 1.36, \"Female\", \"No\", \"Thur\", \"Lunch\", 3], [11.87, 1.63, \"Female\", \"No\", \"Thur\", \"Lunch\", 2], [9.78, 1.73, \"Male\", \"No\", \"Thur\", \"Lunch\", 2], [7.51, 2.0, \"Male\", \"No\", \"Thur\", \"Lunch\", 2], [14.07, 2.5, \"Male\", \"No\", \"Sun\", \"Dinner\", 2], [13.13, 2.0, \"Male\", \"No\", \"Sun\", \"Dinner\", 2], [17.26, 2.74, \"Male\", \"No\", \"Sun\", \"Dinner\", 3], [24.55, 2.0, \"Male\", \"No\", \"Sun\", \"Dinner\", 4], [19.77, 2.0, \"Male\", \"No\", \"Sun\", \"Dinner\", 4], [29.85, 5.14, \"Female\", \"No\", \"Sun\", \"Dinner\", 5], [48.17, 5.0, \"Male\", \"No\", \"Sun\", \"Dinner\", 6], [25.0, 3.75, \"Female\", \"No\", \"Sun\", \"Dinner\", 4], [13.39, 2.61, \"Female\", \"No\", \"Sun\", \"Dinner\", 2], [16.49, 2.0, \"Male\", \"No\", \"Sun\", \"Dinner\", 4], [21.5, 3.5, \"Male\", \"No\", \"Sun\", \"Dinner\", 4], [12.66, 2.5, \"Male\", \"No\", \"Sun\", \"Dinner\", 2], [16.21, 2.0, \"Female\", \"No\", \"Sun\", \"Dinner\", 3], [13.81, 2.0, \"Male\", \"No\", \"Sun\", \"Dinner\", 2], [17.51, 3.0, \"Female\", \"Yes\", \"Sun\", \"Dinner\", 2], [24.52, 3.48, \"Male\", \"No\", \"Sun\", \"Dinner\", 3], [20.76, 2.24, \"Male\", \"No\", \"Sun\", \"Dinner\", 2], [31.71, 4.5, \"Male\", \"No\", \"Sun\", \"Dinner\", 4], [10.59, 1.61, \"Female\", \"Yes\", \"Sat\", \"Dinner\", 2], [10.63, 2.0, \"Female\", \"Yes\", \"Sat\", \"Dinner\", 2], [50.81, 10.0, \"Male\", \"Yes\", \"Sat\", \"Dinner\", 3], [15.81, 3.16, \"Male\", \"Yes\", \"Sat\", \"Dinner\", 2], [7.25, 5.15, \"Male\", \"Yes\", \"Sun\", \"Dinner\", 2], [31.85, 3.18, \"Male\", \"Yes\", \"Sun\", \"Dinner\", 2], [16.82, 4.0, \"Male\", \"Yes\", \"Sun\", \"Dinner\", 2], [32.9, 3.11, \"Male\", \"Yes\", \"Sun\", \"Dinner\", 2], [17.89, 2.0, \"Male\", \"Yes\", \"Sun\", \"Dinner\", 2], [14.48, 2.0, \"Male\", \"Yes\", \"Sun\", \"Dinner\", 2], [9.6, 4.0, \"Female\", \"Yes\", \"Sun\", \"Dinner\", 2], [34.63, 3.55, \"Male\", \"Yes\", \"Sun\", \"Dinner\", 2], [34.65, 3.68, \"Male\", \"Yes\", \"Sun\", \"Dinner\", 4], [23.33, 5.65, \"Male\", \"Yes\", \"Sun\", \"Dinner\", 2], [45.35, 3.5, \"Male\", \"Yes\", \"Sun\", \"Dinner\", 3], [23.17, 6.5, \"Male\", \"Yes\", \"Sun\", \"Dinner\", 4], [40.55, 3.0, \"Male\", \"Yes\", \"Sun\", \"Dinner\", 2], [20.69, 5.0, \"Male\", \"No\", \"Sun\", \"Dinner\", 5], [20.9, 3.5, \"Female\", \"Yes\", \"Sun\", \"Dinner\", 3], [30.46, 2.0, \"Male\", \"Yes\", \"Sun\", \"Dinner\", 5], [18.15, 3.5, \"Female\", \"Yes\", \"Sun\", \"Dinner\", 3], [23.1, 4.0, \"Male\", \"Yes\", \"Sun\", \"Dinner\", 3], [15.69, 1.5, \"Male\", \"Yes\", \"Sun\", \"Dinner\", 2], [19.81, 4.19, \"Female\", \"Yes\", \"Thur\", \"Lunch\", 2], [28.44, 2.56, \"Male\", \"Yes\", \"Thur\", \"Lunch\", 2], [15.48, 2.02, \"Male\", \"Yes\", \"Thur\", \"Lunch\", 2], [16.58, 4.0, \"Male\", \"Yes\", \"Thur\", \"Lunch\", 2], [7.56, 1.44, \"Male\", \"No\", \"Thur\", \"Lunch\", 2], [10.34, 2.0, \"Male\", \"Yes\", \"Thur\", \"Lunch\", 2], [43.11, 5.0, \"Female\", \"Yes\", \"Thur\", \"Lunch\", 4], [13.0, 2.0, \"Female\", \"Yes\", \"Thur\", \"Lunch\", 2], [13.51, 2.0, \"Male\", \"Yes\", \"Thur\", \"Lunch\", 2], [18.71, 4.0, \"Male\", \"Yes\", \"Thur\", \"Lunch\", 3], [12.74, 2.01, \"Female\", \"Yes\", \"Thur\", \"Lunch\", 2], [13.0, 2.0, \"Female\", \"Yes\", \"Thur\", \"Lunch\", 2], [16.4, 2.5, \"Female\", \"Yes\", \"Thur\", \"Lunch\", 2], [20.53, 4.0, \"Male\", \"Yes\", \"Thur\", \"Lunch\", 4], [16.47, 3.23, \"Female\", \"Yes\", \"Thur\", \"Lunch\", 3], [26.59, 3.41, \"Male\", \"Yes\", \"Sat\", \"Dinner\", 3], [38.73, 3.0, \"Male\", \"Yes\", \"Sat\", \"Dinner\", 4], [24.27, 2.03, \"Male\", \"Yes\", \"Sat\", \"Dinner\", 2], [12.76, 2.23, \"Female\", \"Yes\", \"Sat\", \"Dinner\", 2], [30.06, 2.0, \"Male\", \"Yes\", \"Sat\", \"Dinner\", 3], [25.89, 5.16, \"Male\", \"Yes\", \"Sat\", \"Dinner\", 4], [48.33, 9.0, \"Male\", \"No\", \"Sat\", \"Dinner\", 4], [13.27, 2.5, \"Female\", \"Yes\", \"Sat\", \"Dinner\", 2], [28.17, 6.5, \"Female\", \"Yes\", \"Sat\", \"Dinner\", 3], [12.9, 1.1, \"Female\", \"Yes\", \"Sat\", \"Dinner\", 2], [28.15, 3.0, \"Male\", \"Yes\", \"Sat\", \"Dinner\", 5], [11.59, 1.5, \"Male\", \"Yes\", \"Sat\", \"Dinner\", 2], [7.74, 1.44, \"Male\", \"Yes\", \"Sat\", \"Dinner\", 2], [30.14, 3.09, \"Female\", \"Yes\", \"Sat\", \"Dinner\", 4], [12.16, 2.2, \"Male\", \"Yes\", \"Fri\", \"Lunch\", 2], [13.42, 3.48, \"Female\", \"Yes\", \"Fri\", \"Lunch\", 2], [8.58, 1.92, \"Male\", \"Yes\", \"Fri\", \"Lunch\", 1], [15.98, 3.0, \"Female\", \"No\", \"Fri\", \"Lunch\", 3], [13.42, 1.58, \"Male\", \"Yes\", \"Fri\", \"Lunch\", 2], [16.27, 2.5, \"Female\", \"Yes\", \"Fri\", \"Lunch\", 2], [10.09, 2.0, \"Female\", \"Yes\", \"Fri\", \"Lunch\", 2], [20.45, 3.0, \"Male\", \"No\", \"Sat\", \"Dinner\", 4], [13.28, 2.72, \"Male\", \"No\", \"Sat\", \"Dinner\", 2], [22.12, 2.88, \"Female\", \"Yes\", \"Sat\", \"Dinner\", 2], [24.01, 2.0, \"Male\", \"Yes\", \"Sat\", \"Dinner\", 4], [15.69, 3.0, \"Male\", \"Yes\", \"Sat\", \"Dinner\", 3], [11.61, 3.39, \"Male\", \"No\", \"Sat\", \"Dinner\", 2], [10.77, 1.47, \"Male\", \"No\", \"Sat\", \"Dinner\", 2], [15.53, 3.0, \"Male\", \"Yes\", \"Sat\", \"Dinner\", 2], [10.07, 1.25, \"Male\", \"No\", \"Sat\", \"Dinner\", 2], [12.6, 1.0, \"Male\", \"Yes\", \"Sat\", \"Dinner\", 2], [32.83, 1.17, \"Male\", \"Yes\", \"Sat\", \"Dinner\", 2], [35.83, 4.67, \"Female\", \"No\", \"Sat\", \"Dinner\", 3], [29.03, 5.92, \"Male\", \"No\", \"Sat\", \"Dinner\", 3], [27.18, 2.0, \"Female\", \"Yes\", \"Sat\", \"Dinner\", 2], [22.67, 2.0, \"Male\", \"Yes\", \"Sat\", \"Dinner\", 2], [17.82, 1.75, \"Male\", \"No\", \"Sat\", \"Dinner\", 2], [18.78, 3.0, \"Female\", \"No\", \"Thur\", \"Dinner\", 2]];\n",
       "\n",
       "        // Define the dt_args\n",
       "        let dt_args = {\"layout\": {\"topStart\": \"pageLength\", \"topEnd\": \"search\", \"bottomStart\": \"info\", \"bottomEnd\": \"paging\"}, \"order\": [], \"warn_on_selected_rows_not_rendered\": true};\n",
       "        dt_args[\"data\"] = data;\n",
       "\n",
       "        \n",
       "        new DataTable(table, dt_args);\n",
       "    });\n",
       "</script>\n"
      ],
      "text/plain": [
       "<IPython.core.display.HTML object>"
      ]
     },
     "metadata": {},
     "output_type": "display_data"
    }
   ],
   "source": [
    "import plotly.express as px\n",
    "from itables import show\n",
    "\n",
    "tips = px.data.tips()\n",
    "show(tips)"
   ]
  },
  {
   "cell_type": "code",
   "execution_count": null,
   "id": "25a6ec2a-7791-4d30-affe-1de653e6868a",
   "metadata": {
    "vscode": {
     "languageId": "quarto"
    }
   },
   "outputs": [
    {
     "data": {
      "application/vnd.plotly.v1+json": {
       "config": {
        "plotlyServerURL": "https://plot.ly"
       },
       "data": [
        {
         "alignmentgroup": "True",
         "box": {
          "visible": false
         },
         "hovertemplate": "tip=%{x}<br>sex=%{y}<extra></extra>",
         "legendgroup": "",
         "marker": {
          "color": "#636efa"
         },
         "name": "",
         "offsetgroup": "",
         "orientation": "h",
         "scalegroup": "True",
         "showlegend": false,
         "type": "violin",
         "x": {
          "bdata": "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",
          "dtype": "f8"
         },
         "x0": " ",
         "xaxis": "x",
         "y": [
          "Female",
          "Male",
          "Male",
          "Male",
          "Female",
          "Male",
          "Male",
          "Male",
          "Male",
          "Male",
          "Male",
          "Female",
          "Male",
          "Male",
          "Female",
          "Male",
          "Female",
          "Male",
          "Female",
          "Male",
          "Male",
          "Female",
          "Female",
          "Male",
          "Male",
          "Male",
          "Male",
          "Male",
          "Male",
          "Female",
          "Male",
          "Male",
          "Female",
          "Female",
          "Male",
          "Male",
          "Male",
          "Female",
          "Male",
          "Male",
          "Male",
          "Male",
          "Male",
          "Male",
          "Male",
          "Male",
          "Male",
          "Male",
          "Male",
          "Male",
          "Male",
          "Female",
          "Female",
          "Male",
          "Male",
          "Male",
          "Male",
          "Female",
          "Male",
          "Male",
          "Male",
          "Male",
          "Male",
          "Male",
          "Male",
          "Male",
          "Female",
          "Female",
          "Male",
          "Male",
          "Male",
          "Female",
          "Female",
          "Female",
          "Female",
          "Male",
          "Male",
          "Male",
          "Male",
          "Male",
          "Male",
          "Male",
          "Female",
          "Male",
          "Male",
          "Female",
          "Male",
          "Male",
          "Male",
          "Male",
          "Male",
          "Male",
          "Female",
          "Female",
          "Female",
          "Male",
          "Male",
          "Male",
          "Male",
          "Male",
          "Female",
          "Female",
          "Female",
          "Female",
          "Female",
          "Male",
          "Male",
          "Male",
          "Male",
          "Female",
          "Male",
          "Female",
          "Male",
          "Male",
          "Female",
          "Female",
          "Male",
          "Female",
          "Female",
          "Female",
          "Male",
          "Female",
          "Male",
          "Male",
          "Female",
          "Female",
          "Male",
          "Female",
          "Female",
          "Male",
          "Male",
          "Female",
          "Female",
          "Female",
          "Female",
          "Female",
          "Female",
          "Female",
          "Male",
          "Female",
          "Female",
          "Male",
          "Male",
          "Female",
          "Female",
          "Female",
          "Female",
          "Female",
          "Male",
          "Male",
          "Male",
          "Male",
          "Male",
          "Male",
          "Male",
          "Female",
          "Male",
          "Female",
          "Female",
          "Male",
          "Male",
          "Male",
          "Female",
          "Male",
          "Female",
          "Male",
          "Male",
          "Male",
          "Female",
          "Female",
          "Male",
          "Male",
          "Male",
          "Male",
          "Male",
          "Male",
          "Male",
          "Male",
          "Female",
          "Male",
          "Male",
          "Male",
          "Male",
          "Male",
          "Male",
          "Male",
          "Female",
          "Male",
          "Female",
          "Male",
          "Male",
          "Female",
          "Male",
          "Male",
          "Male",
          "Male",
          "Male",
          "Female",
          "Female",
          "Male",
          "Male",
          "Female",
          "Female",
          "Female",
          "Male",
          "Female",
          "Male",
          "Male",
          "Male",
          "Female",
          "Male",
          "Male",
          "Male",
          "Female",
          "Female",
          "Female",
          "Male",
          "Male",
          "Male",
          "Female",
          "Male",
          "Female",
          "Male",
          "Female",
          "Male",
          "Female",
          "Female",
          "Male",
          "Male",
          "Female",
          "Male",
          "Male",
          "Male",
          "Male",
          "Male",
          "Male",
          "Male",
          "Male",
          "Female",
          "Male",
          "Female",
          "Male",
          "Male",
          "Female"
         ],
         "y0": " ",
         "yaxis": "y"
        }
       ],
       "layout": {
        "legend": {
         "tracegroupgap": 0
        },
        "margin": {
         "t": 60
        },
        "template": {
         "data": {
          "bar": [
           {
            "error_x": {
             "color": "#2a3f5f"
            },
            "error_y": {
             "color": "#2a3f5f"
            },
            "marker": {
             "line": {
              "color": "#E5ECF6",
              "width": 0.5
             },
             "pattern": {
              "fillmode": "overlay",
              "size": 10,
              "solidity": 0.2
             }
            },
            "type": "bar"
           }
          ],
          "barpolar": [
           {
            "marker": {
             "line": {
              "color": "#E5ECF6",
              "width": 0.5
             },
             "pattern": {
              "fillmode": "overlay",
              "size": 10,
              "solidity": 0.2
             }
            },
            "type": "barpolar"
           }
          ],
          "carpet": [
           {
            "aaxis": {
             "endlinecolor": "#2a3f5f",
             "gridcolor": "white",
             "linecolor": "white",
             "minorgridcolor": "white",
             "startlinecolor": "#2a3f5f"
            },
            "baxis": {
             "endlinecolor": "#2a3f5f",
             "gridcolor": "white",
             "linecolor": "white",
             "minorgridcolor": "white",
             "startlinecolor": "#2a3f5f"
            },
            "type": "carpet"
           }
          ],
          "choropleth": [
           {
            "colorbar": {
             "outlinewidth": 0,
             "ticks": ""
            },
            "type": "choropleth"
           }
          ],
          "contour": [
           {
            "colorbar": {
             "outlinewidth": 0,
             "ticks": ""
            },
            "colorscale": [
             [
              0,
              "#0d0887"
             ],
             [
              0.1111111111111111,
              "#46039f"
             ],
             [
              0.2222222222222222,
              "#7201a8"
             ],
             [
              0.3333333333333333,
              "#9c179e"
             ],
             [
              0.4444444444444444,
              "#bd3786"
             ],
             [
              0.5555555555555556,
              "#d8576b"
             ],
             [
              0.6666666666666666,
              "#ed7953"
             ],
             [
              0.7777777777777778,
              "#fb9f3a"
             ],
             [
              0.8888888888888888,
              "#fdca26"
             ],
             [
              1,
              "#f0f921"
             ]
            ],
            "type": "contour"
           }
          ],
          "contourcarpet": [
           {
            "colorbar": {
             "outlinewidth": 0,
             "ticks": ""
            },
            "type": "contourcarpet"
           }
          ],
          "heatmap": [
           {
            "colorbar": {
             "outlinewidth": 0,
             "ticks": ""
            },
            "colorscale": [
             [
              0,
              "#0d0887"
             ],
             [
              0.1111111111111111,
              "#46039f"
             ],
             [
              0.2222222222222222,
              "#7201a8"
             ],
             [
              0.3333333333333333,
              "#9c179e"
             ],
             [
              0.4444444444444444,
              "#bd3786"
             ],
             [
              0.5555555555555556,
              "#d8576b"
             ],
             [
              0.6666666666666666,
              "#ed7953"
             ],
             [
              0.7777777777777778,
              "#fb9f3a"
             ],
             [
              0.8888888888888888,
              "#fdca26"
             ],
             [
              1,
              "#f0f921"
             ]
            ],
            "type": "heatmap"
           }
          ],
          "histogram": [
           {
            "marker": {
             "pattern": {
              "fillmode": "overlay",
              "size": 10,
              "solidity": 0.2
             }
            },
            "type": "histogram"
           }
          ],
          "histogram2d": [
           {
            "colorbar": {
             "outlinewidth": 0,
             "ticks": ""
            },
            "colorscale": [
             [
              0,
              "#0d0887"
             ],
             [
              0.1111111111111111,
              "#46039f"
             ],
             [
              0.2222222222222222,
              "#7201a8"
             ],
             [
              0.3333333333333333,
              "#9c179e"
             ],
             [
              0.4444444444444444,
              "#bd3786"
             ],
             [
              0.5555555555555556,
              "#d8576b"
             ],
             [
              0.6666666666666666,
              "#ed7953"
             ],
             [
              0.7777777777777778,
              "#fb9f3a"
             ],
             [
              0.8888888888888888,
              "#fdca26"
             ],
             [
              1,
              "#f0f921"
             ]
            ],
            "type": "histogram2d"
           }
          ],
          "histogram2dcontour": [
           {
            "colorbar": {
             "outlinewidth": 0,
             "ticks": ""
            },
            "colorscale": [
             [
              0,
              "#0d0887"
             ],
             [
              0.1111111111111111,
              "#46039f"
             ],
             [
              0.2222222222222222,
              "#7201a8"
             ],
             [
              0.3333333333333333,
              "#9c179e"
             ],
             [
              0.4444444444444444,
              "#bd3786"
             ],
             [
              0.5555555555555556,
              "#d8576b"
             ],
             [
              0.6666666666666666,
              "#ed7953"
             ],
             [
              0.7777777777777778,
              "#fb9f3a"
             ],
             [
              0.8888888888888888,
              "#fdca26"
             ],
             [
              1,
              "#f0f921"
             ]
            ],
            "type": "histogram2dcontour"
           }
          ],
          "mesh3d": [
           {
            "colorbar": {
             "outlinewidth": 0,
             "ticks": ""
            },
            "type": "mesh3d"
           }
          ],
          "parcoords": [
           {
            "line": {
             "colorbar": {
              "outlinewidth": 0,
              "ticks": ""
             }
            },
            "type": "parcoords"
           }
          ],
          "pie": [
           {
            "automargin": true,
            "type": "pie"
           }
          ],
          "scatter": [
           {
            "fillpattern": {
             "fillmode": "overlay",
             "size": 10,
             "solidity": 0.2
            },
            "type": "scatter"
           }
          ],
          "scatter3d": [
           {
            "line": {
             "colorbar": {
              "outlinewidth": 0,
              "ticks": ""
             }
            },
            "marker": {
             "colorbar": {
              "outlinewidth": 0,
              "ticks": ""
             }
            },
            "type": "scatter3d"
           }
          ],
          "scattercarpet": [
           {
            "marker": {
             "colorbar": {
              "outlinewidth": 0,
              "ticks": ""
             }
            },
            "type": "scattercarpet"
           }
          ],
          "scattergeo": [
           {
            "marker": {
             "colorbar": {
              "outlinewidth": 0,
              "ticks": ""
             }
            },
            "type": "scattergeo"
           }
          ],
          "scattergl": [
           {
            "marker": {
             "colorbar": {
              "outlinewidth": 0,
              "ticks": ""
             }
            },
            "type": "scattergl"
           }
          ],
          "scattermap": [
           {
            "marker": {
             "colorbar": {
              "outlinewidth": 0,
              "ticks": ""
             }
            },
            "type": "scattermap"
           }
          ],
          "scattermapbox": [
           {
            "marker": {
             "colorbar": {
              "outlinewidth": 0,
              "ticks": ""
             }
            },
            "type": "scattermapbox"
           }
          ],
          "scatterpolar": [
           {
            "marker": {
             "colorbar": {
              "outlinewidth": 0,
              "ticks": ""
             }
            },
            "type": "scatterpolar"
           }
          ],
          "scatterpolargl": [
           {
            "marker": {
             "colorbar": {
              "outlinewidth": 0,
              "ticks": ""
             }
            },
            "type": "scatterpolargl"
           }
          ],
          "scatterternary": [
           {
            "marker": {
             "colorbar": {
              "outlinewidth": 0,
              "ticks": ""
             }
            },
            "type": "scatterternary"
           }
          ],
          "surface": [
           {
            "colorbar": {
             "outlinewidth": 0,
             "ticks": ""
            },
            "colorscale": [
             [
              0,
              "#0d0887"
             ],
             [
              0.1111111111111111,
              "#46039f"
             ],
             [
              0.2222222222222222,
              "#7201a8"
             ],
             [
              0.3333333333333333,
              "#9c179e"
             ],
             [
              0.4444444444444444,
              "#bd3786"
             ],
             [
              0.5555555555555556,
              "#d8576b"
             ],
             [
              0.6666666666666666,
              "#ed7953"
             ],
             [
              0.7777777777777778,
              "#fb9f3a"
             ],
             [
              0.8888888888888888,
              "#fdca26"
             ],
             [
              1,
              "#f0f921"
             ]
            ],
            "type": "surface"
           }
          ],
          "table": [
           {
            "cells": {
             "fill": {
              "color": "#EBF0F8"
             },
             "line": {
              "color": "white"
             }
            },
            "header": {
             "fill": {
              "color": "#C8D4E3"
             },
             "line": {
              "color": "white"
             }
            },
            "type": "table"
           }
          ]
         },
         "layout": {
          "annotationdefaults": {
           "arrowcolor": "#2a3f5f",
           "arrowhead": 0,
           "arrowwidth": 1
          },
          "autotypenumbers": "strict",
          "coloraxis": {
           "colorbar": {
            "outlinewidth": 0,
            "ticks": ""
           }
          },
          "colorscale": {
           "diverging": [
            [
             0,
             "#8e0152"
            ],
            [
             0.1,
             "#c51b7d"
            ],
            [
             0.2,
             "#de77ae"
            ],
            [
             0.3,
             "#f1b6da"
            ],
            [
             0.4,
             "#fde0ef"
            ],
            [
             0.5,
             "#f7f7f7"
            ],
            [
             0.6,
             "#e6f5d0"
            ],
            [
             0.7,
             "#b8e186"
            ],
            [
             0.8,
             "#7fbc41"
            ],
            [
             0.9,
             "#4d9221"
            ],
            [
             1,
             "#276419"
            ]
           ],
           "sequential": [
            [
             0,
             "#0d0887"
            ],
            [
             0.1111111111111111,
             "#46039f"
            ],
            [
             0.2222222222222222,
             "#7201a8"
            ],
            [
             0.3333333333333333,
             "#9c179e"
            ],
            [
             0.4444444444444444,
             "#bd3786"
            ],
            [
             0.5555555555555556,
             "#d8576b"
            ],
            [
             0.6666666666666666,
             "#ed7953"
            ],
            [
             0.7777777777777778,
             "#fb9f3a"
            ],
            [
             0.8888888888888888,
             "#fdca26"
            ],
            [
             1,
             "#f0f921"
            ]
           ],
           "sequentialminus": [
            [
             0,
             "#0d0887"
            ],
            [
             0.1111111111111111,
             "#46039f"
            ],
            [
             0.2222222222222222,
             "#7201a8"
            ],
            [
             0.3333333333333333,
             "#9c179e"
            ],
            [
             0.4444444444444444,
             "#bd3786"
            ],
            [
             0.5555555555555556,
             "#d8576b"
            ],
            [
             0.6666666666666666,
             "#ed7953"
            ],
            [
             0.7777777777777778,
             "#fb9f3a"
            ],
            [
             0.8888888888888888,
             "#fdca26"
            ],
            [
             1,
             "#f0f921"
            ]
           ]
          },
          "colorway": [
           "#636efa",
           "#EF553B",
           "#00cc96",
           "#ab63fa",
           "#FFA15A",
           "#19d3f3",
           "#FF6692",
           "#B6E880",
           "#FF97FF",
           "#FECB52"
          ],
          "font": {
           "color": "#2a3f5f"
          },
          "geo": {
           "bgcolor": "white",
           "lakecolor": "white",
           "landcolor": "#E5ECF6",
           "showlakes": true,
           "showland": true,
           "subunitcolor": "white"
          },
          "hoverlabel": {
           "align": "left"
          },
          "hovermode": "closest",
          "mapbox": {
           "style": "light"
          },
          "paper_bgcolor": "white",
          "plot_bgcolor": "#E5ECF6",
          "polar": {
           "angularaxis": {
            "gridcolor": "white",
            "linecolor": "white",
            "ticks": ""
           },
           "bgcolor": "#E5ECF6",
           "radialaxis": {
            "gridcolor": "white",
            "linecolor": "white",
            "ticks": ""
           }
          },
          "scene": {
           "xaxis": {
            "backgroundcolor": "#E5ECF6",
            "gridcolor": "white",
            "gridwidth": 2,
            "linecolor": "white",
            "showbackground": true,
            "ticks": "",
            "zerolinecolor": "white"
           },
           "yaxis": {
            "backgroundcolor": "#E5ECF6",
            "gridcolor": "white",
            "gridwidth": 2,
            "linecolor": "white",
            "showbackground": true,
            "ticks": "",
            "zerolinecolor": "white"
           },
           "zaxis": {
            "backgroundcolor": "#E5ECF6",
            "gridcolor": "white",
            "gridwidth": 2,
            "linecolor": "white",
            "showbackground": true,
            "ticks": "",
            "zerolinecolor": "white"
           }
          },
          "shapedefaults": {
           "line": {
            "color": "#2a3f5f"
           }
          },
          "ternary": {
           "aaxis": {
            "gridcolor": "white",
            "linecolor": "white",
            "ticks": ""
           },
           "baxis": {
            "gridcolor": "white",
            "linecolor": "white",
            "ticks": ""
           },
           "bgcolor": "#E5ECF6",
           "caxis": {
            "gridcolor": "white",
            "linecolor": "white",
            "ticks": ""
           }
          },
          "title": {
           "x": 0.05
          },
          "xaxis": {
           "automargin": true,
           "gridcolor": "white",
           "linecolor": "white",
           "ticks": "",
           "title": {
            "standoff": 15
           },
           "zerolinecolor": "white",
           "zerolinewidth": 2
          },
          "yaxis": {
           "automargin": true,
           "gridcolor": "white",
           "linecolor": "white",
           "ticks": "",
           "title": {
            "standoff": 15
           },
           "zerolinecolor": "white",
           "zerolinewidth": 2
          }
         }
        },
        "violinmode": "group",
        "xaxis": {
         "anchor": "y",
         "domain": [
          0,
          1
         ],
         "title": {
          "text": "tip"
         }
        },
        "yaxis": {
         "anchor": "x",
         "domain": [
          0,
          1
         ],
         "title": {
          "text": "sex"
         }
        }
       }
      }
     },
     "metadata": {},
     "output_type": "display_data"
    }
   ],
   "source": [
    "px.violin(tips, x = \"tip\", y = \"sex\")"
   ]
  },
  {
   "cell_type": "code",
   "execution_count": null,
   "id": "2b844eb9-f4c6-4511-bfdb-c109a0eb1d84",
   "metadata": {
    "vscode": {
     "languageId": "quarto"
    }
   },
   "outputs": [
    {
     "ename": "ValueError",
     "evalue": "Failed to start Kaleido subprocess. Error stream:\n\n/Users/Federica/Desktop/Graph course python/.venv/lib/python3.12/site-packages/kaleido/executable/kaleido: line 4: cd: /Users/Federica/Desktop/Graph: No such file or directory\n/Users/Federica/Desktop/Graph course python/.venv/lib/python3.12/site-packages/kaleido/executable/kaleido: line 5: ./bin/kaleido: No such file or directory\n",
     "output_type": "error",
     "traceback": [
      "\u001b[31m---------------------------------------------------------------------------\u001b[39m",
      "\u001b[31mValueError\u001b[39m                                Traceback (most recent call last)",
      "\u001b[36mCell\u001b[39m\u001b[36m \u001b[39m\u001b[32mIn[4]\u001b[39m\u001b[32m, line 2\u001b[39m\n\u001b[32m      1\u001b[39m tips_sex = px.violin(tips, x = \u001b[33m\"\u001b[39m\u001b[33mtip\u001b[39m\u001b[33m\"\u001b[39m, y = \u001b[33m\"\u001b[39m\u001b[33msex\u001b[39m\u001b[33m\"\u001b[39m)\n\u001b[32m----> \u001b[39m\u001b[32m2\u001b[39m \u001b[43mtips_sex\u001b[49m\u001b[43m.\u001b[49m\u001b[43mwrite_image\u001b[49m\u001b[43m(\u001b[49m\u001b[33;43m\"\u001b[39;49m\u001b[33;43moutputs/tips by sex.png\u001b[39;49m\u001b[33;43m\"\u001b[39;49m\u001b[43m)\u001b[49m\n",
      "\u001b[36mFile \u001b[39m\u001b[32m~/Desktop/Graph course python/.venv/lib/python3.12/site-packages/plotly/basedatatypes.py:3827\u001b[39m, in \u001b[36mBaseFigure.write_image\u001b[39m\u001b[34m(self, *args, **kwargs)\u001b[39m\n\u001b[32m   3767\u001b[39m \u001b[38;5;250m\u001b[39m\u001b[33;03m\"\"\"\u001b[39;00m\n\u001b[32m   3768\u001b[39m \u001b[33;03mConvert a figure to a static image and write it to a file or writeable\u001b[39;00m\n\u001b[32m   3769\u001b[39m \u001b[33;03mobject\u001b[39;00m\n\u001b[32m   (...)\u001b[39m\u001b[32m   3823\u001b[39m \u001b[33;03mNone\u001b[39;00m\n\u001b[32m   3824\u001b[39m \u001b[33;03m\"\"\"\u001b[39;00m\n\u001b[32m   3825\u001b[39m \u001b[38;5;28;01mimport\u001b[39;00m\u001b[38;5;250m \u001b[39m\u001b[34;01mplotly\u001b[39;00m\u001b[34;01m.\u001b[39;00m\u001b[34;01mio\u001b[39;00m\u001b[38;5;250m \u001b[39m\u001b[38;5;28;01mas\u001b[39;00m\u001b[38;5;250m \u001b[39m\u001b[34;01mpio\u001b[39;00m\n\u001b[32m-> \u001b[39m\u001b[32m3827\u001b[39m \u001b[38;5;28;01mreturn\u001b[39;00m \u001b[43mpio\u001b[49m\u001b[43m.\u001b[49m\u001b[43mwrite_image\u001b[49m\u001b[43m(\u001b[49m\u001b[38;5;28;43mself\u001b[39;49m\u001b[43m,\u001b[49m\u001b[43m \u001b[49m\u001b[43m*\u001b[49m\u001b[43margs\u001b[49m\u001b[43m,\u001b[49m\u001b[43m \u001b[49m\u001b[43m*\u001b[49m\u001b[43m*\u001b[49m\u001b[43mkwargs\u001b[49m\u001b[43m)\u001b[49m\n",
      "\u001b[36mFile \u001b[39m\u001b[32m~/Desktop/Graph course python/.venv/lib/python3.12/site-packages/plotly/io/_kaleido.py:266\u001b[39m, in \u001b[36mwrite_image\u001b[39m\u001b[34m(fig, file, format, scale, width, height, validate, engine)\u001b[39m\n\u001b[32m    250\u001b[39m             \u001b[38;5;28;01mraise\u001b[39;00m \u001b[38;5;167;01mValueError\u001b[39;00m(\n\u001b[32m    251\u001b[39m \u001b[38;5;250m                \u001b[39m\u001b[33;03m\"\"\"\u001b[39;00m\n\u001b[32m    252\u001b[39m \u001b[33;03mCannot infer image type from output path '{file}'.\u001b[39;00m\n\u001b[32m   (...)\u001b[39m\u001b[32m    260\u001b[39m                 )\n\u001b[32m    261\u001b[39m             )\n\u001b[32m    263\u001b[39m     \u001b[38;5;66;03m# Request image\u001b[39;00m\n\u001b[32m    264\u001b[39m     \u001b[38;5;66;03m# -------------\u001b[39;00m\n\u001b[32m    265\u001b[39m     \u001b[38;5;66;03m# Do this first so we don't create a file if image conversion fails\u001b[39;00m\n\u001b[32m--> \u001b[39m\u001b[32m266\u001b[39m     img_data = \u001b[43mto_image\u001b[49m\u001b[43m(\u001b[49m\n\u001b[32m    267\u001b[39m \u001b[43m        \u001b[49m\u001b[43mfig\u001b[49m\u001b[43m,\u001b[49m\n\u001b[32m    268\u001b[39m \u001b[43m        \u001b[49m\u001b[38;5;28;43mformat\u001b[39;49m\u001b[43m=\u001b[49m\u001b[38;5;28;43mformat\u001b[39;49m\u001b[43m,\u001b[49m\n\u001b[32m    269\u001b[39m \u001b[43m        \u001b[49m\u001b[43mscale\u001b[49m\u001b[43m=\u001b[49m\u001b[43mscale\u001b[49m\u001b[43m,\u001b[49m\n\u001b[32m    270\u001b[39m \u001b[43m        \u001b[49m\u001b[43mwidth\u001b[49m\u001b[43m=\u001b[49m\u001b[43mwidth\u001b[49m\u001b[43m,\u001b[49m\n\u001b[32m    271\u001b[39m \u001b[43m        \u001b[49m\u001b[43mheight\u001b[49m\u001b[43m=\u001b[49m\u001b[43mheight\u001b[49m\u001b[43m,\u001b[49m\n\u001b[32m    272\u001b[39m \u001b[43m        \u001b[49m\u001b[43mvalidate\u001b[49m\u001b[43m=\u001b[49m\u001b[43mvalidate\u001b[49m\u001b[43m,\u001b[49m\n\u001b[32m    273\u001b[39m \u001b[43m        \u001b[49m\u001b[43mengine\u001b[49m\u001b[43m=\u001b[49m\u001b[43mengine\u001b[49m\u001b[43m,\u001b[49m\n\u001b[32m    274\u001b[39m \u001b[43m    \u001b[49m\u001b[43m)\u001b[49m\n\u001b[32m    276\u001b[39m     \u001b[38;5;66;03m# Open file\u001b[39;00m\n\u001b[32m    277\u001b[39m     \u001b[38;5;66;03m# ---------\u001b[39;00m\n\u001b[32m    278\u001b[39m     \u001b[38;5;28;01mif\u001b[39;00m path \u001b[38;5;129;01mis\u001b[39;00m \u001b[38;5;28;01mNone\u001b[39;00m:\n\u001b[32m    279\u001b[39m         \u001b[38;5;66;03m# We previously failed to make sense of `file` as a pathlib object.\u001b[39;00m\n\u001b[32m    280\u001b[39m         \u001b[38;5;66;03m# Attempt to write to `file` as an open file descriptor.\u001b[39;00m\n",
      "\u001b[36mFile \u001b[39m\u001b[32m~/Desktop/Graph course python/.venv/lib/python3.12/site-packages/plotly/io/_kaleido.py:143\u001b[39m, in \u001b[36mto_image\u001b[39m\u001b[34m(fig, format, width, height, scale, validate, engine)\u001b[39m\n\u001b[32m    140\u001b[39m \u001b[38;5;66;03m# Validate figure\u001b[39;00m\n\u001b[32m    141\u001b[39m \u001b[38;5;66;03m# ---------------\u001b[39;00m\n\u001b[32m    142\u001b[39m fig_dict = validate_coerce_fig_to_dict(fig, validate)\n\u001b[32m--> \u001b[39m\u001b[32m143\u001b[39m img_bytes = \u001b[43mscope\u001b[49m\u001b[43m.\u001b[49m\u001b[43mtransform\u001b[49m\u001b[43m(\u001b[49m\n\u001b[32m    144\u001b[39m \u001b[43m    \u001b[49m\u001b[43mfig_dict\u001b[49m\u001b[43m,\u001b[49m\u001b[43m \u001b[49m\u001b[38;5;28;43mformat\u001b[39;49m\u001b[43m=\u001b[49m\u001b[38;5;28;43mformat\u001b[39;49m\u001b[43m,\u001b[49m\u001b[43m \u001b[49m\u001b[43mwidth\u001b[49m\u001b[43m=\u001b[49m\u001b[43mwidth\u001b[49m\u001b[43m,\u001b[49m\u001b[43m \u001b[49m\u001b[43mheight\u001b[49m\u001b[43m=\u001b[49m\u001b[43mheight\u001b[49m\u001b[43m,\u001b[49m\u001b[43m \u001b[49m\u001b[43mscale\u001b[49m\u001b[43m=\u001b[49m\u001b[43mscale\u001b[49m\n\u001b[32m    145\u001b[39m \u001b[43m\u001b[49m\u001b[43m)\u001b[49m\n\u001b[32m    147\u001b[39m \u001b[38;5;28;01mreturn\u001b[39;00m img_bytes\n",
      "\u001b[36mFile \u001b[39m\u001b[32m~/Desktop/Graph course python/.venv/lib/python3.12/site-packages/kaleido/scopes/plotly.py:153\u001b[39m, in \u001b[36mPlotlyScope.transform\u001b[39m\u001b[34m(self, figure, format, width, height, scale)\u001b[39m\n\u001b[32m    142\u001b[39m     \u001b[38;5;28;01mraise\u001b[39;00m \u001b[38;5;167;01mValueError\u001b[39;00m(\n\u001b[32m    143\u001b[39m         \u001b[33m\"\u001b[39m\u001b[33mInvalid format \u001b[39m\u001b[33m'\u001b[39m\u001b[38;5;132;01m{original_format}\u001b[39;00m\u001b[33m'\u001b[39m\u001b[33m.\u001b[39m\u001b[38;5;130;01m\\n\u001b[39;00m\u001b[33m\"\u001b[39m\n\u001b[32m    144\u001b[39m         \u001b[33m\"\u001b[39m\u001b[33m    Supported formats: \u001b[39m\u001b[38;5;132;01m{supported_formats_str}\u001b[39;00m\u001b[33m\"\u001b[39m\n\u001b[32m   (...)\u001b[39m\u001b[32m    148\u001b[39m         )\n\u001b[32m    149\u001b[39m     )\n\u001b[32m    151\u001b[39m \u001b[38;5;66;03m# Transform in using _perform_transform rather than superclass so we can access the full\u001b[39;00m\n\u001b[32m    152\u001b[39m \u001b[38;5;66;03m# response dict, including error codes.\u001b[39;00m\n\u001b[32m--> \u001b[39m\u001b[32m153\u001b[39m response = \u001b[38;5;28;43mself\u001b[39;49m\u001b[43m.\u001b[49m\u001b[43m_perform_transform\u001b[49m\u001b[43m(\u001b[49m\n\u001b[32m    154\u001b[39m \u001b[43m    \u001b[49m\u001b[43mfigure\u001b[49m\u001b[43m,\u001b[49m\u001b[43m \u001b[49m\u001b[38;5;28;43mformat\u001b[39;49m\u001b[43m=\u001b[49m\u001b[38;5;28;43mformat\u001b[39;49m\u001b[43m,\u001b[49m\u001b[43m \u001b[49m\u001b[43mwidth\u001b[49m\u001b[43m=\u001b[49m\u001b[43mwidth\u001b[49m\u001b[43m,\u001b[49m\u001b[43m \u001b[49m\u001b[43mheight\u001b[49m\u001b[43m=\u001b[49m\u001b[43mheight\u001b[49m\u001b[43m,\u001b[49m\u001b[43m \u001b[49m\u001b[43mscale\u001b[49m\u001b[43m=\u001b[49m\u001b[43mscale\u001b[49m\n\u001b[32m    155\u001b[39m \u001b[43m\u001b[49m\u001b[43m)\u001b[49m\n\u001b[32m    157\u001b[39m \u001b[38;5;66;03m# Check for export error, later can customize error messages for plotly Python users\u001b[39;00m\n\u001b[32m    158\u001b[39m code = response.get(\u001b[33m\"\u001b[39m\u001b[33mcode\u001b[39m\u001b[33m\"\u001b[39m, \u001b[32m0\u001b[39m)\n",
      "\u001b[36mFile \u001b[39m\u001b[32m~/Desktop/Graph course python/.venv/lib/python3.12/site-packages/kaleido/scopes/base.py:293\u001b[39m, in \u001b[36mBaseScope._perform_transform\u001b[39m\u001b[34m(self, data, **kwargs)\u001b[39m\n\u001b[32m    284\u001b[39m \u001b[38;5;250m\u001b[39m\u001b[33;03m\"\"\"\u001b[39;00m\n\u001b[32m    285\u001b[39m \u001b[33;03mTransform input data using the current scope, returning dict response with error code\u001b[39;00m\n\u001b[32m    286\u001b[39m \u001b[33;03mwhether successful or not.\u001b[39;00m\n\u001b[32m   (...)\u001b[39m\u001b[32m    290\u001b[39m \u001b[33;03m:return: Dict of response from Kaleido executable, whether successful or not\u001b[39;00m\n\u001b[32m    291\u001b[39m \u001b[33;03m\"\"\"\u001b[39;00m\n\u001b[32m    292\u001b[39m \u001b[38;5;66;03m# Ensure that kaleido subprocess is running\u001b[39;00m\n\u001b[32m--> \u001b[39m\u001b[32m293\u001b[39m \u001b[38;5;28;43mself\u001b[39;49m\u001b[43m.\u001b[49m\u001b[43m_ensure_kaleido\u001b[49m\u001b[43m(\u001b[49m\u001b[43m)\u001b[49m\n\u001b[32m    295\u001b[39m \u001b[38;5;66;03m# Perform export\u001b[39;00m\n\u001b[32m    296\u001b[39m export_spec = \u001b[38;5;28mself\u001b[39m._json_dumps(\u001b[38;5;28mdict\u001b[39m(kwargs, data=data)).encode(\u001b[33m'\u001b[39m\u001b[33mutf-8\u001b[39m\u001b[33m'\u001b[39m)\n",
      "\u001b[36mFile \u001b[39m\u001b[32m~/Desktop/Graph course python/.venv/lib/python3.12/site-packages/kaleido/scopes/base.py:198\u001b[39m, in \u001b[36mBaseScope._ensure_kaleido\u001b[39m\u001b[34m(self)\u001b[39m\n\u001b[32m    193\u001b[39m \u001b[38;5;28;01mif\u001b[39;00m \u001b[38;5;129;01mnot\u001b[39;00m startup_response_string:\n\u001b[32m    194\u001b[39m     message = (\n\u001b[32m    195\u001b[39m         \u001b[33m\"\u001b[39m\u001b[33mFailed to start Kaleido subprocess. Error stream:\u001b[39m\u001b[38;5;130;01m\\n\u001b[39;00m\u001b[38;5;130;01m\\n\u001b[39;00m\u001b[33m\"\u001b[39m +\n\u001b[32m    196\u001b[39m         \u001b[38;5;28mself\u001b[39m._get_decoded_std_error()\n\u001b[32m    197\u001b[39m     )\n\u001b[32m--> \u001b[39m\u001b[32m198\u001b[39m     \u001b[38;5;28;01mraise\u001b[39;00m \u001b[38;5;167;01mValueError\u001b[39;00m(message)\n\u001b[32m    199\u001b[39m \u001b[38;5;28;01melse\u001b[39;00m:\n\u001b[32m    200\u001b[39m     startup_response = json.loads(startup_response_string)\n",
      "\u001b[31mValueError\u001b[39m: Failed to start Kaleido subprocess. Error stream:\n\n/Users/Federica/Desktop/Graph course python/.venv/lib/python3.12/site-packages/kaleido/executable/kaleido: line 4: cd: /Users/Federica/Desktop/Graph: No such file or directory\n/Users/Federica/Desktop/Graph course python/.venv/lib/python3.12/site-packages/kaleido/executable/kaleido: line 5: ./bin/kaleido: No such file or directory\n"
     ]
    }
   ],
   "source": [
    "tips_sex = px.violin(tips, x = \"tip\", y = \"sex\")\n",
    "tips_sex.write_image(\"outputs/tips by sex.png\")"
   ]
  },
  {
   "cell_type": "code",
   "execution_count": null,
   "id": "d1f9a336-50d2-4586-b791-14ed7a00603b",
   "metadata": {
    "vscode": {
     "languageId": "quarto"
    }
   },
   "outputs": [
    {
     "data": {
      "text/html": [
       "<table id=\"itables_c3b81c7d_4263_461c_8cf2_7533357d82ec\" class=\"display nowrap\" data-quarto-disable-processing=\"true\" style=\"table-layout:auto;width:auto;margin:auto;caption-side:bottom\">\n",
       "<thead>\n",
       "    <tr style=\"text-align: right;\">\n",
       "      \n",
       "      <th>total_bill</th>\n",
       "      <th>tip</th>\n",
       "      <th>sex</th>\n",
       "      <th>smoker</th>\n",
       "      <th>day</th>\n",
       "      <th>time</th>\n",
       "      <th>size</th>\n",
       "    </tr>\n",
       "  </thead><tbody><tr>\n",
       "<td style=\"vertical-align:middle; text-align:left\">\n",
       "<a href=https://mwouts.github.io/itables/><svg class=\"main-svg\" xmlns=\"http://www.w3.org/2000/svg\" xmlns:xlink=\"http://www.w3.org/1999/xlink\"\n",
       "width=\"64\" viewBox=\"0 0 500 400\" style=\"font-family: 'Droid Sans', sans-serif;\">\n",
       "    <g style=\"fill:#d9d7fc\">\n",
       "        <path d=\"M100,400H500V357H100Z\" />\n",
       "        <path d=\"M100,300H400V257H100Z\" />\n",
       "        <path d=\"M0,200H400V157H0Z\" />\n",
       "        <path d=\"M100,100H500V57H100Z\" />\n",
       "        <path d=\"M100,350H500V307H100Z\" />\n",
       "        <path d=\"M100,250H400V207H100Z\" />\n",
       "        <path d=\"M0,150H400V107H0Z\" />\n",
       "        <path d=\"M100,50H500V7H100Z\" />\n",
       "    </g>\n",
       "    <g style=\"fill:#1a1366;stroke:#1a1366;\">\n",
       "   <rect x=\"100\" y=\"7\" width=\"400\" height=\"43\">\n",
       "    <animate\n",
       "      attributeName=\"width\"\n",
       "      values=\"0;400;0\"\n",
       "      dur=\"5s\"\n",
       "      repeatCount=\"indefinite\" />\n",
       "      <animate\n",
       "      attributeName=\"x\"\n",
       "      values=\"100;100;500\"\n",
       "      dur=\"5s\"\n",
       "      repeatCount=\"indefinite\" />\n",
       "  </rect>\n",
       "        <rect x=\"0\" y=\"107\" width=\"400\" height=\"43\">\n",
       "    <animate\n",
       "      attributeName=\"width\"\n",
       "      values=\"0;400;0\"\n",
       "      dur=\"3.5s\"\n",
       "      repeatCount=\"indefinite\" />\n",
       "    <animate\n",
       "      attributeName=\"x\"\n",
       "      values=\"0;0;400\"\n",
       "      dur=\"3.5s\"\n",
       "      repeatCount=\"indefinite\" />\n",
       "  </rect>\n",
       "        <rect x=\"100\" y=\"207\" width=\"300\" height=\"43\">\n",
       "    <animate\n",
       "      attributeName=\"width\"\n",
       "      values=\"0;300;0\"\n",
       "      dur=\"3s\"\n",
       "      repeatCount=\"indefinite\" />\n",
       "    <animate\n",
       "      attributeName=\"x\"\n",
       "      values=\"100;100;400\"\n",
       "      dur=\"3s\"\n",
       "      repeatCount=\"indefinite\" />\n",
       "  </rect>\n",
       "        <rect x=\"100\" y=\"307\" width=\"400\" height=\"43\">\n",
       "    <animate\n",
       "      attributeName=\"width\"\n",
       "      values=\"0;400;0\"\n",
       "      dur=\"4s\"\n",
       "      repeatCount=\"indefinite\" />\n",
       "      <animate\n",
       "      attributeName=\"x\"\n",
       "      values=\"100;100;500\"\n",
       "      dur=\"4s\"\n",
       "      repeatCount=\"indefinite\" />\n",
       "  </rect>\n",
       "        <g style=\"fill:transparent;stroke-width:8; stroke-linejoin:round\" rx=\"5\">\n",
       "            <g transform=\"translate(45 50) rotate(-45)\">\n",
       "                <circle r=\"33\" cx=\"0\" cy=\"0\" />\n",
       "                <rect x=\"-8\" y=\"32\" width=\"16\" height=\"30\" />\n",
       "            </g>\n",
       "\n",
       "            <g transform=\"translate(450 152)\">\n",
       "                <polyline points=\"-15,-20 -35,-20 -35,40 25,40 25,20\" />\n",
       "                <rect x=\"-15\" y=\"-40\" width=\"60\" height=\"60\" />\n",
       "            </g>\n",
       "\n",
       "            <g transform=\"translate(50 352)\">\n",
       "                <polygon points=\"-35,-5 0,-40 35,-5\" />\n",
       "                <polygon points=\"-35,10 0,45 35,10\" />\n",
       "            </g>\n",
       "\n",
       "            <g transform=\"translate(75 250)\">\n",
       "                <polyline points=\"-30,30 -60,0 -30,-30\" />\n",
       "                <polyline points=\"0,30 -30,0 0,-30\" />\n",
       "            </g>\n",
       "\n",
       "            <g transform=\"translate(425 250) rotate(180)\">\n",
       "                <polyline points=\"-30,30 -60,0 -30,-30\" />\n",
       "                <polyline points=\"0,30 -30,0 0,-30\" />\n",
       "            </g>\n",
       "        </g>\n",
       "    </g>\n",
       "</svg>\n",
       "</a>\n",
       "Loading ITables v2.3.0 from the internet...\n",
       "(need <a href=https://mwouts.github.io/itables/troubleshooting.html>help</a>?)</td>\n",
       "</tr></tbody>\n",
       "</table>\n",
       "<link href=\"https://www.unpkg.com/dt_for_itables@2.2.0/dt_bundle.css\" rel=\"stylesheet\">\n",
       "<script type=\"module\">\n",
       "    import {DataTable, jQuery as $} from 'https://www.unpkg.com/dt_for_itables@2.2.0/dt_bundle.js';\n",
       "\n",
       "    document.querySelectorAll(\"#itables_c3b81c7d_4263_461c_8cf2_7533357d82ec:not(.dataTable)\").forEach(table => {\n",
       "        if (!(table instanceof HTMLTableElement))\n",
       "            return;\n",
       "\n",
       "        // Define the table data\n",
       "        const data = [[16.99, 1.01, \"Female\", \"No\", \"Sun\", \"Dinner\", 2], [10.34, 1.66, \"Male\", \"No\", \"Sun\", \"Dinner\", 3], [21.01, 3.5, \"Male\", \"No\", \"Sun\", \"Dinner\", 3], [23.68, 3.31, \"Male\", \"No\", \"Sun\", \"Dinner\", 2], [24.59, 3.61, \"Female\", \"No\", \"Sun\", \"Dinner\", 4], [25.29, 4.71, \"Male\", \"No\", \"Sun\", \"Dinner\", 4], [8.77, 2.0, \"Male\", \"No\", \"Sun\", \"Dinner\", 2], [26.88, 3.12, \"Male\", \"No\", \"Sun\", \"Dinner\", 4], [15.04, 1.96, \"Male\", \"No\", \"Sun\", \"Dinner\", 2], [14.78, 3.23, \"Male\", \"No\", \"Sun\", \"Dinner\", 2], [10.27, 1.71, \"Male\", \"No\", \"Sun\", \"Dinner\", 2], [35.26, 5.0, \"Female\", \"No\", \"Sun\", \"Dinner\", 4], [15.42, 1.57, \"Male\", \"No\", \"Sun\", \"Dinner\", 2], [18.43, 3.0, \"Male\", \"No\", \"Sun\", \"Dinner\", 4], [14.83, 3.02, \"Female\", \"No\", \"Sun\", \"Dinner\", 2], [21.58, 3.92, \"Male\", \"No\", \"Sun\", \"Dinner\", 2], [10.33, 1.67, \"Female\", \"No\", \"Sun\", \"Dinner\", 3], [16.29, 3.71, \"Male\", \"No\", \"Sun\", \"Dinner\", 3], [16.97, 3.5, \"Female\", \"No\", \"Sun\", \"Dinner\", 3], [20.65, 3.35, \"Male\", \"No\", \"Sat\", \"Dinner\", 3], [17.92, 4.08, \"Male\", \"No\", \"Sat\", \"Dinner\", 2], [20.29, 2.75, \"Female\", \"No\", \"Sat\", \"Dinner\", 2], [15.77, 2.23, \"Female\", \"No\", \"Sat\", \"Dinner\", 2], [39.42, 7.58, \"Male\", \"No\", \"Sat\", \"Dinner\", 4], [19.82, 3.18, \"Male\", \"No\", \"Sat\", \"Dinner\", 2], [17.81, 2.34, \"Male\", \"No\", \"Sat\", \"Dinner\", 4], [13.37, 2.0, \"Male\", \"No\", \"Sat\", \"Dinner\", 2], [12.69, 2.0, \"Male\", \"No\", \"Sat\", \"Dinner\", 2], [21.7, 4.3, \"Male\", \"No\", \"Sat\", \"Dinner\", 2], [19.65, 3.0, \"Female\", \"No\", \"Sat\", \"Dinner\", 2], [9.55, 1.45, \"Male\", \"No\", \"Sat\", \"Dinner\", 2], [18.35, 2.5, \"Male\", \"No\", \"Sat\", \"Dinner\", 4], [15.06, 3.0, \"Female\", \"No\", \"Sat\", \"Dinner\", 2], [20.69, 2.45, \"Female\", \"No\", \"Sat\", \"Dinner\", 4], [17.78, 3.27, \"Male\", \"No\", \"Sat\", \"Dinner\", 2], [24.06, 3.6, \"Male\", \"No\", \"Sat\", \"Dinner\", 3], [16.31, 2.0, \"Male\", \"No\", \"Sat\", \"Dinner\", 3], [16.93, 3.07, \"Female\", \"No\", \"Sat\", \"Dinner\", 3], [18.69, 2.31, \"Male\", \"No\", \"Sat\", \"Dinner\", 3], [31.27, 5.0, \"Male\", \"No\", \"Sat\", \"Dinner\", 3], [16.04, 2.24, \"Male\", \"No\", \"Sat\", \"Dinner\", 3], [17.46, 2.54, \"Male\", \"No\", \"Sun\", \"Dinner\", 2], [13.94, 3.06, \"Male\", \"No\", \"Sun\", \"Dinner\", 2], [9.68, 1.32, \"Male\", \"No\", \"Sun\", \"Dinner\", 2], [30.4, 5.6, \"Male\", \"No\", \"Sun\", \"Dinner\", 4], [18.29, 3.0, \"Male\", \"No\", \"Sun\", \"Dinner\", 2], [22.23, 5.0, \"Male\", \"No\", \"Sun\", \"Dinner\", 2], [32.4, 6.0, \"Male\", \"No\", \"Sun\", \"Dinner\", 4], [28.55, 2.05, \"Male\", \"No\", \"Sun\", \"Dinner\", 3], [18.04, 3.0, \"Male\", \"No\", \"Sun\", \"Dinner\", 2], [12.54, 2.5, \"Male\", \"No\", \"Sun\", \"Dinner\", 2], [10.29, 2.6, \"Female\", \"No\", \"Sun\", \"Dinner\", 2], [34.81, 5.2, \"Female\", \"No\", \"Sun\", \"Dinner\", 4], [9.94, 1.56, \"Male\", \"No\", \"Sun\", \"Dinner\", 2], [25.56, 4.34, \"Male\", \"No\", \"Sun\", \"Dinner\", 4], [19.49, 3.51, \"Male\", \"No\", \"Sun\", \"Dinner\", 2], [38.01, 3.0, \"Male\", \"Yes\", \"Sat\", \"Dinner\", 4], [26.41, 1.5, \"Female\", \"No\", \"Sat\", \"Dinner\", 2], [11.24, 1.76, \"Male\", \"Yes\", \"Sat\", \"Dinner\", 2], [48.27, 6.73, \"Male\", \"No\", \"Sat\", \"Dinner\", 4], [20.29, 3.21, \"Male\", \"Yes\", \"Sat\", \"Dinner\", 2], [13.81, 2.0, \"Male\", \"Yes\", \"Sat\", \"Dinner\", 2], [11.02, 1.98, \"Male\", \"Yes\", \"Sat\", \"Dinner\", 2], [18.29, 3.76, \"Male\", \"Yes\", \"Sat\", \"Dinner\", 4], [17.59, 2.64, \"Male\", \"No\", \"Sat\", \"Dinner\", 3], [20.08, 3.15, \"Male\", \"No\", \"Sat\", \"Dinner\", 3], [16.45, 2.47, \"Female\", \"No\", \"Sat\", \"Dinner\", 2], [3.07, 1.0, \"Female\", \"Yes\", \"Sat\", \"Dinner\", 1], [20.23, 2.01, \"Male\", \"No\", \"Sat\", \"Dinner\", 2], [15.01, 2.09, \"Male\", \"Yes\", \"Sat\", \"Dinner\", 2], [12.02, 1.97, \"Male\", \"No\", \"Sat\", \"Dinner\", 2], [17.07, 3.0, \"Female\", \"No\", \"Sat\", \"Dinner\", 3], [26.86, 3.14, \"Female\", \"Yes\", \"Sat\", \"Dinner\", 2], [25.28, 5.0, \"Female\", \"Yes\", \"Sat\", \"Dinner\", 2], [14.73, 2.2, \"Female\", \"No\", \"Sat\", \"Dinner\", 2], [10.51, 1.25, \"Male\", \"No\", \"Sat\", \"Dinner\", 2], [17.92, 3.08, \"Male\", \"Yes\", \"Sat\", \"Dinner\", 2], [27.2, 4.0, \"Male\", \"No\", \"Thur\", \"Lunch\", 4], [22.76, 3.0, \"Male\", \"No\", \"Thur\", \"Lunch\", 2], [17.29, 2.71, \"Male\", \"No\", \"Thur\", \"Lunch\", 2], [19.44, 3.0, \"Male\", \"Yes\", \"Thur\", \"Lunch\", 2], [16.66, 3.4, \"Male\", \"No\", \"Thur\", \"Lunch\", 2], [10.07, 1.83, \"Female\", \"No\", \"Thur\", \"Lunch\", 1], [32.68, 5.0, \"Male\", \"Yes\", \"Thur\", \"Lunch\", 2], [15.98, 2.03, \"Male\", \"No\", \"Thur\", \"Lunch\", 2], [34.83, 5.17, \"Female\", \"No\", \"Thur\", \"Lunch\", 4], [13.03, 2.0, \"Male\", \"No\", \"Thur\", \"Lunch\", 2], [18.28, 4.0, \"Male\", \"No\", \"Thur\", \"Lunch\", 2], [24.71, 5.85, \"Male\", \"No\", \"Thur\", \"Lunch\", 2], [21.16, 3.0, \"Male\", \"No\", \"Thur\", \"Lunch\", 2], [28.97, 3.0, \"Male\", \"Yes\", \"Fri\", \"Dinner\", 2], [22.49, 3.5, \"Male\", \"No\", \"Fri\", \"Dinner\", 2], [5.75, 1.0, \"Female\", \"Yes\", \"Fri\", \"Dinner\", 2], [16.32, 4.3, \"Female\", \"Yes\", \"Fri\", \"Dinner\", 2], [22.75, 3.25, \"Female\", \"No\", \"Fri\", \"Dinner\", 2], [40.17, 4.73, \"Male\", \"Yes\", \"Fri\", \"Dinner\", 4], [27.28, 4.0, \"Male\", \"Yes\", \"Fri\", \"Dinner\", 2], [12.03, 1.5, \"Male\", \"Yes\", \"Fri\", \"Dinner\", 2], [21.01, 3.0, \"Male\", \"Yes\", \"Fri\", \"Dinner\", 2], [12.46, 1.5, \"Male\", \"No\", \"Fri\", \"Dinner\", 2], [11.35, 2.5, \"Female\", \"Yes\", \"Fri\", \"Dinner\", 2], [15.38, 3.0, \"Female\", \"Yes\", \"Fri\", \"Dinner\", 2], [44.3, 2.5, \"Female\", \"Yes\", \"Sat\", \"Dinner\", 3], [22.42, 3.48, \"Female\", \"Yes\", \"Sat\", \"Dinner\", 2], [20.92, 4.08, \"Female\", \"No\", \"Sat\", \"Dinner\", 2], [15.36, 1.64, \"Male\", \"Yes\", \"Sat\", \"Dinner\", 2], [20.49, 4.06, \"Male\", \"Yes\", \"Sat\", \"Dinner\", 2], [25.21, 4.29, \"Male\", \"Yes\", \"Sat\", \"Dinner\", 2], [18.24, 3.76, \"Male\", \"No\", \"Sat\", \"Dinner\", 2], [14.31, 4.0, \"Female\", \"Yes\", \"Sat\", \"Dinner\", 2], [14.0, 3.0, \"Male\", \"No\", \"Sat\", \"Dinner\", 2], [7.25, 1.0, \"Female\", \"No\", \"Sat\", \"Dinner\", 1], [38.07, 4.0, \"Male\", \"No\", \"Sun\", \"Dinner\", 3], [23.95, 2.55, \"Male\", \"No\", \"Sun\", \"Dinner\", 2], [25.71, 4.0, \"Female\", \"No\", \"Sun\", \"Dinner\", 3], [17.31, 3.5, \"Female\", \"No\", \"Sun\", \"Dinner\", 2], [29.93, 5.07, \"Male\", \"No\", \"Sun\", \"Dinner\", 4], [10.65, 1.5, \"Female\", \"No\", \"Thur\", \"Lunch\", 2], [12.43, 1.8, \"Female\", \"No\", \"Thur\", \"Lunch\", 2], [24.08, 2.92, \"Female\", \"No\", \"Thur\", \"Lunch\", 4], [11.69, 2.31, \"Male\", \"No\", \"Thur\", \"Lunch\", 2], [13.42, 1.68, \"Female\", \"No\", \"Thur\", \"Lunch\", 2], [14.26, 2.5, \"Male\", \"No\", \"Thur\", \"Lunch\", 2], [15.95, 2.0, \"Male\", \"No\", \"Thur\", \"Lunch\", 2], [12.48, 2.52, \"Female\", \"No\", \"Thur\", \"Lunch\", 2], [29.8, 4.2, \"Female\", \"No\", \"Thur\", \"Lunch\", 6], [8.52, 1.48, \"Male\", \"No\", \"Thur\", \"Lunch\", 2], [14.52, 2.0, \"Female\", \"No\", \"Thur\", \"Lunch\", 2], [11.38, 2.0, \"Female\", \"No\", \"Thur\", \"Lunch\", 2], [22.82, 2.18, \"Male\", \"No\", \"Thur\", \"Lunch\", 3], [19.08, 1.5, \"Male\", \"No\", \"Thur\", \"Lunch\", 2], [20.27, 2.83, \"Female\", \"No\", \"Thur\", \"Lunch\", 2], [11.17, 1.5, \"Female\", \"No\", \"Thur\", \"Lunch\", 2], [12.26, 2.0, \"Female\", \"No\", \"Thur\", \"Lunch\", 2], [18.26, 3.25, \"Female\", \"No\", \"Thur\", \"Lunch\", 2], [8.51, 1.25, \"Female\", \"No\", \"Thur\", \"Lunch\", 2], [10.33, 2.0, \"Female\", \"No\", \"Thur\", \"Lunch\", 2], [14.15, 2.0, \"Female\", \"No\", \"Thur\", \"Lunch\", 2], [16.0, 2.0, \"Male\", \"Yes\", \"Thur\", \"Lunch\", 2], [13.16, 2.75, \"Female\", \"No\", \"Thur\", \"Lunch\", 2], [17.47, 3.5, \"Female\", \"No\", \"Thur\", \"Lunch\", 2], [34.3, 6.7, \"Male\", \"No\", \"Thur\", \"Lunch\", 6], [41.19, 5.0, \"Male\", \"No\", \"Thur\", \"Lunch\", 5], [27.05, 5.0, \"Female\", \"No\", \"Thur\", \"Lunch\", 6], [16.43, 2.3, \"Female\", \"No\", \"Thur\", \"Lunch\", 2], [8.35, 1.5, \"Female\", \"No\", \"Thur\", \"Lunch\", 2], [18.64, 1.36, \"Female\", \"No\", \"Thur\", \"Lunch\", 3], [11.87, 1.63, \"Female\", \"No\", \"Thur\", \"Lunch\", 2], [9.78, 1.73, \"Male\", \"No\", \"Thur\", \"Lunch\", 2], [7.51, 2.0, \"Male\", \"No\", \"Thur\", \"Lunch\", 2], [14.07, 2.5, \"Male\", \"No\", \"Sun\", \"Dinner\", 2], [13.13, 2.0, \"Male\", \"No\", \"Sun\", \"Dinner\", 2], [17.26, 2.74, \"Male\", \"No\", \"Sun\", \"Dinner\", 3], [24.55, 2.0, \"Male\", \"No\", \"Sun\", \"Dinner\", 4], [19.77, 2.0, \"Male\", \"No\", \"Sun\", \"Dinner\", 4], [29.85, 5.14, \"Female\", \"No\", \"Sun\", \"Dinner\", 5], [48.17, 5.0, \"Male\", \"No\", \"Sun\", \"Dinner\", 6], [25.0, 3.75, \"Female\", \"No\", \"Sun\", \"Dinner\", 4], [13.39, 2.61, \"Female\", \"No\", \"Sun\", \"Dinner\", 2], [16.49, 2.0, \"Male\", \"No\", \"Sun\", \"Dinner\", 4], [21.5, 3.5, \"Male\", \"No\", \"Sun\", \"Dinner\", 4], [12.66, 2.5, \"Male\", \"No\", \"Sun\", \"Dinner\", 2], [16.21, 2.0, \"Female\", \"No\", \"Sun\", \"Dinner\", 3], [13.81, 2.0, \"Male\", \"No\", \"Sun\", \"Dinner\", 2], [17.51, 3.0, \"Female\", \"Yes\", \"Sun\", \"Dinner\", 2], [24.52, 3.48, \"Male\", \"No\", \"Sun\", \"Dinner\", 3], [20.76, 2.24, \"Male\", \"No\", \"Sun\", \"Dinner\", 2], [31.71, 4.5, \"Male\", \"No\", \"Sun\", \"Dinner\", 4], [10.59, 1.61, \"Female\", \"Yes\", \"Sat\", \"Dinner\", 2], [10.63, 2.0, \"Female\", \"Yes\", \"Sat\", \"Dinner\", 2], [50.81, 10.0, \"Male\", \"Yes\", \"Sat\", \"Dinner\", 3], [15.81, 3.16, \"Male\", \"Yes\", \"Sat\", \"Dinner\", 2], [7.25, 5.15, \"Male\", \"Yes\", \"Sun\", \"Dinner\", 2], [31.85, 3.18, \"Male\", \"Yes\", \"Sun\", \"Dinner\", 2], [16.82, 4.0, \"Male\", \"Yes\", \"Sun\", \"Dinner\", 2], [32.9, 3.11, \"Male\", \"Yes\", \"Sun\", \"Dinner\", 2], [17.89, 2.0, \"Male\", \"Yes\", \"Sun\", \"Dinner\", 2], [14.48, 2.0, \"Male\", \"Yes\", \"Sun\", \"Dinner\", 2], [9.6, 4.0, \"Female\", \"Yes\", \"Sun\", \"Dinner\", 2], [34.63, 3.55, \"Male\", \"Yes\", \"Sun\", \"Dinner\", 2], [34.65, 3.68, \"Male\", \"Yes\", \"Sun\", \"Dinner\", 4], [23.33, 5.65, \"Male\", \"Yes\", \"Sun\", \"Dinner\", 2], [45.35, 3.5, \"Male\", \"Yes\", \"Sun\", \"Dinner\", 3], [23.17, 6.5, \"Male\", \"Yes\", \"Sun\", \"Dinner\", 4], [40.55, 3.0, \"Male\", \"Yes\", \"Sun\", \"Dinner\", 2], [20.69, 5.0, \"Male\", \"No\", \"Sun\", \"Dinner\", 5], [20.9, 3.5, \"Female\", \"Yes\", \"Sun\", \"Dinner\", 3], [30.46, 2.0, \"Male\", \"Yes\", \"Sun\", \"Dinner\", 5], [18.15, 3.5, \"Female\", \"Yes\", \"Sun\", \"Dinner\", 3], [23.1, 4.0, \"Male\", \"Yes\", \"Sun\", \"Dinner\", 3], [15.69, 1.5, \"Male\", \"Yes\", \"Sun\", \"Dinner\", 2], [19.81, 4.19, \"Female\", \"Yes\", \"Thur\", \"Lunch\", 2], [28.44, 2.56, \"Male\", \"Yes\", \"Thur\", \"Lunch\", 2], [15.48, 2.02, \"Male\", \"Yes\", \"Thur\", \"Lunch\", 2], [16.58, 4.0, \"Male\", \"Yes\", \"Thur\", \"Lunch\", 2], [7.56, 1.44, \"Male\", \"No\", \"Thur\", \"Lunch\", 2], [10.34, 2.0, \"Male\", \"Yes\", \"Thur\", \"Lunch\", 2], [43.11, 5.0, \"Female\", \"Yes\", \"Thur\", \"Lunch\", 4], [13.0, 2.0, \"Female\", \"Yes\", \"Thur\", \"Lunch\", 2], [13.51, 2.0, \"Male\", \"Yes\", \"Thur\", \"Lunch\", 2], [18.71, 4.0, \"Male\", \"Yes\", \"Thur\", \"Lunch\", 3], [12.74, 2.01, \"Female\", \"Yes\", \"Thur\", \"Lunch\", 2], [13.0, 2.0, \"Female\", \"Yes\", \"Thur\", \"Lunch\", 2], [16.4, 2.5, \"Female\", \"Yes\", \"Thur\", \"Lunch\", 2], [20.53, 4.0, \"Male\", \"Yes\", \"Thur\", \"Lunch\", 4], [16.47, 3.23, \"Female\", \"Yes\", \"Thur\", \"Lunch\", 3], [26.59, 3.41, \"Male\", \"Yes\", \"Sat\", \"Dinner\", 3], [38.73, 3.0, \"Male\", \"Yes\", \"Sat\", \"Dinner\", 4], [24.27, 2.03, \"Male\", \"Yes\", \"Sat\", \"Dinner\", 2], [12.76, 2.23, \"Female\", \"Yes\", \"Sat\", \"Dinner\", 2], [30.06, 2.0, \"Male\", \"Yes\", \"Sat\", \"Dinner\", 3], [25.89, 5.16, \"Male\", \"Yes\", \"Sat\", \"Dinner\", 4], [48.33, 9.0, \"Male\", \"No\", \"Sat\", \"Dinner\", 4], [13.27, 2.5, \"Female\", \"Yes\", \"Sat\", \"Dinner\", 2], [28.17, 6.5, \"Female\", \"Yes\", \"Sat\", \"Dinner\", 3], [12.9, 1.1, \"Female\", \"Yes\", \"Sat\", \"Dinner\", 2], [28.15, 3.0, \"Male\", \"Yes\", \"Sat\", \"Dinner\", 5], [11.59, 1.5, \"Male\", \"Yes\", \"Sat\", \"Dinner\", 2], [7.74, 1.44, \"Male\", \"Yes\", \"Sat\", \"Dinner\", 2], [30.14, 3.09, \"Female\", \"Yes\", \"Sat\", \"Dinner\", 4], [12.16, 2.2, \"Male\", \"Yes\", \"Fri\", \"Lunch\", 2], [13.42, 3.48, \"Female\", \"Yes\", \"Fri\", \"Lunch\", 2], [8.58, 1.92, \"Male\", \"Yes\", \"Fri\", \"Lunch\", 1], [15.98, 3.0, \"Female\", \"No\", \"Fri\", \"Lunch\", 3], [13.42, 1.58, \"Male\", \"Yes\", \"Fri\", \"Lunch\", 2], [16.27, 2.5, \"Female\", \"Yes\", \"Fri\", \"Lunch\", 2], [10.09, 2.0, \"Female\", \"Yes\", \"Fri\", \"Lunch\", 2], [20.45, 3.0, \"Male\", \"No\", \"Sat\", \"Dinner\", 4], [13.28, 2.72, \"Male\", \"No\", \"Sat\", \"Dinner\", 2], [22.12, 2.88, \"Female\", \"Yes\", \"Sat\", \"Dinner\", 2], [24.01, 2.0, \"Male\", \"Yes\", \"Sat\", \"Dinner\", 4], [15.69, 3.0, \"Male\", \"Yes\", \"Sat\", \"Dinner\", 3], [11.61, 3.39, \"Male\", \"No\", \"Sat\", \"Dinner\", 2], [10.77, 1.47, \"Male\", \"No\", \"Sat\", \"Dinner\", 2], [15.53, 3.0, \"Male\", \"Yes\", \"Sat\", \"Dinner\", 2], [10.07, 1.25, \"Male\", \"No\", \"Sat\", \"Dinner\", 2], [12.6, 1.0, \"Male\", \"Yes\", \"Sat\", \"Dinner\", 2], [32.83, 1.17, \"Male\", \"Yes\", \"Sat\", \"Dinner\", 2], [35.83, 4.67, \"Female\", \"No\", \"Sat\", \"Dinner\", 3], [29.03, 5.92, \"Male\", \"No\", \"Sat\", \"Dinner\", 3], [27.18, 2.0, \"Female\", \"Yes\", \"Sat\", \"Dinner\", 2], [22.67, 2.0, \"Male\", \"Yes\", \"Sat\", \"Dinner\", 2], [17.82, 1.75, \"Male\", \"No\", \"Sat\", \"Dinner\", 2], [18.78, 3.0, \"Female\", \"No\", \"Thur\", \"Dinner\", 2]];\n",
       "\n",
       "        // Define the dt_args\n",
       "        let dt_args = {\"layout\": {\"topStart\": \"pageLength\", \"topEnd\": \"search\", \"bottomStart\": \"info\", \"bottomEnd\": \"paging\"}, \"order\": [], \"warn_on_selected_rows_not_rendered\": true};\n",
       "        dt_args[\"data\"] = data;\n",
       "\n",
       "        \n",
       "        new DataTable(table, dt_args);\n",
       "    });\n",
       "</script>\n"
      ],
      "text/plain": [
       "<IPython.core.display.HTML object>"
      ]
     },
     "metadata": {},
     "output_type": "display_data"
    }
   ],
   "source": [
    "import plotly.express as px\n",
    "from itables import show\n",
    "\n",
    "tips = px.data.tips()\n",
    "show(tips)"
   ]
  },
  {
   "cell_type": "code",
   "execution_count": null,
   "id": "4f81031c-8463-4234-9f32-78f1b96135df",
   "metadata": {
    "vscode": {
     "languageId": "quarto"
    }
   },
   "outputs": [
    {
     "data": {
      "application/vnd.plotly.v1+json": {
       "config": {
        "plotlyServerURL": "https://plot.ly"
       },
       "data": [
        {
         "alignmentgroup": "True",
         "box": {
          "visible": false
         },
         "hovertemplate": "tip=%{x}<br>sex=%{y}<extra></extra>",
         "legendgroup": "",
         "marker": {
          "color": "#636efa"
         },
         "name": "",
         "offsetgroup": "",
         "orientation": "h",
         "scalegroup": "True",
         "showlegend": false,
         "type": "violin",
         "x": {
          "bdata": "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",
          "dtype": "f8"
         },
         "x0": " ",
         "xaxis": "x",
         "y": [
          "Female",
          "Male",
          "Male",
          "Male",
          "Female",
          "Male",
          "Male",
          "Male",
          "Male",
          "Male",
          "Male",
          "Female",
          "Male",
          "Male",
          "Female",
          "Male",
          "Female",
          "Male",
          "Female",
          "Male",
          "Male",
          "Female",
          "Female",
          "Male",
          "Male",
          "Male",
          "Male",
          "Male",
          "Male",
          "Female",
          "Male",
          "Male",
          "Female",
          "Female",
          "Male",
          "Male",
          "Male",
          "Female",
          "Male",
          "Male",
          "Male",
          "Male",
          "Male",
          "Male",
          "Male",
          "Male",
          "Male",
          "Male",
          "Male",
          "Male",
          "Male",
          "Female",
          "Female",
          "Male",
          "Male",
          "Male",
          "Male",
          "Female",
          "Male",
          "Male",
          "Male",
          "Male",
          "Male",
          "Male",
          "Male",
          "Male",
          "Female",
          "Female",
          "Male",
          "Male",
          "Male",
          "Female",
          "Female",
          "Female",
          "Female",
          "Male",
          "Male",
          "Male",
          "Male",
          "Male",
          "Male",
          "Male",
          "Female",
          "Male",
          "Male",
          "Female",
          "Male",
          "Male",
          "Male",
          "Male",
          "Male",
          "Male",
          "Female",
          "Female",
          "Female",
          "Male",
          "Male",
          "Male",
          "Male",
          "Male",
          "Female",
          "Female",
          "Female",
          "Female",
          "Female",
          "Male",
          "Male",
          "Male",
          "Male",
          "Female",
          "Male",
          "Female",
          "Male",
          "Male",
          "Female",
          "Female",
          "Male",
          "Female",
          "Female",
          "Female",
          "Male",
          "Female",
          "Male",
          "Male",
          "Female",
          "Female",
          "Male",
          "Female",
          "Female",
          "Male",
          "Male",
          "Female",
          "Female",
          "Female",
          "Female",
          "Female",
          "Female",
          "Female",
          "Male",
          "Female",
          "Female",
          "Male",
          "Male",
          "Female",
          "Female",
          "Female",
          "Female",
          "Female",
          "Male",
          "Male",
          "Male",
          "Male",
          "Male",
          "Male",
          "Male",
          "Female",
          "Male",
          "Female",
          "Female",
          "Male",
          "Male",
          "Male",
          "Female",
          "Male",
          "Female",
          "Male",
          "Male",
          "Male",
          "Female",
          "Female",
          "Male",
          "Male",
          "Male",
          "Male",
          "Male",
          "Male",
          "Male",
          "Male",
          "Female",
          "Male",
          "Male",
          "Male",
          "Male",
          "Male",
          "Male",
          "Male",
          "Female",
          "Male",
          "Female",
          "Male",
          "Male",
          "Female",
          "Male",
          "Male",
          "Male",
          "Male",
          "Male",
          "Female",
          "Female",
          "Male",
          "Male",
          "Female",
          "Female",
          "Female",
          "Male",
          "Female",
          "Male",
          "Male",
          "Male",
          "Female",
          "Male",
          "Male",
          "Male",
          "Female",
          "Female",
          "Female",
          "Male",
          "Male",
          "Male",
          "Female",
          "Male",
          "Female",
          "Male",
          "Female",
          "Male",
          "Female",
          "Female",
          "Male",
          "Male",
          "Female",
          "Male",
          "Male",
          "Male",
          "Male",
          "Male",
          "Male",
          "Male",
          "Male",
          "Female",
          "Male",
          "Female",
          "Male",
          "Male",
          "Female"
         ],
         "y0": " ",
         "yaxis": "y"
        }
       ],
       "layout": {
        "legend": {
         "tracegroupgap": 0
        },
        "margin": {
         "t": 60
        },
        "template": {
         "data": {
          "bar": [
           {
            "error_x": {
             "color": "#2a3f5f"
            },
            "error_y": {
             "color": "#2a3f5f"
            },
            "marker": {
             "line": {
              "color": "#E5ECF6",
              "width": 0.5
             },
             "pattern": {
              "fillmode": "overlay",
              "size": 10,
              "solidity": 0.2
             }
            },
            "type": "bar"
           }
          ],
          "barpolar": [
           {
            "marker": {
             "line": {
              "color": "#E5ECF6",
              "width": 0.5
             },
             "pattern": {
              "fillmode": "overlay",
              "size": 10,
              "solidity": 0.2
             }
            },
            "type": "barpolar"
           }
          ],
          "carpet": [
           {
            "aaxis": {
             "endlinecolor": "#2a3f5f",
             "gridcolor": "white",
             "linecolor": "white",
             "minorgridcolor": "white",
             "startlinecolor": "#2a3f5f"
            },
            "baxis": {
             "endlinecolor": "#2a3f5f",
             "gridcolor": "white",
             "linecolor": "white",
             "minorgridcolor": "white",
             "startlinecolor": "#2a3f5f"
            },
            "type": "carpet"
           }
          ],
          "choropleth": [
           {
            "colorbar": {
             "outlinewidth": 0,
             "ticks": ""
            },
            "type": "choropleth"
           }
          ],
          "contour": [
           {
            "colorbar": {
             "outlinewidth": 0,
             "ticks": ""
            },
            "colorscale": [
             [
              0,
              "#0d0887"
             ],
             [
              0.1111111111111111,
              "#46039f"
             ],
             [
              0.2222222222222222,
              "#7201a8"
             ],
             [
              0.3333333333333333,
              "#9c179e"
             ],
             [
              0.4444444444444444,
              "#bd3786"
             ],
             [
              0.5555555555555556,
              "#d8576b"
             ],
             [
              0.6666666666666666,
              "#ed7953"
             ],
             [
              0.7777777777777778,
              "#fb9f3a"
             ],
             [
              0.8888888888888888,
              "#fdca26"
             ],
             [
              1,
              "#f0f921"
             ]
            ],
            "type": "contour"
           }
          ],
          "contourcarpet": [
           {
            "colorbar": {
             "outlinewidth": 0,
             "ticks": ""
            },
            "type": "contourcarpet"
           }
          ],
          "heatmap": [
           {
            "colorbar": {
             "outlinewidth": 0,
             "ticks": ""
            },
            "colorscale": [
             [
              0,
              "#0d0887"
             ],
             [
              0.1111111111111111,
              "#46039f"
             ],
             [
              0.2222222222222222,
              "#7201a8"
             ],
             [
              0.3333333333333333,
              "#9c179e"
             ],
             [
              0.4444444444444444,
              "#bd3786"
             ],
             [
              0.5555555555555556,
              "#d8576b"
             ],
             [
              0.6666666666666666,
              "#ed7953"
             ],
             [
              0.7777777777777778,
              "#fb9f3a"
             ],
             [
              0.8888888888888888,
              "#fdca26"
             ],
             [
              1,
              "#f0f921"
             ]
            ],
            "type": "heatmap"
           }
          ],
          "histogram": [
           {
            "marker": {
             "pattern": {
              "fillmode": "overlay",
              "size": 10,
              "solidity": 0.2
             }
            },
            "type": "histogram"
           }
          ],
          "histogram2d": [
           {
            "colorbar": {
             "outlinewidth": 0,
             "ticks": ""
            },
            "colorscale": [
             [
              0,
              "#0d0887"
             ],
             [
              0.1111111111111111,
              "#46039f"
             ],
             [
              0.2222222222222222,
              "#7201a8"
             ],
             [
              0.3333333333333333,
              "#9c179e"
             ],
             [
              0.4444444444444444,
              "#bd3786"
             ],
             [
              0.5555555555555556,
              "#d8576b"
             ],
             [
              0.6666666666666666,
              "#ed7953"
             ],
             [
              0.7777777777777778,
              "#fb9f3a"
             ],
             [
              0.8888888888888888,
              "#fdca26"
             ],
             [
              1,
              "#f0f921"
             ]
            ],
            "type": "histogram2d"
           }
          ],
          "histogram2dcontour": [
           {
            "colorbar": {
             "outlinewidth": 0,
             "ticks": ""
            },
            "colorscale": [
             [
              0,
              "#0d0887"
             ],
             [
              0.1111111111111111,
              "#46039f"
             ],
             [
              0.2222222222222222,
              "#7201a8"
             ],
             [
              0.3333333333333333,
              "#9c179e"
             ],
             [
              0.4444444444444444,
              "#bd3786"
             ],
             [
              0.5555555555555556,
              "#d8576b"
             ],
             [
              0.6666666666666666,
              "#ed7953"
             ],
             [
              0.7777777777777778,
              "#fb9f3a"
             ],
             [
              0.8888888888888888,
              "#fdca26"
             ],
             [
              1,
              "#f0f921"
             ]
            ],
            "type": "histogram2dcontour"
           }
          ],
          "mesh3d": [
           {
            "colorbar": {
             "outlinewidth": 0,
             "ticks": ""
            },
            "type": "mesh3d"
           }
          ],
          "parcoords": [
           {
            "line": {
             "colorbar": {
              "outlinewidth": 0,
              "ticks": ""
             }
            },
            "type": "parcoords"
           }
          ],
          "pie": [
           {
            "automargin": true,
            "type": "pie"
           }
          ],
          "scatter": [
           {
            "fillpattern": {
             "fillmode": "overlay",
             "size": 10,
             "solidity": 0.2
            },
            "type": "scatter"
           }
          ],
          "scatter3d": [
           {
            "line": {
             "colorbar": {
              "outlinewidth": 0,
              "ticks": ""
             }
            },
            "marker": {
             "colorbar": {
              "outlinewidth": 0,
              "ticks": ""
             }
            },
            "type": "scatter3d"
           }
          ],
          "scattercarpet": [
           {
            "marker": {
             "colorbar": {
              "outlinewidth": 0,
              "ticks": ""
             }
            },
            "type": "scattercarpet"
           }
          ],
          "scattergeo": [
           {
            "marker": {
             "colorbar": {
              "outlinewidth": 0,
              "ticks": ""
             }
            },
            "type": "scattergeo"
           }
          ],
          "scattergl": [
           {
            "marker": {
             "colorbar": {
              "outlinewidth": 0,
              "ticks": ""
             }
            },
            "type": "scattergl"
           }
          ],
          "scattermap": [
           {
            "marker": {
             "colorbar": {
              "outlinewidth": 0,
              "ticks": ""
             }
            },
            "type": "scattermap"
           }
          ],
          "scattermapbox": [
           {
            "marker": {
             "colorbar": {
              "outlinewidth": 0,
              "ticks": ""
             }
            },
            "type": "scattermapbox"
           }
          ],
          "scatterpolar": [
           {
            "marker": {
             "colorbar": {
              "outlinewidth": 0,
              "ticks": ""
             }
            },
            "type": "scatterpolar"
           }
          ],
          "scatterpolargl": [
           {
            "marker": {
             "colorbar": {
              "outlinewidth": 0,
              "ticks": ""
             }
            },
            "type": "scatterpolargl"
           }
          ],
          "scatterternary": [
           {
            "marker": {
             "colorbar": {
              "outlinewidth": 0,
              "ticks": ""
             }
            },
            "type": "scatterternary"
           }
          ],
          "surface": [
           {
            "colorbar": {
             "outlinewidth": 0,
             "ticks": ""
            },
            "colorscale": [
             [
              0,
              "#0d0887"
             ],
             [
              0.1111111111111111,
              "#46039f"
             ],
             [
              0.2222222222222222,
              "#7201a8"
             ],
             [
              0.3333333333333333,
              "#9c179e"
             ],
             [
              0.4444444444444444,
              "#bd3786"
             ],
             [
              0.5555555555555556,
              "#d8576b"
             ],
             [
              0.6666666666666666,
              "#ed7953"
             ],
             [
              0.7777777777777778,
              "#fb9f3a"
             ],
             [
              0.8888888888888888,
              "#fdca26"
             ],
             [
              1,
              "#f0f921"
             ]
            ],
            "type": "surface"
           }
          ],
          "table": [
           {
            "cells": {
             "fill": {
              "color": "#EBF0F8"
             },
             "line": {
              "color": "white"
             }
            },
            "header": {
             "fill": {
              "color": "#C8D4E3"
             },
             "line": {
              "color": "white"
             }
            },
            "type": "table"
           }
          ]
         },
         "layout": {
          "annotationdefaults": {
           "arrowcolor": "#2a3f5f",
           "arrowhead": 0,
           "arrowwidth": 1
          },
          "autotypenumbers": "strict",
          "coloraxis": {
           "colorbar": {
            "outlinewidth": 0,
            "ticks": ""
           }
          },
          "colorscale": {
           "diverging": [
            [
             0,
             "#8e0152"
            ],
            [
             0.1,
             "#c51b7d"
            ],
            [
             0.2,
             "#de77ae"
            ],
            [
             0.3,
             "#f1b6da"
            ],
            [
             0.4,
             "#fde0ef"
            ],
            [
             0.5,
             "#f7f7f7"
            ],
            [
             0.6,
             "#e6f5d0"
            ],
            [
             0.7,
             "#b8e186"
            ],
            [
             0.8,
             "#7fbc41"
            ],
            [
             0.9,
             "#4d9221"
            ],
            [
             1,
             "#276419"
            ]
           ],
           "sequential": [
            [
             0,
             "#0d0887"
            ],
            [
             0.1111111111111111,
             "#46039f"
            ],
            [
             0.2222222222222222,
             "#7201a8"
            ],
            [
             0.3333333333333333,
             "#9c179e"
            ],
            [
             0.4444444444444444,
             "#bd3786"
            ],
            [
             0.5555555555555556,
             "#d8576b"
            ],
            [
             0.6666666666666666,
             "#ed7953"
            ],
            [
             0.7777777777777778,
             "#fb9f3a"
            ],
            [
             0.8888888888888888,
             "#fdca26"
            ],
            [
             1,
             "#f0f921"
            ]
           ],
           "sequentialminus": [
            [
             0,
             "#0d0887"
            ],
            [
             0.1111111111111111,
             "#46039f"
            ],
            [
             0.2222222222222222,
             "#7201a8"
            ],
            [
             0.3333333333333333,
             "#9c179e"
            ],
            [
             0.4444444444444444,
             "#bd3786"
            ],
            [
             0.5555555555555556,
             "#d8576b"
            ],
            [
             0.6666666666666666,
             "#ed7953"
            ],
            [
             0.7777777777777778,
             "#fb9f3a"
            ],
            [
             0.8888888888888888,
             "#fdca26"
            ],
            [
             1,
             "#f0f921"
            ]
           ]
          },
          "colorway": [
           "#636efa",
           "#EF553B",
           "#00cc96",
           "#ab63fa",
           "#FFA15A",
           "#19d3f3",
           "#FF6692",
           "#B6E880",
           "#FF97FF",
           "#FECB52"
          ],
          "font": {
           "color": "#2a3f5f"
          },
          "geo": {
           "bgcolor": "white",
           "lakecolor": "white",
           "landcolor": "#E5ECF6",
           "showlakes": true,
           "showland": true,
           "subunitcolor": "white"
          },
          "hoverlabel": {
           "align": "left"
          },
          "hovermode": "closest",
          "mapbox": {
           "style": "light"
          },
          "paper_bgcolor": "white",
          "plot_bgcolor": "#E5ECF6",
          "polar": {
           "angularaxis": {
            "gridcolor": "white",
            "linecolor": "white",
            "ticks": ""
           },
           "bgcolor": "#E5ECF6",
           "radialaxis": {
            "gridcolor": "white",
            "linecolor": "white",
            "ticks": ""
           }
          },
          "scene": {
           "xaxis": {
            "backgroundcolor": "#E5ECF6",
            "gridcolor": "white",
            "gridwidth": 2,
            "linecolor": "white",
            "showbackground": true,
            "ticks": "",
            "zerolinecolor": "white"
           },
           "yaxis": {
            "backgroundcolor": "#E5ECF6",
            "gridcolor": "white",
            "gridwidth": 2,
            "linecolor": "white",
            "showbackground": true,
            "ticks": "",
            "zerolinecolor": "white"
           },
           "zaxis": {
            "backgroundcolor": "#E5ECF6",
            "gridcolor": "white",
            "gridwidth": 2,
            "linecolor": "white",
            "showbackground": true,
            "ticks": "",
            "zerolinecolor": "white"
           }
          },
          "shapedefaults": {
           "line": {
            "color": "#2a3f5f"
           }
          },
          "ternary": {
           "aaxis": {
            "gridcolor": "white",
            "linecolor": "white",
            "ticks": ""
           },
           "baxis": {
            "gridcolor": "white",
            "linecolor": "white",
            "ticks": ""
           },
           "bgcolor": "#E5ECF6",
           "caxis": {
            "gridcolor": "white",
            "linecolor": "white",
            "ticks": ""
           }
          },
          "title": {
           "x": 0.05
          },
          "xaxis": {
           "automargin": true,
           "gridcolor": "white",
           "linecolor": "white",
           "ticks": "",
           "title": {
            "standoff": 15
           },
           "zerolinecolor": "white",
           "zerolinewidth": 2
          },
          "yaxis": {
           "automargin": true,
           "gridcolor": "white",
           "linecolor": "white",
           "ticks": "",
           "title": {
            "standoff": 15
           },
           "zerolinecolor": "white",
           "zerolinewidth": 2
          }
         }
        },
        "violinmode": "group",
        "xaxis": {
         "anchor": "y",
         "domain": [
          0,
          1
         ],
         "title": {
          "text": "tip"
         }
        },
        "yaxis": {
         "anchor": "x",
         "domain": [
          0,
          1
         ],
         "title": {
          "text": "sex"
         }
        }
       }
      }
     },
     "metadata": {},
     "output_type": "display_data"
    }
   ],
   "source": [
    "px.violin(tips, x = \"tip\", y = \"sex\")"
   ]
  },
  {
   "cell_type": "code",
   "execution_count": null,
   "id": "0a7157bf-1818-4744-8a95-37223433d478",
   "metadata": {
    "vscode": {
     "languageId": "quarto"
    }
   },
   "outputs": [
    {
     "ename": "ValueError",
     "evalue": "Failed to start Kaleido subprocess. Error stream:\n\n/Users/Federica/Desktop/Graph course python/.venv/lib/python3.12/site-packages/kaleido/executable/kaleido: line 4: cd: /Users/Federica/Desktop/Graph: No such file or directory\n/Users/Federica/Desktop/Graph course python/.venv/lib/python3.12/site-packages/kaleido/executable/kaleido: line 5: ./bin/kaleido: No such file or directory\n",
     "output_type": "error",
     "traceback": [
      "\u001b[31m---------------------------------------------------------------------------\u001b[39m",
      "\u001b[31mValueError\u001b[39m                                Traceback (most recent call last)",
      "\u001b[36mCell\u001b[39m\u001b[36m \u001b[39m\u001b[32mIn[7]\u001b[39m\u001b[32m, line 2\u001b[39m\n\u001b[32m      1\u001b[39m tips_sex = px.violin(tips, x = \u001b[33m\"\u001b[39m\u001b[33mtip\u001b[39m\u001b[33m\"\u001b[39m, y = \u001b[33m\"\u001b[39m\u001b[33msex\u001b[39m\u001b[33m\"\u001b[39m)\n\u001b[32m----> \u001b[39m\u001b[32m2\u001b[39m \u001b[43mtips_sex\u001b[49m\u001b[43m.\u001b[49m\u001b[43mwrite_image\u001b[49m\u001b[43m(\u001b[49m\u001b[33;43m\"\u001b[39;49m\u001b[33;43moutputs/tips by sex.png\u001b[39;49m\u001b[33;43m\"\u001b[39;49m\u001b[43m)\u001b[49m\n",
      "\u001b[36mFile \u001b[39m\u001b[32m~/Desktop/Graph course python/.venv/lib/python3.12/site-packages/plotly/basedatatypes.py:3827\u001b[39m, in \u001b[36mBaseFigure.write_image\u001b[39m\u001b[34m(self, *args, **kwargs)\u001b[39m\n\u001b[32m   3767\u001b[39m \u001b[38;5;250m\u001b[39m\u001b[33;03m\"\"\"\u001b[39;00m\n\u001b[32m   3768\u001b[39m \u001b[33;03mConvert a figure to a static image and write it to a file or writeable\u001b[39;00m\n\u001b[32m   3769\u001b[39m \u001b[33;03mobject\u001b[39;00m\n\u001b[32m   (...)\u001b[39m\u001b[32m   3823\u001b[39m \u001b[33;03mNone\u001b[39;00m\n\u001b[32m   3824\u001b[39m \u001b[33;03m\"\"\"\u001b[39;00m\n\u001b[32m   3825\u001b[39m \u001b[38;5;28;01mimport\u001b[39;00m\u001b[38;5;250m \u001b[39m\u001b[34;01mplotly\u001b[39;00m\u001b[34;01m.\u001b[39;00m\u001b[34;01mio\u001b[39;00m\u001b[38;5;250m \u001b[39m\u001b[38;5;28;01mas\u001b[39;00m\u001b[38;5;250m \u001b[39m\u001b[34;01mpio\u001b[39;00m\n\u001b[32m-> \u001b[39m\u001b[32m3827\u001b[39m \u001b[38;5;28;01mreturn\u001b[39;00m \u001b[43mpio\u001b[49m\u001b[43m.\u001b[49m\u001b[43mwrite_image\u001b[49m\u001b[43m(\u001b[49m\u001b[38;5;28;43mself\u001b[39;49m\u001b[43m,\u001b[49m\u001b[43m \u001b[49m\u001b[43m*\u001b[49m\u001b[43margs\u001b[49m\u001b[43m,\u001b[49m\u001b[43m \u001b[49m\u001b[43m*\u001b[49m\u001b[43m*\u001b[49m\u001b[43mkwargs\u001b[49m\u001b[43m)\u001b[49m\n",
      "\u001b[36mFile \u001b[39m\u001b[32m~/Desktop/Graph course python/.venv/lib/python3.12/site-packages/plotly/io/_kaleido.py:266\u001b[39m, in \u001b[36mwrite_image\u001b[39m\u001b[34m(fig, file, format, scale, width, height, validate, engine)\u001b[39m\n\u001b[32m    250\u001b[39m             \u001b[38;5;28;01mraise\u001b[39;00m \u001b[38;5;167;01mValueError\u001b[39;00m(\n\u001b[32m    251\u001b[39m \u001b[38;5;250m                \u001b[39m\u001b[33;03m\"\"\"\u001b[39;00m\n\u001b[32m    252\u001b[39m \u001b[33;03mCannot infer image type from output path '{file}'.\u001b[39;00m\n\u001b[32m   (...)\u001b[39m\u001b[32m    260\u001b[39m                 )\n\u001b[32m    261\u001b[39m             )\n\u001b[32m    263\u001b[39m     \u001b[38;5;66;03m# Request image\u001b[39;00m\n\u001b[32m    264\u001b[39m     \u001b[38;5;66;03m# -------------\u001b[39;00m\n\u001b[32m    265\u001b[39m     \u001b[38;5;66;03m# Do this first so we don't create a file if image conversion fails\u001b[39;00m\n\u001b[32m--> \u001b[39m\u001b[32m266\u001b[39m     img_data = \u001b[43mto_image\u001b[49m\u001b[43m(\u001b[49m\n\u001b[32m    267\u001b[39m \u001b[43m        \u001b[49m\u001b[43mfig\u001b[49m\u001b[43m,\u001b[49m\n\u001b[32m    268\u001b[39m \u001b[43m        \u001b[49m\u001b[38;5;28;43mformat\u001b[39;49m\u001b[43m=\u001b[49m\u001b[38;5;28;43mformat\u001b[39;49m\u001b[43m,\u001b[49m\n\u001b[32m    269\u001b[39m \u001b[43m        \u001b[49m\u001b[43mscale\u001b[49m\u001b[43m=\u001b[49m\u001b[43mscale\u001b[49m\u001b[43m,\u001b[49m\n\u001b[32m    270\u001b[39m \u001b[43m        \u001b[49m\u001b[43mwidth\u001b[49m\u001b[43m=\u001b[49m\u001b[43mwidth\u001b[49m\u001b[43m,\u001b[49m\n\u001b[32m    271\u001b[39m \u001b[43m        \u001b[49m\u001b[43mheight\u001b[49m\u001b[43m=\u001b[49m\u001b[43mheight\u001b[49m\u001b[43m,\u001b[49m\n\u001b[32m    272\u001b[39m \u001b[43m        \u001b[49m\u001b[43mvalidate\u001b[49m\u001b[43m=\u001b[49m\u001b[43mvalidate\u001b[49m\u001b[43m,\u001b[49m\n\u001b[32m    273\u001b[39m \u001b[43m        \u001b[49m\u001b[43mengine\u001b[49m\u001b[43m=\u001b[49m\u001b[43mengine\u001b[49m\u001b[43m,\u001b[49m\n\u001b[32m    274\u001b[39m \u001b[43m    \u001b[49m\u001b[43m)\u001b[49m\n\u001b[32m    276\u001b[39m     \u001b[38;5;66;03m# Open file\u001b[39;00m\n\u001b[32m    277\u001b[39m     \u001b[38;5;66;03m# ---------\u001b[39;00m\n\u001b[32m    278\u001b[39m     \u001b[38;5;28;01mif\u001b[39;00m path \u001b[38;5;129;01mis\u001b[39;00m \u001b[38;5;28;01mNone\u001b[39;00m:\n\u001b[32m    279\u001b[39m         \u001b[38;5;66;03m# We previously failed to make sense of `file` as a pathlib object.\u001b[39;00m\n\u001b[32m    280\u001b[39m         \u001b[38;5;66;03m# Attempt to write to `file` as an open file descriptor.\u001b[39;00m\n",
      "\u001b[36mFile \u001b[39m\u001b[32m~/Desktop/Graph course python/.venv/lib/python3.12/site-packages/plotly/io/_kaleido.py:143\u001b[39m, in \u001b[36mto_image\u001b[39m\u001b[34m(fig, format, width, height, scale, validate, engine)\u001b[39m\n\u001b[32m    140\u001b[39m \u001b[38;5;66;03m# Validate figure\u001b[39;00m\n\u001b[32m    141\u001b[39m \u001b[38;5;66;03m# ---------------\u001b[39;00m\n\u001b[32m    142\u001b[39m fig_dict = validate_coerce_fig_to_dict(fig, validate)\n\u001b[32m--> \u001b[39m\u001b[32m143\u001b[39m img_bytes = \u001b[43mscope\u001b[49m\u001b[43m.\u001b[49m\u001b[43mtransform\u001b[49m\u001b[43m(\u001b[49m\n\u001b[32m    144\u001b[39m \u001b[43m    \u001b[49m\u001b[43mfig_dict\u001b[49m\u001b[43m,\u001b[49m\u001b[43m \u001b[49m\u001b[38;5;28;43mformat\u001b[39;49m\u001b[43m=\u001b[49m\u001b[38;5;28;43mformat\u001b[39;49m\u001b[43m,\u001b[49m\u001b[43m \u001b[49m\u001b[43mwidth\u001b[49m\u001b[43m=\u001b[49m\u001b[43mwidth\u001b[49m\u001b[43m,\u001b[49m\u001b[43m \u001b[49m\u001b[43mheight\u001b[49m\u001b[43m=\u001b[49m\u001b[43mheight\u001b[49m\u001b[43m,\u001b[49m\u001b[43m \u001b[49m\u001b[43mscale\u001b[49m\u001b[43m=\u001b[49m\u001b[43mscale\u001b[49m\n\u001b[32m    145\u001b[39m \u001b[43m\u001b[49m\u001b[43m)\u001b[49m\n\u001b[32m    147\u001b[39m \u001b[38;5;28;01mreturn\u001b[39;00m img_bytes\n",
      "\u001b[36mFile \u001b[39m\u001b[32m~/Desktop/Graph course python/.venv/lib/python3.12/site-packages/kaleido/scopes/plotly.py:153\u001b[39m, in \u001b[36mPlotlyScope.transform\u001b[39m\u001b[34m(self, figure, format, width, height, scale)\u001b[39m\n\u001b[32m    142\u001b[39m     \u001b[38;5;28;01mraise\u001b[39;00m \u001b[38;5;167;01mValueError\u001b[39;00m(\n\u001b[32m    143\u001b[39m         \u001b[33m\"\u001b[39m\u001b[33mInvalid format \u001b[39m\u001b[33m'\u001b[39m\u001b[38;5;132;01m{original_format}\u001b[39;00m\u001b[33m'\u001b[39m\u001b[33m.\u001b[39m\u001b[38;5;130;01m\\n\u001b[39;00m\u001b[33m\"\u001b[39m\n\u001b[32m    144\u001b[39m         \u001b[33m\"\u001b[39m\u001b[33m    Supported formats: \u001b[39m\u001b[38;5;132;01m{supported_formats_str}\u001b[39;00m\u001b[33m\"\u001b[39m\n\u001b[32m   (...)\u001b[39m\u001b[32m    148\u001b[39m         )\n\u001b[32m    149\u001b[39m     )\n\u001b[32m    151\u001b[39m \u001b[38;5;66;03m# Transform in using _perform_transform rather than superclass so we can access the full\u001b[39;00m\n\u001b[32m    152\u001b[39m \u001b[38;5;66;03m# response dict, including error codes.\u001b[39;00m\n\u001b[32m--> \u001b[39m\u001b[32m153\u001b[39m response = \u001b[38;5;28;43mself\u001b[39;49m\u001b[43m.\u001b[49m\u001b[43m_perform_transform\u001b[49m\u001b[43m(\u001b[49m\n\u001b[32m    154\u001b[39m \u001b[43m    \u001b[49m\u001b[43mfigure\u001b[49m\u001b[43m,\u001b[49m\u001b[43m \u001b[49m\u001b[38;5;28;43mformat\u001b[39;49m\u001b[43m=\u001b[49m\u001b[38;5;28;43mformat\u001b[39;49m\u001b[43m,\u001b[49m\u001b[43m \u001b[49m\u001b[43mwidth\u001b[49m\u001b[43m=\u001b[49m\u001b[43mwidth\u001b[49m\u001b[43m,\u001b[49m\u001b[43m \u001b[49m\u001b[43mheight\u001b[49m\u001b[43m=\u001b[49m\u001b[43mheight\u001b[49m\u001b[43m,\u001b[49m\u001b[43m \u001b[49m\u001b[43mscale\u001b[49m\u001b[43m=\u001b[49m\u001b[43mscale\u001b[49m\n\u001b[32m    155\u001b[39m \u001b[43m\u001b[49m\u001b[43m)\u001b[49m\n\u001b[32m    157\u001b[39m \u001b[38;5;66;03m# Check for export error, later can customize error messages for plotly Python users\u001b[39;00m\n\u001b[32m    158\u001b[39m code = response.get(\u001b[33m\"\u001b[39m\u001b[33mcode\u001b[39m\u001b[33m\"\u001b[39m, \u001b[32m0\u001b[39m)\n",
      "\u001b[36mFile \u001b[39m\u001b[32m~/Desktop/Graph course python/.venv/lib/python3.12/site-packages/kaleido/scopes/base.py:293\u001b[39m, in \u001b[36mBaseScope._perform_transform\u001b[39m\u001b[34m(self, data, **kwargs)\u001b[39m\n\u001b[32m    284\u001b[39m \u001b[38;5;250m\u001b[39m\u001b[33;03m\"\"\"\u001b[39;00m\n\u001b[32m    285\u001b[39m \u001b[33;03mTransform input data using the current scope, returning dict response with error code\u001b[39;00m\n\u001b[32m    286\u001b[39m \u001b[33;03mwhether successful or not.\u001b[39;00m\n\u001b[32m   (...)\u001b[39m\u001b[32m    290\u001b[39m \u001b[33;03m:return: Dict of response from Kaleido executable, whether successful or not\u001b[39;00m\n\u001b[32m    291\u001b[39m \u001b[33;03m\"\"\"\u001b[39;00m\n\u001b[32m    292\u001b[39m \u001b[38;5;66;03m# Ensure that kaleido subprocess is running\u001b[39;00m\n\u001b[32m--> \u001b[39m\u001b[32m293\u001b[39m \u001b[38;5;28;43mself\u001b[39;49m\u001b[43m.\u001b[49m\u001b[43m_ensure_kaleido\u001b[49m\u001b[43m(\u001b[49m\u001b[43m)\u001b[49m\n\u001b[32m    295\u001b[39m \u001b[38;5;66;03m# Perform export\u001b[39;00m\n\u001b[32m    296\u001b[39m export_spec = \u001b[38;5;28mself\u001b[39m._json_dumps(\u001b[38;5;28mdict\u001b[39m(kwargs, data=data)).encode(\u001b[33m'\u001b[39m\u001b[33mutf-8\u001b[39m\u001b[33m'\u001b[39m)\n",
      "\u001b[36mFile \u001b[39m\u001b[32m~/Desktop/Graph course python/.venv/lib/python3.12/site-packages/kaleido/scopes/base.py:198\u001b[39m, in \u001b[36mBaseScope._ensure_kaleido\u001b[39m\u001b[34m(self)\u001b[39m\n\u001b[32m    193\u001b[39m \u001b[38;5;28;01mif\u001b[39;00m \u001b[38;5;129;01mnot\u001b[39;00m startup_response_string:\n\u001b[32m    194\u001b[39m     message = (\n\u001b[32m    195\u001b[39m         \u001b[33m\"\u001b[39m\u001b[33mFailed to start Kaleido subprocess. Error stream:\u001b[39m\u001b[38;5;130;01m\\n\u001b[39;00m\u001b[38;5;130;01m\\n\u001b[39;00m\u001b[33m\"\u001b[39m +\n\u001b[32m    196\u001b[39m         \u001b[38;5;28mself\u001b[39m._get_decoded_std_error()\n\u001b[32m    197\u001b[39m     )\n\u001b[32m--> \u001b[39m\u001b[32m198\u001b[39m     \u001b[38;5;28;01mraise\u001b[39;00m \u001b[38;5;167;01mValueError\u001b[39;00m(message)\n\u001b[32m    199\u001b[39m \u001b[38;5;28;01melse\u001b[39;00m:\n\u001b[32m    200\u001b[39m     startup_response = json.loads(startup_response_string)\n",
      "\u001b[31mValueError\u001b[39m: Failed to start Kaleido subprocess. Error stream:\n\n/Users/Federica/Desktop/Graph course python/.venv/lib/python3.12/site-packages/kaleido/executable/kaleido: line 4: cd: /Users/Federica/Desktop/Graph: No such file or directory\n/Users/Federica/Desktop/Graph course python/.venv/lib/python3.12/site-packages/kaleido/executable/kaleido: line 5: ./bin/kaleido: No such file or directory\n"
     ]
    }
   ],
   "source": [
    "tips_sex = px.violin(tips, x = \"tip\", y = \"sex\")\n",
    "tips_sex.write_image(\"outputs/tips by sex.png\")"
   ]
  },
  {
   "cell_type": "code",
   "execution_count": null,
   "id": "22a400f8-42b7-4894-9f4e-58829088175a",
   "metadata": {
    "vscode": {
     "languageId": "quarto"
    }
   },
   "outputs": [
    {
     "ename": "ValueError",
     "evalue": "Failed to start Kaleido subprocess. Error stream:\n\n/Users/Federica/Desktop/Graph course python/.venv/lib/python3.12/site-packages/kaleido/executable/kaleido: line 4: cd: /Users/Federica/Desktop/Graph: No such file or directory\n/Users/Federica/Desktop/Graph course python/.venv/lib/python3.12/site-packages/kaleido/executable/kaleido: line 5: ./bin/kaleido: No such file or directory\n",
     "output_type": "error",
     "traceback": [
      "\u001b[31m---------------------------------------------------------------------------\u001b[39m",
      "\u001b[31mValueError\u001b[39m                                Traceback (most recent call last)",
      "\u001b[36mCell\u001b[39m\u001b[36m \u001b[39m\u001b[32mIn[8]\u001b[39m\u001b[32m, line 2\u001b[39m\n\u001b[32m      1\u001b[39m tips_sex = px.violin(tips, x = \u001b[33m\"\u001b[39m\u001b[33mtip\u001b[39m\u001b[33m\"\u001b[39m, y = \u001b[33m\"\u001b[39m\u001b[33msex\u001b[39m\u001b[33m\"\u001b[39m)\n\u001b[32m----> \u001b[39m\u001b[32m2\u001b[39m \u001b[43mtips_sex\u001b[49m\u001b[43m.\u001b[49m\u001b[43mwrite_image\u001b[49m\u001b[43m(\u001b[49m\u001b[33;43m\"\u001b[39;49m\u001b[33;43moutputs/tips by sex.png\u001b[39;49m\u001b[33;43m\"\u001b[39;49m\u001b[43m)\u001b[49m\n",
      "\u001b[36mFile \u001b[39m\u001b[32m~/Desktop/Graph course python/.venv/lib/python3.12/site-packages/plotly/basedatatypes.py:3827\u001b[39m, in \u001b[36mBaseFigure.write_image\u001b[39m\u001b[34m(self, *args, **kwargs)\u001b[39m\n\u001b[32m   3767\u001b[39m \u001b[38;5;250m\u001b[39m\u001b[33;03m\"\"\"\u001b[39;00m\n\u001b[32m   3768\u001b[39m \u001b[33;03mConvert a figure to a static image and write it to a file or writeable\u001b[39;00m\n\u001b[32m   3769\u001b[39m \u001b[33;03mobject\u001b[39;00m\n\u001b[32m   (...)\u001b[39m\u001b[32m   3823\u001b[39m \u001b[33;03mNone\u001b[39;00m\n\u001b[32m   3824\u001b[39m \u001b[33;03m\"\"\"\u001b[39;00m\n\u001b[32m   3825\u001b[39m \u001b[38;5;28;01mimport\u001b[39;00m\u001b[38;5;250m \u001b[39m\u001b[34;01mplotly\u001b[39;00m\u001b[34;01m.\u001b[39;00m\u001b[34;01mio\u001b[39;00m\u001b[38;5;250m \u001b[39m\u001b[38;5;28;01mas\u001b[39;00m\u001b[38;5;250m \u001b[39m\u001b[34;01mpio\u001b[39;00m\n\u001b[32m-> \u001b[39m\u001b[32m3827\u001b[39m \u001b[38;5;28;01mreturn\u001b[39;00m \u001b[43mpio\u001b[49m\u001b[43m.\u001b[49m\u001b[43mwrite_image\u001b[49m\u001b[43m(\u001b[49m\u001b[38;5;28;43mself\u001b[39;49m\u001b[43m,\u001b[49m\u001b[43m \u001b[49m\u001b[43m*\u001b[49m\u001b[43margs\u001b[49m\u001b[43m,\u001b[49m\u001b[43m \u001b[49m\u001b[43m*\u001b[49m\u001b[43m*\u001b[49m\u001b[43mkwargs\u001b[49m\u001b[43m)\u001b[49m\n",
      "\u001b[36mFile \u001b[39m\u001b[32m~/Desktop/Graph course python/.venv/lib/python3.12/site-packages/plotly/io/_kaleido.py:266\u001b[39m, in \u001b[36mwrite_image\u001b[39m\u001b[34m(fig, file, format, scale, width, height, validate, engine)\u001b[39m\n\u001b[32m    250\u001b[39m             \u001b[38;5;28;01mraise\u001b[39;00m \u001b[38;5;167;01mValueError\u001b[39;00m(\n\u001b[32m    251\u001b[39m \u001b[38;5;250m                \u001b[39m\u001b[33;03m\"\"\"\u001b[39;00m\n\u001b[32m    252\u001b[39m \u001b[33;03mCannot infer image type from output path '{file}'.\u001b[39;00m\n\u001b[32m   (...)\u001b[39m\u001b[32m    260\u001b[39m                 )\n\u001b[32m    261\u001b[39m             )\n\u001b[32m    263\u001b[39m     \u001b[38;5;66;03m# Request image\u001b[39;00m\n\u001b[32m    264\u001b[39m     \u001b[38;5;66;03m# -------------\u001b[39;00m\n\u001b[32m    265\u001b[39m     \u001b[38;5;66;03m# Do this first so we don't create a file if image conversion fails\u001b[39;00m\n\u001b[32m--> \u001b[39m\u001b[32m266\u001b[39m     img_data = \u001b[43mto_image\u001b[49m\u001b[43m(\u001b[49m\n\u001b[32m    267\u001b[39m \u001b[43m        \u001b[49m\u001b[43mfig\u001b[49m\u001b[43m,\u001b[49m\n\u001b[32m    268\u001b[39m \u001b[43m        \u001b[49m\u001b[38;5;28;43mformat\u001b[39;49m\u001b[43m=\u001b[49m\u001b[38;5;28;43mformat\u001b[39;49m\u001b[43m,\u001b[49m\n\u001b[32m    269\u001b[39m \u001b[43m        \u001b[49m\u001b[43mscale\u001b[49m\u001b[43m=\u001b[49m\u001b[43mscale\u001b[49m\u001b[43m,\u001b[49m\n\u001b[32m    270\u001b[39m \u001b[43m        \u001b[49m\u001b[43mwidth\u001b[49m\u001b[43m=\u001b[49m\u001b[43mwidth\u001b[49m\u001b[43m,\u001b[49m\n\u001b[32m    271\u001b[39m \u001b[43m        \u001b[49m\u001b[43mheight\u001b[49m\u001b[43m=\u001b[49m\u001b[43mheight\u001b[49m\u001b[43m,\u001b[49m\n\u001b[32m    272\u001b[39m \u001b[43m        \u001b[49m\u001b[43mvalidate\u001b[49m\u001b[43m=\u001b[49m\u001b[43mvalidate\u001b[49m\u001b[43m,\u001b[49m\n\u001b[32m    273\u001b[39m \u001b[43m        \u001b[49m\u001b[43mengine\u001b[49m\u001b[43m=\u001b[49m\u001b[43mengine\u001b[49m\u001b[43m,\u001b[49m\n\u001b[32m    274\u001b[39m \u001b[43m    \u001b[49m\u001b[43m)\u001b[49m\n\u001b[32m    276\u001b[39m     \u001b[38;5;66;03m# Open file\u001b[39;00m\n\u001b[32m    277\u001b[39m     \u001b[38;5;66;03m# ---------\u001b[39;00m\n\u001b[32m    278\u001b[39m     \u001b[38;5;28;01mif\u001b[39;00m path \u001b[38;5;129;01mis\u001b[39;00m \u001b[38;5;28;01mNone\u001b[39;00m:\n\u001b[32m    279\u001b[39m         \u001b[38;5;66;03m# We previously failed to make sense of `file` as a pathlib object.\u001b[39;00m\n\u001b[32m    280\u001b[39m         \u001b[38;5;66;03m# Attempt to write to `file` as an open file descriptor.\u001b[39;00m\n",
      "\u001b[36mFile \u001b[39m\u001b[32m~/Desktop/Graph course python/.venv/lib/python3.12/site-packages/plotly/io/_kaleido.py:143\u001b[39m, in \u001b[36mto_image\u001b[39m\u001b[34m(fig, format, width, height, scale, validate, engine)\u001b[39m\n\u001b[32m    140\u001b[39m \u001b[38;5;66;03m# Validate figure\u001b[39;00m\n\u001b[32m    141\u001b[39m \u001b[38;5;66;03m# ---------------\u001b[39;00m\n\u001b[32m    142\u001b[39m fig_dict = validate_coerce_fig_to_dict(fig, validate)\n\u001b[32m--> \u001b[39m\u001b[32m143\u001b[39m img_bytes = \u001b[43mscope\u001b[49m\u001b[43m.\u001b[49m\u001b[43mtransform\u001b[49m\u001b[43m(\u001b[49m\n\u001b[32m    144\u001b[39m \u001b[43m    \u001b[49m\u001b[43mfig_dict\u001b[49m\u001b[43m,\u001b[49m\u001b[43m \u001b[49m\u001b[38;5;28;43mformat\u001b[39;49m\u001b[43m=\u001b[49m\u001b[38;5;28;43mformat\u001b[39;49m\u001b[43m,\u001b[49m\u001b[43m \u001b[49m\u001b[43mwidth\u001b[49m\u001b[43m=\u001b[49m\u001b[43mwidth\u001b[49m\u001b[43m,\u001b[49m\u001b[43m \u001b[49m\u001b[43mheight\u001b[49m\u001b[43m=\u001b[49m\u001b[43mheight\u001b[49m\u001b[43m,\u001b[49m\u001b[43m \u001b[49m\u001b[43mscale\u001b[49m\u001b[43m=\u001b[49m\u001b[43mscale\u001b[49m\n\u001b[32m    145\u001b[39m \u001b[43m\u001b[49m\u001b[43m)\u001b[49m\n\u001b[32m    147\u001b[39m \u001b[38;5;28;01mreturn\u001b[39;00m img_bytes\n",
      "\u001b[36mFile \u001b[39m\u001b[32m~/Desktop/Graph course python/.venv/lib/python3.12/site-packages/kaleido/scopes/plotly.py:153\u001b[39m, in \u001b[36mPlotlyScope.transform\u001b[39m\u001b[34m(self, figure, format, width, height, scale)\u001b[39m\n\u001b[32m    142\u001b[39m     \u001b[38;5;28;01mraise\u001b[39;00m \u001b[38;5;167;01mValueError\u001b[39;00m(\n\u001b[32m    143\u001b[39m         \u001b[33m\"\u001b[39m\u001b[33mInvalid format \u001b[39m\u001b[33m'\u001b[39m\u001b[38;5;132;01m{original_format}\u001b[39;00m\u001b[33m'\u001b[39m\u001b[33m.\u001b[39m\u001b[38;5;130;01m\\n\u001b[39;00m\u001b[33m\"\u001b[39m\n\u001b[32m    144\u001b[39m         \u001b[33m\"\u001b[39m\u001b[33m    Supported formats: \u001b[39m\u001b[38;5;132;01m{supported_formats_str}\u001b[39;00m\u001b[33m\"\u001b[39m\n\u001b[32m   (...)\u001b[39m\u001b[32m    148\u001b[39m         )\n\u001b[32m    149\u001b[39m     )\n\u001b[32m    151\u001b[39m \u001b[38;5;66;03m# Transform in using _perform_transform rather than superclass so we can access the full\u001b[39;00m\n\u001b[32m    152\u001b[39m \u001b[38;5;66;03m# response dict, including error codes.\u001b[39;00m\n\u001b[32m--> \u001b[39m\u001b[32m153\u001b[39m response = \u001b[38;5;28;43mself\u001b[39;49m\u001b[43m.\u001b[49m\u001b[43m_perform_transform\u001b[49m\u001b[43m(\u001b[49m\n\u001b[32m    154\u001b[39m \u001b[43m    \u001b[49m\u001b[43mfigure\u001b[49m\u001b[43m,\u001b[49m\u001b[43m \u001b[49m\u001b[38;5;28;43mformat\u001b[39;49m\u001b[43m=\u001b[49m\u001b[38;5;28;43mformat\u001b[39;49m\u001b[43m,\u001b[49m\u001b[43m \u001b[49m\u001b[43mwidth\u001b[49m\u001b[43m=\u001b[49m\u001b[43mwidth\u001b[49m\u001b[43m,\u001b[49m\u001b[43m \u001b[49m\u001b[43mheight\u001b[49m\u001b[43m=\u001b[49m\u001b[43mheight\u001b[49m\u001b[43m,\u001b[49m\u001b[43m \u001b[49m\u001b[43mscale\u001b[49m\u001b[43m=\u001b[49m\u001b[43mscale\u001b[49m\n\u001b[32m    155\u001b[39m \u001b[43m\u001b[49m\u001b[43m)\u001b[49m\n\u001b[32m    157\u001b[39m \u001b[38;5;66;03m# Check for export error, later can customize error messages for plotly Python users\u001b[39;00m\n\u001b[32m    158\u001b[39m code = response.get(\u001b[33m\"\u001b[39m\u001b[33mcode\u001b[39m\u001b[33m\"\u001b[39m, \u001b[32m0\u001b[39m)\n",
      "\u001b[36mFile \u001b[39m\u001b[32m~/Desktop/Graph course python/.venv/lib/python3.12/site-packages/kaleido/scopes/base.py:293\u001b[39m, in \u001b[36mBaseScope._perform_transform\u001b[39m\u001b[34m(self, data, **kwargs)\u001b[39m\n\u001b[32m    284\u001b[39m \u001b[38;5;250m\u001b[39m\u001b[33;03m\"\"\"\u001b[39;00m\n\u001b[32m    285\u001b[39m \u001b[33;03mTransform input data using the current scope, returning dict response with error code\u001b[39;00m\n\u001b[32m    286\u001b[39m \u001b[33;03mwhether successful or not.\u001b[39;00m\n\u001b[32m   (...)\u001b[39m\u001b[32m    290\u001b[39m \u001b[33;03m:return: Dict of response from Kaleido executable, whether successful or not\u001b[39;00m\n\u001b[32m    291\u001b[39m \u001b[33;03m\"\"\"\u001b[39;00m\n\u001b[32m    292\u001b[39m \u001b[38;5;66;03m# Ensure that kaleido subprocess is running\u001b[39;00m\n\u001b[32m--> \u001b[39m\u001b[32m293\u001b[39m \u001b[38;5;28;43mself\u001b[39;49m\u001b[43m.\u001b[49m\u001b[43m_ensure_kaleido\u001b[49m\u001b[43m(\u001b[49m\u001b[43m)\u001b[49m\n\u001b[32m    295\u001b[39m \u001b[38;5;66;03m# Perform export\u001b[39;00m\n\u001b[32m    296\u001b[39m export_spec = \u001b[38;5;28mself\u001b[39m._json_dumps(\u001b[38;5;28mdict\u001b[39m(kwargs, data=data)).encode(\u001b[33m'\u001b[39m\u001b[33mutf-8\u001b[39m\u001b[33m'\u001b[39m)\n",
      "\u001b[36mFile \u001b[39m\u001b[32m~/Desktop/Graph course python/.venv/lib/python3.12/site-packages/kaleido/scopes/base.py:198\u001b[39m, in \u001b[36mBaseScope._ensure_kaleido\u001b[39m\u001b[34m(self)\u001b[39m\n\u001b[32m    193\u001b[39m \u001b[38;5;28;01mif\u001b[39;00m \u001b[38;5;129;01mnot\u001b[39;00m startup_response_string:\n\u001b[32m    194\u001b[39m     message = (\n\u001b[32m    195\u001b[39m         \u001b[33m\"\u001b[39m\u001b[33mFailed to start Kaleido subprocess. Error stream:\u001b[39m\u001b[38;5;130;01m\\n\u001b[39;00m\u001b[38;5;130;01m\\n\u001b[39;00m\u001b[33m\"\u001b[39m +\n\u001b[32m    196\u001b[39m         \u001b[38;5;28mself\u001b[39m._get_decoded_std_error()\n\u001b[32m    197\u001b[39m     )\n\u001b[32m--> \u001b[39m\u001b[32m198\u001b[39m     \u001b[38;5;28;01mraise\u001b[39;00m \u001b[38;5;167;01mValueError\u001b[39;00m(message)\n\u001b[32m    199\u001b[39m \u001b[38;5;28;01melse\u001b[39;00m:\n\u001b[32m    200\u001b[39m     startup_response = json.loads(startup_response_string)\n",
      "\u001b[31mValueError\u001b[39m: Failed to start Kaleido subprocess. Error stream:\n\n/Users/Federica/Desktop/Graph course python/.venv/lib/python3.12/site-packages/kaleido/executable/kaleido: line 4: cd: /Users/Federica/Desktop/Graph: No such file or directory\n/Users/Federica/Desktop/Graph course python/.venv/lib/python3.12/site-packages/kaleido/executable/kaleido: line 5: ./bin/kaleido: No such file or directory\n"
     ]
    }
   ],
   "source": [
    "tips_sex = px.violin(tips, x = \"tip\", y = \"sex\")\n",
    "tips_sex.write_image(\"outputs/tips by sex.png\")"
   ]
  },
  {
   "cell_type": "code",
   "execution_count": null,
   "id": "a8c3ba6c-dfcf-48da-a2ef-10d76df8ce0d",
   "metadata": {
    "vscode": {
     "languageId": "quarto"
    }
   },
   "outputs": [
    {
     "ename": "ValueError",
     "evalue": "Failed to start Kaleido subprocess. Error stream:\n\n/Users/Federica/Desktop/Graph course python/.venv/lib/python3.12/site-packages/kaleido/executable/kaleido: line 4: cd: /Users/Federica/Desktop/Graph: No such file or directory\n/Users/Federica/Desktop/Graph course python/.venv/lib/python3.12/site-packages/kaleido/executable/kaleido: line 5: ./bin/kaleido: No such file or directory\n",
     "output_type": "error",
     "traceback": [
      "\u001b[31m---------------------------------------------------------------------------\u001b[39m",
      "\u001b[31mValueError\u001b[39m                                Traceback (most recent call last)",
      "\u001b[36mCell\u001b[39m\u001b[36m \u001b[39m\u001b[32mIn[9]\u001b[39m\u001b[32m, line 1\u001b[39m\n\u001b[32m----> \u001b[39m\u001b[32m1\u001b[39m \u001b[43mtips_sex\u001b[49m\u001b[43m.\u001b[49m\u001b[43mwrite_image\u001b[49m\u001b[43m(\u001b[49m\u001b[33;43m\"\u001b[39;49m\u001b[33;43mtips_sex_plot.png\u001b[39;49m\u001b[33;43m\"\u001b[39;49m\u001b[43m)\u001b[49m\n",
      "\u001b[36mFile \u001b[39m\u001b[32m~/Desktop/Graph course python/.venv/lib/python3.12/site-packages/plotly/basedatatypes.py:3827\u001b[39m, in \u001b[36mBaseFigure.write_image\u001b[39m\u001b[34m(self, *args, **kwargs)\u001b[39m\n\u001b[32m   3767\u001b[39m \u001b[38;5;250m\u001b[39m\u001b[33;03m\"\"\"\u001b[39;00m\n\u001b[32m   3768\u001b[39m \u001b[33;03mConvert a figure to a static image and write it to a file or writeable\u001b[39;00m\n\u001b[32m   3769\u001b[39m \u001b[33;03mobject\u001b[39;00m\n\u001b[32m   (...)\u001b[39m\u001b[32m   3823\u001b[39m \u001b[33;03mNone\u001b[39;00m\n\u001b[32m   3824\u001b[39m \u001b[33;03m\"\"\"\u001b[39;00m\n\u001b[32m   3825\u001b[39m \u001b[38;5;28;01mimport\u001b[39;00m\u001b[38;5;250m \u001b[39m\u001b[34;01mplotly\u001b[39;00m\u001b[34;01m.\u001b[39;00m\u001b[34;01mio\u001b[39;00m\u001b[38;5;250m \u001b[39m\u001b[38;5;28;01mas\u001b[39;00m\u001b[38;5;250m \u001b[39m\u001b[34;01mpio\u001b[39;00m\n\u001b[32m-> \u001b[39m\u001b[32m3827\u001b[39m \u001b[38;5;28;01mreturn\u001b[39;00m \u001b[43mpio\u001b[49m\u001b[43m.\u001b[49m\u001b[43mwrite_image\u001b[49m\u001b[43m(\u001b[49m\u001b[38;5;28;43mself\u001b[39;49m\u001b[43m,\u001b[49m\u001b[43m \u001b[49m\u001b[43m*\u001b[49m\u001b[43margs\u001b[49m\u001b[43m,\u001b[49m\u001b[43m \u001b[49m\u001b[43m*\u001b[49m\u001b[43m*\u001b[49m\u001b[43mkwargs\u001b[49m\u001b[43m)\u001b[49m\n",
      "\u001b[36mFile \u001b[39m\u001b[32m~/Desktop/Graph course python/.venv/lib/python3.12/site-packages/plotly/io/_kaleido.py:266\u001b[39m, in \u001b[36mwrite_image\u001b[39m\u001b[34m(fig, file, format, scale, width, height, validate, engine)\u001b[39m\n\u001b[32m    250\u001b[39m             \u001b[38;5;28;01mraise\u001b[39;00m \u001b[38;5;167;01mValueError\u001b[39;00m(\n\u001b[32m    251\u001b[39m \u001b[38;5;250m                \u001b[39m\u001b[33;03m\"\"\"\u001b[39;00m\n\u001b[32m    252\u001b[39m \u001b[33;03mCannot infer image type from output path '{file}'.\u001b[39;00m\n\u001b[32m   (...)\u001b[39m\u001b[32m    260\u001b[39m                 )\n\u001b[32m    261\u001b[39m             )\n\u001b[32m    263\u001b[39m     \u001b[38;5;66;03m# Request image\u001b[39;00m\n\u001b[32m    264\u001b[39m     \u001b[38;5;66;03m# -------------\u001b[39;00m\n\u001b[32m    265\u001b[39m     \u001b[38;5;66;03m# Do this first so we don't create a file if image conversion fails\u001b[39;00m\n\u001b[32m--> \u001b[39m\u001b[32m266\u001b[39m     img_data = \u001b[43mto_image\u001b[49m\u001b[43m(\u001b[49m\n\u001b[32m    267\u001b[39m \u001b[43m        \u001b[49m\u001b[43mfig\u001b[49m\u001b[43m,\u001b[49m\n\u001b[32m    268\u001b[39m \u001b[43m        \u001b[49m\u001b[38;5;28;43mformat\u001b[39;49m\u001b[43m=\u001b[49m\u001b[38;5;28;43mformat\u001b[39;49m\u001b[43m,\u001b[49m\n\u001b[32m    269\u001b[39m \u001b[43m        \u001b[49m\u001b[43mscale\u001b[49m\u001b[43m=\u001b[49m\u001b[43mscale\u001b[49m\u001b[43m,\u001b[49m\n\u001b[32m    270\u001b[39m \u001b[43m        \u001b[49m\u001b[43mwidth\u001b[49m\u001b[43m=\u001b[49m\u001b[43mwidth\u001b[49m\u001b[43m,\u001b[49m\n\u001b[32m    271\u001b[39m \u001b[43m        \u001b[49m\u001b[43mheight\u001b[49m\u001b[43m=\u001b[49m\u001b[43mheight\u001b[49m\u001b[43m,\u001b[49m\n\u001b[32m    272\u001b[39m \u001b[43m        \u001b[49m\u001b[43mvalidate\u001b[49m\u001b[43m=\u001b[49m\u001b[43mvalidate\u001b[49m\u001b[43m,\u001b[49m\n\u001b[32m    273\u001b[39m \u001b[43m        \u001b[49m\u001b[43mengine\u001b[49m\u001b[43m=\u001b[49m\u001b[43mengine\u001b[49m\u001b[43m,\u001b[49m\n\u001b[32m    274\u001b[39m \u001b[43m    \u001b[49m\u001b[43m)\u001b[49m\n\u001b[32m    276\u001b[39m     \u001b[38;5;66;03m# Open file\u001b[39;00m\n\u001b[32m    277\u001b[39m     \u001b[38;5;66;03m# ---------\u001b[39;00m\n\u001b[32m    278\u001b[39m     \u001b[38;5;28;01mif\u001b[39;00m path \u001b[38;5;129;01mis\u001b[39;00m \u001b[38;5;28;01mNone\u001b[39;00m:\n\u001b[32m    279\u001b[39m         \u001b[38;5;66;03m# We previously failed to make sense of `file` as a pathlib object.\u001b[39;00m\n\u001b[32m    280\u001b[39m         \u001b[38;5;66;03m# Attempt to write to `file` as an open file descriptor.\u001b[39;00m\n",
      "\u001b[36mFile \u001b[39m\u001b[32m~/Desktop/Graph course python/.venv/lib/python3.12/site-packages/plotly/io/_kaleido.py:143\u001b[39m, in \u001b[36mto_image\u001b[39m\u001b[34m(fig, format, width, height, scale, validate, engine)\u001b[39m\n\u001b[32m    140\u001b[39m \u001b[38;5;66;03m# Validate figure\u001b[39;00m\n\u001b[32m    141\u001b[39m \u001b[38;5;66;03m# ---------------\u001b[39;00m\n\u001b[32m    142\u001b[39m fig_dict = validate_coerce_fig_to_dict(fig, validate)\n\u001b[32m--> \u001b[39m\u001b[32m143\u001b[39m img_bytes = \u001b[43mscope\u001b[49m\u001b[43m.\u001b[49m\u001b[43mtransform\u001b[49m\u001b[43m(\u001b[49m\n\u001b[32m    144\u001b[39m \u001b[43m    \u001b[49m\u001b[43mfig_dict\u001b[49m\u001b[43m,\u001b[49m\u001b[43m \u001b[49m\u001b[38;5;28;43mformat\u001b[39;49m\u001b[43m=\u001b[49m\u001b[38;5;28;43mformat\u001b[39;49m\u001b[43m,\u001b[49m\u001b[43m \u001b[49m\u001b[43mwidth\u001b[49m\u001b[43m=\u001b[49m\u001b[43mwidth\u001b[49m\u001b[43m,\u001b[49m\u001b[43m \u001b[49m\u001b[43mheight\u001b[49m\u001b[43m=\u001b[49m\u001b[43mheight\u001b[49m\u001b[43m,\u001b[49m\u001b[43m \u001b[49m\u001b[43mscale\u001b[49m\u001b[43m=\u001b[49m\u001b[43mscale\u001b[49m\n\u001b[32m    145\u001b[39m \u001b[43m\u001b[49m\u001b[43m)\u001b[49m\n\u001b[32m    147\u001b[39m \u001b[38;5;28;01mreturn\u001b[39;00m img_bytes\n",
      "\u001b[36mFile \u001b[39m\u001b[32m~/Desktop/Graph course python/.venv/lib/python3.12/site-packages/kaleido/scopes/plotly.py:153\u001b[39m, in \u001b[36mPlotlyScope.transform\u001b[39m\u001b[34m(self, figure, format, width, height, scale)\u001b[39m\n\u001b[32m    142\u001b[39m     \u001b[38;5;28;01mraise\u001b[39;00m \u001b[38;5;167;01mValueError\u001b[39;00m(\n\u001b[32m    143\u001b[39m         \u001b[33m\"\u001b[39m\u001b[33mInvalid format \u001b[39m\u001b[33m'\u001b[39m\u001b[38;5;132;01m{original_format}\u001b[39;00m\u001b[33m'\u001b[39m\u001b[33m.\u001b[39m\u001b[38;5;130;01m\\n\u001b[39;00m\u001b[33m\"\u001b[39m\n\u001b[32m    144\u001b[39m         \u001b[33m\"\u001b[39m\u001b[33m    Supported formats: \u001b[39m\u001b[38;5;132;01m{supported_formats_str}\u001b[39;00m\u001b[33m\"\u001b[39m\n\u001b[32m   (...)\u001b[39m\u001b[32m    148\u001b[39m         )\n\u001b[32m    149\u001b[39m     )\n\u001b[32m    151\u001b[39m \u001b[38;5;66;03m# Transform in using _perform_transform rather than superclass so we can access the full\u001b[39;00m\n\u001b[32m    152\u001b[39m \u001b[38;5;66;03m# response dict, including error codes.\u001b[39;00m\n\u001b[32m--> \u001b[39m\u001b[32m153\u001b[39m response = \u001b[38;5;28;43mself\u001b[39;49m\u001b[43m.\u001b[49m\u001b[43m_perform_transform\u001b[49m\u001b[43m(\u001b[49m\n\u001b[32m    154\u001b[39m \u001b[43m    \u001b[49m\u001b[43mfigure\u001b[49m\u001b[43m,\u001b[49m\u001b[43m \u001b[49m\u001b[38;5;28;43mformat\u001b[39;49m\u001b[43m=\u001b[49m\u001b[38;5;28;43mformat\u001b[39;49m\u001b[43m,\u001b[49m\u001b[43m \u001b[49m\u001b[43mwidth\u001b[49m\u001b[43m=\u001b[49m\u001b[43mwidth\u001b[49m\u001b[43m,\u001b[49m\u001b[43m \u001b[49m\u001b[43mheight\u001b[49m\u001b[43m=\u001b[49m\u001b[43mheight\u001b[49m\u001b[43m,\u001b[49m\u001b[43m \u001b[49m\u001b[43mscale\u001b[49m\u001b[43m=\u001b[49m\u001b[43mscale\u001b[49m\n\u001b[32m    155\u001b[39m \u001b[43m\u001b[49m\u001b[43m)\u001b[49m\n\u001b[32m    157\u001b[39m \u001b[38;5;66;03m# Check for export error, later can customize error messages for plotly Python users\u001b[39;00m\n\u001b[32m    158\u001b[39m code = response.get(\u001b[33m\"\u001b[39m\u001b[33mcode\u001b[39m\u001b[33m\"\u001b[39m, \u001b[32m0\u001b[39m)\n",
      "\u001b[36mFile \u001b[39m\u001b[32m~/Desktop/Graph course python/.venv/lib/python3.12/site-packages/kaleido/scopes/base.py:293\u001b[39m, in \u001b[36mBaseScope._perform_transform\u001b[39m\u001b[34m(self, data, **kwargs)\u001b[39m\n\u001b[32m    284\u001b[39m \u001b[38;5;250m\u001b[39m\u001b[33;03m\"\"\"\u001b[39;00m\n\u001b[32m    285\u001b[39m \u001b[33;03mTransform input data using the current scope, returning dict response with error code\u001b[39;00m\n\u001b[32m    286\u001b[39m \u001b[33;03mwhether successful or not.\u001b[39;00m\n\u001b[32m   (...)\u001b[39m\u001b[32m    290\u001b[39m \u001b[33;03m:return: Dict of response from Kaleido executable, whether successful or not\u001b[39;00m\n\u001b[32m    291\u001b[39m \u001b[33;03m\"\"\"\u001b[39;00m\n\u001b[32m    292\u001b[39m \u001b[38;5;66;03m# Ensure that kaleido subprocess is running\u001b[39;00m\n\u001b[32m--> \u001b[39m\u001b[32m293\u001b[39m \u001b[38;5;28;43mself\u001b[39;49m\u001b[43m.\u001b[49m\u001b[43m_ensure_kaleido\u001b[49m\u001b[43m(\u001b[49m\u001b[43m)\u001b[49m\n\u001b[32m    295\u001b[39m \u001b[38;5;66;03m# Perform export\u001b[39;00m\n\u001b[32m    296\u001b[39m export_spec = \u001b[38;5;28mself\u001b[39m._json_dumps(\u001b[38;5;28mdict\u001b[39m(kwargs, data=data)).encode(\u001b[33m'\u001b[39m\u001b[33mutf-8\u001b[39m\u001b[33m'\u001b[39m)\n",
      "\u001b[36mFile \u001b[39m\u001b[32m~/Desktop/Graph course python/.venv/lib/python3.12/site-packages/kaleido/scopes/base.py:198\u001b[39m, in \u001b[36mBaseScope._ensure_kaleido\u001b[39m\u001b[34m(self)\u001b[39m\n\u001b[32m    193\u001b[39m \u001b[38;5;28;01mif\u001b[39;00m \u001b[38;5;129;01mnot\u001b[39;00m startup_response_string:\n\u001b[32m    194\u001b[39m     message = (\n\u001b[32m    195\u001b[39m         \u001b[33m\"\u001b[39m\u001b[33mFailed to start Kaleido subprocess. Error stream:\u001b[39m\u001b[38;5;130;01m\\n\u001b[39;00m\u001b[38;5;130;01m\\n\u001b[39;00m\u001b[33m\"\u001b[39m +\n\u001b[32m    196\u001b[39m         \u001b[38;5;28mself\u001b[39m._get_decoded_std_error()\n\u001b[32m    197\u001b[39m     )\n\u001b[32m--> \u001b[39m\u001b[32m198\u001b[39m     \u001b[38;5;28;01mraise\u001b[39;00m \u001b[38;5;167;01mValueError\u001b[39;00m(message)\n\u001b[32m    199\u001b[39m \u001b[38;5;28;01melse\u001b[39;00m:\n\u001b[32m    200\u001b[39m     startup_response = json.loads(startup_response_string)\n",
      "\u001b[31mValueError\u001b[39m: Failed to start Kaleido subprocess. Error stream:\n\n/Users/Federica/Desktop/Graph course python/.venv/lib/python3.12/site-packages/kaleido/executable/kaleido: line 4: cd: /Users/Federica/Desktop/Graph: No such file or directory\n/Users/Federica/Desktop/Graph course python/.venv/lib/python3.12/site-packages/kaleido/executable/kaleido: line 5: ./bin/kaleido: No such file or directory\n"
     ]
    }
   ],
   "source": [
    "tips_sex.write_image(\"tips_sex_plot.png\")"
   ]
  },
  {
   "cell_type": "code",
   "execution_count": null,
   "id": "75107eb9-1a0c-479f-88c6-7d046fee7206",
   "metadata": {
    "vscode": {
     "languageId": "quarto"
    }
   },
   "outputs": [
    {
     "data": {
      "application/vnd.plotly.v1+json": {
       "config": {
        "plotlyServerURL": "https://plot.ly"
       },
       "data": [
        {
         "alignmentgroup": "True",
         "box": {
          "visible": false
         },
         "hovertemplate": "sex=Female<br>day=%{x}<br>total_bill=%{y}<extra></extra>",
         "legendgroup": "Female",
         "marker": {
          "color": "#636efa"
         },
         "name": "Female",
         "offsetgroup": "Female",
         "orientation": "v",
         "scalegroup": "True",
         "showlegend": true,
         "type": "violin",
         "x": [
          "Sun",
          "Sun",
          "Sun",
          "Sun",
          "Sun",
          "Sun",
          "Sat",
          "Sat",
          "Sat",
          "Sat",
          "Sat",
          "Sat",
          "Sun",
          "Sun",
          "Sat",
          "Sat",
          "Sat",
          "Sat",
          "Sat",
          "Sat",
          "Sat",
          "Thur",
          "Thur",
          "Fri",
          "Fri",
          "Fri",
          "Fri",
          "Fri",
          "Sat",
          "Sat",
          "Sat",
          "Sat",
          "Sat",
          "Sun",
          "Sun",
          "Thur",
          "Thur",
          "Thur",
          "Thur",
          "Thur",
          "Thur",
          "Thur",
          "Thur",
          "Thur",
          "Thur",
          "Thur",
          "Thur",
          "Thur",
          "Thur",
          "Thur",
          "Thur",
          "Thur",
          "Thur",
          "Thur",
          "Thur",
          "Thur",
          "Thur",
          "Sun",
          "Sun",
          "Sun",
          "Sun",
          "Sun",
          "Sat",
          "Sat",
          "Sun",
          "Sun",
          "Sun",
          "Thur",
          "Thur",
          "Thur",
          "Thur",
          "Thur",
          "Thur",
          "Thur",
          "Sat",
          "Sat",
          "Sat",
          "Sat",
          "Sat",
          "Fri",
          "Fri",
          "Fri",
          "Fri",
          "Sat",
          "Sat",
          "Sat",
          "Thur"
         ],
         "x0": " ",
         "xaxis": "x",
         "y": {
          "bdata": "PQrXo3D9MEDXo3A9Cpc4QOF6FK5HoUFAKVyPwvWoLUApXI/C9agkQLgehetR+DBACtejcD1KNEAK16NwPYovQGZmZmZmpjNAH4XrUbgeLkBxPQrXo7A0QK5H4XoU7jBAFK5H4XqUJEBI4XoUrmdBQClcj8L1aDpAMzMzMzNzMECPwvUoXI8IQFK4HoXrETFAXI/C9SjcOkBI4XoUrkc5QPYoXI/CdS1ApHA9CtcjJEAK16NwPWpBQAAAAAAAABdAUrgehetRMEAAAAAAAMA2QDMzMzMzsyZAw/UoXI/CLkBmZmZmZiZGQOxRuB6FazZA7FG4HoXrNEAfhetRuJ4sQAAAAAAAAB1A9ihcj8K1OUCPwvUoXE8xQM3MzMzMTCVAXI/C9SjcKEAUrkfhehQ4QNejcD0K1ypA9ihcj8L1KEDNzMzMzMw9QArXo3A9Ci1Aw/UoXI/CJkCF61G4HkU0QNejcD0KVyZAhetRuB6FKEDD9Shcj0IyQIXrUbgeBSFAKVyPwvWoJEDNzMzMzEwsQFK4HoXrUSpAuB6F61F4MUDNzMzMzAw7QK5H4XoUbjBAMzMzMzOzIECkcD0K16MyQD0K16NwvSdAmpmZmZnZPUAAAAAAAAA5QEjhehSuxypA9ihcj8I1MEDD9Shcj4IxQK5H4XoULiVAw/UoXI9CJUAzMzMzMzMjQGZmZmZm5jRAZmZmZmYmMkCPwvUoXM8zQK5H4XoUjkVAAAAAAAAAKkB7FK5H4XopQAAAAAAAACpAZmZmZmZmMEC4HoXrUXgwQIXrUbgehSlACtejcD2KKkDsUbgehSs8QM3MzMzMzClApHA9CtcjPkDXo3A9CtcqQPYoXI/C9S9AhetRuB5FMECuR+F6FC4kQB+F61G4HjZACtejcD3qQUCuR+F6FC47QEjhehSuxzJA",
          "dtype": "f8"
         },
         "y0": " ",
         "yaxis": "y"
        },
        {
         "alignmentgroup": "True",
         "box": {
          "visible": false
         },
         "hovertemplate": "sex=Male<br>day=%{x}<br>total_bill=%{y}<extra></extra>",
         "legendgroup": "Male",
         "marker": {
          "color": "#EF553B"
         },
         "name": "Male",
         "offsetgroup": "Male",
         "orientation": "v",
         "scalegroup": "True",
         "showlegend": true,
         "type": "violin",
         "x": [
          "Sun",
          "Sun",
          "Sun",
          "Sun",
          "Sun",
          "Sun",
          "Sun",
          "Sun",
          "Sun",
          "Sun",
          "Sun",
          "Sun",
          "Sun",
          "Sat",
          "Sat",
          "Sat",
          "Sat",
          "Sat",
          "Sat",
          "Sat",
          "Sat",
          "Sat",
          "Sat",
          "Sat",
          "Sat",
          "Sat",
          "Sat",
          "Sat",
          "Sat",
          "Sun",
          "Sun",
          "Sun",
          "Sun",
          "Sun",
          "Sun",
          "Sun",
          "Sun",
          "Sun",
          "Sun",
          "Sun",
          "Sun",
          "Sun",
          "Sat",
          "Sat",
          "Sat",
          "Sat",
          "Sat",
          "Sat",
          "Sat",
          "Sat",
          "Sat",
          "Sat",
          "Sat",
          "Sat",
          "Sat",
          "Sat",
          "Thur",
          "Thur",
          "Thur",
          "Thur",
          "Thur",
          "Thur",
          "Thur",
          "Thur",
          "Thur",
          "Thur",
          "Thur",
          "Fri",
          "Fri",
          "Fri",
          "Fri",
          "Fri",
          "Fri",
          "Fri",
          "Sat",
          "Sat",
          "Sat",
          "Sat",
          "Sat",
          "Sun",
          "Sun",
          "Sun",
          "Thur",
          "Thur",
          "Thur",
          "Thur",
          "Thur",
          "Thur",
          "Thur",
          "Thur",
          "Thur",
          "Thur",
          "Thur",
          "Sun",
          "Sun",
          "Sun",
          "Sun",
          "Sun",
          "Sun",
          "Sun",
          "Sun",
          "Sun",
          "Sun",
          "Sun",
          "Sun",
          "Sun",
          "Sat",
          "Sat",
          "Sun",
          "Sun",
          "Sun",
          "Sun",
          "Sun",
          "Sun",
          "Sun",
          "Sun",
          "Sun",
          "Sun",
          "Sun",
          "Sun",
          "Sun",
          "Sun",
          "Sun",
          "Sun",
          "Thur",
          "Thur",
          "Thur",
          "Thur",
          "Thur",
          "Thur",
          "Thur",
          "Thur",
          "Sat",
          "Sat",
          "Sat",
          "Sat",
          "Sat",
          "Sat",
          "Sat",
          "Sat",
          "Sat",
          "Fri",
          "Fri",
          "Fri",
          "Sat",
          "Sat",
          "Sat",
          "Sat",
          "Sat",
          "Sat",
          "Sat",
          "Sat",
          "Sat",
          "Sat",
          "Sat",
          "Sat",
          "Sat"
         ],
         "x0": " ",
         "xaxis": "x",
         "y": {
          "bdata": "rkfhehSuJEDD9ShcjwI1QK5H4XoUrjdACtejcD1KOUAK16NwPYohQOF6FK5H4TpAFK5H4XoULkCPwvUoXI8tQArXo3A9iiRA16NwPQrXLkCuR+F6FG4yQBSuR+F6lDVACtejcD1KMEBmZmZmZqY0QOxRuB6F6zFA9ihcj8K1Q0BSuB6F69EzQI/C9ShczzFAPQrXo3C9KkDhehSuR2EpQDMzMzMzszVAmpmZmZkZI0CamZmZmVkyQEjhehSuxzFAj8L1KFwPOECPwvUoXE8wQHE9CtejsDJAhetRuB5FP0AK16NwPQowQPYoXI/CdTFA4XoUrkfhK0Bcj8L1KFwjQGZmZmZmZj5ACtejcD1KMkB7FK5H4To2QDMzMzMzM0BAzczMzMyMPEAK16NwPQoyQBSuR+F6FClA4XoUrkfhI0CPwvUoXI85QD0K16NwfTNA4XoUrkcBQ0B7FK5H4XomQMP1KFyPIkhACtejcD1KNEAfhetRuJ4rQArXo3A9CiZACtejcD1KMkDXo3A9CpcxQBSuR+F6FDRAexSuR+E6NECF61G4HgUuQArXo3A9CihAhetRuB4FJUDsUbgehesxQDMzMzMzMztAw/UoXI/CNkAK16NwPUoxQHE9CtejcDNAKVyPwvWoMEDXo3A9CldAQPYoXI/C9S9Aj8L1KFwPKkBI4XoUrkcyQPYoXI/CtThAKVyPwvUoNUC4HoXrUfg8QD0K16NwfTZA9ihcj8IVREBI4XoUrkc7QI/C9ShcDyhAw/UoXI8CNUDsUbgehesoQLgehetRuC5APQrXo3B9NED2KFyPwjU5QD0K16NwPTJAAAAAAAAALEApXI/C9QhDQDMzMzMz8zdArkfhehTuPUDhehSuR2EnQIXrUbgehSxAZmZmZmbmL0AK16NwPQohQFK4HoXr0TZAFK5H4XoUM0AAAAAAAAAwQGZmZmZmJkFAuB6F61GYRECPwvUoXI8jQArXo3A9Ch5ApHA9CtcjLEDD9Shcj0IqQMP1KFyPQjFAzczMzMyMOECF61G4HsUzQPYoXI/CFUhAPQrXo3B9MEAAAAAAAIA1QFK4HoXrUSlAH4XrUbieK0CF61G4HoU4QMP1KFyPwjRA9ihcj8K1P0BI4XoUrmdJQB+F61G4ni9AAAAAAAAAHUCamZmZmdk/QFK4HoXr0TBAMzMzMzNzQECkcD0K1+MxQPYoXI/C9SxAcT0K16NQQUAzMzMzM1NBQBSuR+F6VDdAzczMzMysRkDsUbgehSs3QGZmZmZmRkRAcT0K16OwNED2KFyPwnU+QJqZmZmZGTdA4XoUrkdhL0BxPQrXo3A8QPYoXI/C9S5AFK5H4XqUMEA9CtejcD0eQK5H4XoUriRAhetRuB4FK0D2KFyPwrUyQEjhehSuhzRA16NwPQqXOkA9CtejcF1DQIXrUbgeRThAj8L1KFwPPkCkcD0K1+M5QArXo3A9KkhAZmZmZmYmPECuR+F6FC4nQPYoXI/C9R5AUrgehetRKEApXI/C9SghQNejcD0K1ypAMzMzMzNzNECPwvUoXI8qQMP1KFyPAjhA4XoUrkdhL0C4HoXrUTgnQArXo3A9iiVAj8L1KFwPL0CkcD0K1yMkQDMzMzMzMylACtejcD1qQEBI4XoUrgc9QOxRuB6FqzZAUrgehevRMUA=",
          "dtype": "f8"
         },
         "y0": " ",
         "yaxis": "y"
        }
       ],
       "layout": {
        "legend": {
         "title": {
          "text": "sex"
         },
         "tracegroupgap": 0
        },
        "margin": {
         "t": 60
        },
        "template": {
         "data": {
          "bar": [
           {
            "error_x": {
             "color": "#2a3f5f"
            },
            "error_y": {
             "color": "#2a3f5f"
            },
            "marker": {
             "line": {
              "color": "#E5ECF6",
              "width": 0.5
             },
             "pattern": {
              "fillmode": "overlay",
              "size": 10,
              "solidity": 0.2
             }
            },
            "type": "bar"
           }
          ],
          "barpolar": [
           {
            "marker": {
             "line": {
              "color": "#E5ECF6",
              "width": 0.5
             },
             "pattern": {
              "fillmode": "overlay",
              "size": 10,
              "solidity": 0.2
             }
            },
            "type": "barpolar"
           }
          ],
          "carpet": [
           {
            "aaxis": {
             "endlinecolor": "#2a3f5f",
             "gridcolor": "white",
             "linecolor": "white",
             "minorgridcolor": "white",
             "startlinecolor": "#2a3f5f"
            },
            "baxis": {
             "endlinecolor": "#2a3f5f",
             "gridcolor": "white",
             "linecolor": "white",
             "minorgridcolor": "white",
             "startlinecolor": "#2a3f5f"
            },
            "type": "carpet"
           }
          ],
          "choropleth": [
           {
            "colorbar": {
             "outlinewidth": 0,
             "ticks": ""
            },
            "type": "choropleth"
           }
          ],
          "contour": [
           {
            "colorbar": {
             "outlinewidth": 0,
             "ticks": ""
            },
            "colorscale": [
             [
              0,
              "#0d0887"
             ],
             [
              0.1111111111111111,
              "#46039f"
             ],
             [
              0.2222222222222222,
              "#7201a8"
             ],
             [
              0.3333333333333333,
              "#9c179e"
             ],
             [
              0.4444444444444444,
              "#bd3786"
             ],
             [
              0.5555555555555556,
              "#d8576b"
             ],
             [
              0.6666666666666666,
              "#ed7953"
             ],
             [
              0.7777777777777778,
              "#fb9f3a"
             ],
             [
              0.8888888888888888,
              "#fdca26"
             ],
             [
              1,
              "#f0f921"
             ]
            ],
            "type": "contour"
           }
          ],
          "contourcarpet": [
           {
            "colorbar": {
             "outlinewidth": 0,
             "ticks": ""
            },
            "type": "contourcarpet"
           }
          ],
          "heatmap": [
           {
            "colorbar": {
             "outlinewidth": 0,
             "ticks": ""
            },
            "colorscale": [
             [
              0,
              "#0d0887"
             ],
             [
              0.1111111111111111,
              "#46039f"
             ],
             [
              0.2222222222222222,
              "#7201a8"
             ],
             [
              0.3333333333333333,
              "#9c179e"
             ],
             [
              0.4444444444444444,
              "#bd3786"
             ],
             [
              0.5555555555555556,
              "#d8576b"
             ],
             [
              0.6666666666666666,
              "#ed7953"
             ],
             [
              0.7777777777777778,
              "#fb9f3a"
             ],
             [
              0.8888888888888888,
              "#fdca26"
             ],
             [
              1,
              "#f0f921"
             ]
            ],
            "type": "heatmap"
           }
          ],
          "histogram": [
           {
            "marker": {
             "pattern": {
              "fillmode": "overlay",
              "size": 10,
              "solidity": 0.2
             }
            },
            "type": "histogram"
           }
          ],
          "histogram2d": [
           {
            "colorbar": {
             "outlinewidth": 0,
             "ticks": ""
            },
            "colorscale": [
             [
              0,
              "#0d0887"
             ],
             [
              0.1111111111111111,
              "#46039f"
             ],
             [
              0.2222222222222222,
              "#7201a8"
             ],
             [
              0.3333333333333333,
              "#9c179e"
             ],
             [
              0.4444444444444444,
              "#bd3786"
             ],
             [
              0.5555555555555556,
              "#d8576b"
             ],
             [
              0.6666666666666666,
              "#ed7953"
             ],
             [
              0.7777777777777778,
              "#fb9f3a"
             ],
             [
              0.8888888888888888,
              "#fdca26"
             ],
             [
              1,
              "#f0f921"
             ]
            ],
            "type": "histogram2d"
           }
          ],
          "histogram2dcontour": [
           {
            "colorbar": {
             "outlinewidth": 0,
             "ticks": ""
            },
            "colorscale": [
             [
              0,
              "#0d0887"
             ],
             [
              0.1111111111111111,
              "#46039f"
             ],
             [
              0.2222222222222222,
              "#7201a8"
             ],
             [
              0.3333333333333333,
              "#9c179e"
             ],
             [
              0.4444444444444444,
              "#bd3786"
             ],
             [
              0.5555555555555556,
              "#d8576b"
             ],
             [
              0.6666666666666666,
              "#ed7953"
             ],
             [
              0.7777777777777778,
              "#fb9f3a"
             ],
             [
              0.8888888888888888,
              "#fdca26"
             ],
             [
              1,
              "#f0f921"
             ]
            ],
            "type": "histogram2dcontour"
           }
          ],
          "mesh3d": [
           {
            "colorbar": {
             "outlinewidth": 0,
             "ticks": ""
            },
            "type": "mesh3d"
           }
          ],
          "parcoords": [
           {
            "line": {
             "colorbar": {
              "outlinewidth": 0,
              "ticks": ""
             }
            },
            "type": "parcoords"
           }
          ],
          "pie": [
           {
            "automargin": true,
            "type": "pie"
           }
          ],
          "scatter": [
           {
            "fillpattern": {
             "fillmode": "overlay",
             "size": 10,
             "solidity": 0.2
            },
            "type": "scatter"
           }
          ],
          "scatter3d": [
           {
            "line": {
             "colorbar": {
              "outlinewidth": 0,
              "ticks": ""
             }
            },
            "marker": {
             "colorbar": {
              "outlinewidth": 0,
              "ticks": ""
             }
            },
            "type": "scatter3d"
           }
          ],
          "scattercarpet": [
           {
            "marker": {
             "colorbar": {
              "outlinewidth": 0,
              "ticks": ""
             }
            },
            "type": "scattercarpet"
           }
          ],
          "scattergeo": [
           {
            "marker": {
             "colorbar": {
              "outlinewidth": 0,
              "ticks": ""
             }
            },
            "type": "scattergeo"
           }
          ],
          "scattergl": [
           {
            "marker": {
             "colorbar": {
              "outlinewidth": 0,
              "ticks": ""
             }
            },
            "type": "scattergl"
           }
          ],
          "scattermap": [
           {
            "marker": {
             "colorbar": {
              "outlinewidth": 0,
              "ticks": ""
             }
            },
            "type": "scattermap"
           }
          ],
          "scattermapbox": [
           {
            "marker": {
             "colorbar": {
              "outlinewidth": 0,
              "ticks": ""
             }
            },
            "type": "scattermapbox"
           }
          ],
          "scatterpolar": [
           {
            "marker": {
             "colorbar": {
              "outlinewidth": 0,
              "ticks": ""
             }
            },
            "type": "scatterpolar"
           }
          ],
          "scatterpolargl": [
           {
            "marker": {
             "colorbar": {
              "outlinewidth": 0,
              "ticks": ""
             }
            },
            "type": "scatterpolargl"
           }
          ],
          "scatterternary": [
           {
            "marker": {
             "colorbar": {
              "outlinewidth": 0,
              "ticks": ""
             }
            },
            "type": "scatterternary"
           }
          ],
          "surface": [
           {
            "colorbar": {
             "outlinewidth": 0,
             "ticks": ""
            },
            "colorscale": [
             [
              0,
              "#0d0887"
             ],
             [
              0.1111111111111111,
              "#46039f"
             ],
             [
              0.2222222222222222,
              "#7201a8"
             ],
             [
              0.3333333333333333,
              "#9c179e"
             ],
             [
              0.4444444444444444,
              "#bd3786"
             ],
             [
              0.5555555555555556,
              "#d8576b"
             ],
             [
              0.6666666666666666,
              "#ed7953"
             ],
             [
              0.7777777777777778,
              "#fb9f3a"
             ],
             [
              0.8888888888888888,
              "#fdca26"
             ],
             [
              1,
              "#f0f921"
             ]
            ],
            "type": "surface"
           }
          ],
          "table": [
           {
            "cells": {
             "fill": {
              "color": "#EBF0F8"
             },
             "line": {
              "color": "white"
             }
            },
            "header": {
             "fill": {
              "color": "#C8D4E3"
             },
             "line": {
              "color": "white"
             }
            },
            "type": "table"
           }
          ]
         },
         "layout": {
          "annotationdefaults": {
           "arrowcolor": "#2a3f5f",
           "arrowhead": 0,
           "arrowwidth": 1
          },
          "autotypenumbers": "strict",
          "coloraxis": {
           "colorbar": {
            "outlinewidth": 0,
            "ticks": ""
           }
          },
          "colorscale": {
           "diverging": [
            [
             0,
             "#8e0152"
            ],
            [
             0.1,
             "#c51b7d"
            ],
            [
             0.2,
             "#de77ae"
            ],
            [
             0.3,
             "#f1b6da"
            ],
            [
             0.4,
             "#fde0ef"
            ],
            [
             0.5,
             "#f7f7f7"
            ],
            [
             0.6,
             "#e6f5d0"
            ],
            [
             0.7,
             "#b8e186"
            ],
            [
             0.8,
             "#7fbc41"
            ],
            [
             0.9,
             "#4d9221"
            ],
            [
             1,
             "#276419"
            ]
           ],
           "sequential": [
            [
             0,
             "#0d0887"
            ],
            [
             0.1111111111111111,
             "#46039f"
            ],
            [
             0.2222222222222222,
             "#7201a8"
            ],
            [
             0.3333333333333333,
             "#9c179e"
            ],
            [
             0.4444444444444444,
             "#bd3786"
            ],
            [
             0.5555555555555556,
             "#d8576b"
            ],
            [
             0.6666666666666666,
             "#ed7953"
            ],
            [
             0.7777777777777778,
             "#fb9f3a"
            ],
            [
             0.8888888888888888,
             "#fdca26"
            ],
            [
             1,
             "#f0f921"
            ]
           ],
           "sequentialminus": [
            [
             0,
             "#0d0887"
            ],
            [
             0.1111111111111111,
             "#46039f"
            ],
            [
             0.2222222222222222,
             "#7201a8"
            ],
            [
             0.3333333333333333,
             "#9c179e"
            ],
            [
             0.4444444444444444,
             "#bd3786"
            ],
            [
             0.5555555555555556,
             "#d8576b"
            ],
            [
             0.6666666666666666,
             "#ed7953"
            ],
            [
             0.7777777777777778,
             "#fb9f3a"
            ],
            [
             0.8888888888888888,
             "#fdca26"
            ],
            [
             1,
             "#f0f921"
            ]
           ]
          },
          "colorway": [
           "#636efa",
           "#EF553B",
           "#00cc96",
           "#ab63fa",
           "#FFA15A",
           "#19d3f3",
           "#FF6692",
           "#B6E880",
           "#FF97FF",
           "#FECB52"
          ],
          "font": {
           "color": "#2a3f5f"
          },
          "geo": {
           "bgcolor": "white",
           "lakecolor": "white",
           "landcolor": "#E5ECF6",
           "showlakes": true,
           "showland": true,
           "subunitcolor": "white"
          },
          "hoverlabel": {
           "align": "left"
          },
          "hovermode": "closest",
          "mapbox": {
           "style": "light"
          },
          "paper_bgcolor": "white",
          "plot_bgcolor": "#E5ECF6",
          "polar": {
           "angularaxis": {
            "gridcolor": "white",
            "linecolor": "white",
            "ticks": ""
           },
           "bgcolor": "#E5ECF6",
           "radialaxis": {
            "gridcolor": "white",
            "linecolor": "white",
            "ticks": ""
           }
          },
          "scene": {
           "xaxis": {
            "backgroundcolor": "#E5ECF6",
            "gridcolor": "white",
            "gridwidth": 2,
            "linecolor": "white",
            "showbackground": true,
            "ticks": "",
            "zerolinecolor": "white"
           },
           "yaxis": {
            "backgroundcolor": "#E5ECF6",
            "gridcolor": "white",
            "gridwidth": 2,
            "linecolor": "white",
            "showbackground": true,
            "ticks": "",
            "zerolinecolor": "white"
           },
           "zaxis": {
            "backgroundcolor": "#E5ECF6",
            "gridcolor": "white",
            "gridwidth": 2,
            "linecolor": "white",
            "showbackground": true,
            "ticks": "",
            "zerolinecolor": "white"
           }
          },
          "shapedefaults": {
           "line": {
            "color": "#2a3f5f"
           }
          },
          "ternary": {
           "aaxis": {
            "gridcolor": "white",
            "linecolor": "white",
            "ticks": ""
           },
           "baxis": {
            "gridcolor": "white",
            "linecolor": "white",
            "ticks": ""
           },
           "bgcolor": "#E5ECF6",
           "caxis": {
            "gridcolor": "white",
            "linecolor": "white",
            "ticks": ""
           }
          },
          "title": {
           "x": 0.05
          },
          "xaxis": {
           "automargin": true,
           "gridcolor": "white",
           "linecolor": "white",
           "ticks": "",
           "title": {
            "standoff": 15
           },
           "zerolinecolor": "white",
           "zerolinewidth": 2
          },
          "yaxis": {
           "automargin": true,
           "gridcolor": "white",
           "linecolor": "white",
           "ticks": "",
           "title": {
            "standoff": 15
           },
           "zerolinecolor": "white",
           "zerolinewidth": 2
          }
         }
        },
        "violinmode": "group",
        "xaxis": {
         "anchor": "y",
         "domain": [
          0,
          1
         ],
         "title": {
          "text": "day"
         }
        },
        "yaxis": {
         "anchor": "x",
         "domain": [
          0,
          1
         ],
         "title": {
          "text": "total_bill"
         }
        }
       }
      }
     },
     "metadata": {},
     "output_type": "display_data"
    },
    {
     "ename": "ValueError",
     "evalue": "Failed to start Kaleido subprocess. Error stream:\n\n/Users/Federica/Desktop/Graph course python/.venv/lib/python3.12/site-packages/kaleido/executable/kaleido: line 4: cd: /Users/Federica/Desktop/Graph: No such file or directory\n/Users/Federica/Desktop/Graph course python/.venv/lib/python3.12/site-packages/kaleido/executable/kaleido: line 5: ./bin/kaleido: No such file or directory\n",
     "output_type": "error",
     "traceback": [
      "\u001b[31m---------------------------------------------------------------------------\u001b[39m",
      "\u001b[31mValueError\u001b[39m                                Traceback (most recent call last)",
      "\u001b[36mCell\u001b[39m\u001b[36m \u001b[39m\u001b[32mIn[10]\u001b[39m\u001b[32m, line 3\u001b[39m\n\u001b[32m      1\u001b[39m tips_sex = px.violin(tips, x=\u001b[33m\"\u001b[39m\u001b[33mday\u001b[39m\u001b[33m\"\u001b[39m, y=\u001b[33m\"\u001b[39m\u001b[33mtotal_bill\u001b[39m\u001b[33m\"\u001b[39m, color=\u001b[33m\"\u001b[39m\u001b[33msex\u001b[39m\u001b[33m\"\u001b[39m)\n\u001b[32m      2\u001b[39m tips_sex.show()\n\u001b[32m----> \u001b[39m\u001b[32m3\u001b[39m \u001b[43mtips_sex\u001b[49m\u001b[43m.\u001b[49m\u001b[43mwrite_image\u001b[49m\u001b[43m(\u001b[49m\u001b[33;43m\"\u001b[39;49m\u001b[33;43mtips_sex_plot.png\u001b[39;49m\u001b[33;43m\"\u001b[39;49m\u001b[43m)\u001b[49m\n",
      "\u001b[36mFile \u001b[39m\u001b[32m~/Desktop/Graph course python/.venv/lib/python3.12/site-packages/plotly/basedatatypes.py:3827\u001b[39m, in \u001b[36mBaseFigure.write_image\u001b[39m\u001b[34m(self, *args, **kwargs)\u001b[39m\n\u001b[32m   3767\u001b[39m \u001b[38;5;250m\u001b[39m\u001b[33;03m\"\"\"\u001b[39;00m\n\u001b[32m   3768\u001b[39m \u001b[33;03mConvert a figure to a static image and write it to a file or writeable\u001b[39;00m\n\u001b[32m   3769\u001b[39m \u001b[33;03mobject\u001b[39;00m\n\u001b[32m   (...)\u001b[39m\u001b[32m   3823\u001b[39m \u001b[33;03mNone\u001b[39;00m\n\u001b[32m   3824\u001b[39m \u001b[33;03m\"\"\"\u001b[39;00m\n\u001b[32m   3825\u001b[39m \u001b[38;5;28;01mimport\u001b[39;00m\u001b[38;5;250m \u001b[39m\u001b[34;01mplotly\u001b[39;00m\u001b[34;01m.\u001b[39;00m\u001b[34;01mio\u001b[39;00m\u001b[38;5;250m \u001b[39m\u001b[38;5;28;01mas\u001b[39;00m\u001b[38;5;250m \u001b[39m\u001b[34;01mpio\u001b[39;00m\n\u001b[32m-> \u001b[39m\u001b[32m3827\u001b[39m \u001b[38;5;28;01mreturn\u001b[39;00m \u001b[43mpio\u001b[49m\u001b[43m.\u001b[49m\u001b[43mwrite_image\u001b[49m\u001b[43m(\u001b[49m\u001b[38;5;28;43mself\u001b[39;49m\u001b[43m,\u001b[49m\u001b[43m \u001b[49m\u001b[43m*\u001b[49m\u001b[43margs\u001b[49m\u001b[43m,\u001b[49m\u001b[43m \u001b[49m\u001b[43m*\u001b[49m\u001b[43m*\u001b[49m\u001b[43mkwargs\u001b[49m\u001b[43m)\u001b[49m\n",
      "\u001b[36mFile \u001b[39m\u001b[32m~/Desktop/Graph course python/.venv/lib/python3.12/site-packages/plotly/io/_kaleido.py:266\u001b[39m, in \u001b[36mwrite_image\u001b[39m\u001b[34m(fig, file, format, scale, width, height, validate, engine)\u001b[39m\n\u001b[32m    250\u001b[39m             \u001b[38;5;28;01mraise\u001b[39;00m \u001b[38;5;167;01mValueError\u001b[39;00m(\n\u001b[32m    251\u001b[39m \u001b[38;5;250m                \u001b[39m\u001b[33;03m\"\"\"\u001b[39;00m\n\u001b[32m    252\u001b[39m \u001b[33;03mCannot infer image type from output path '{file}'.\u001b[39;00m\n\u001b[32m   (...)\u001b[39m\u001b[32m    260\u001b[39m                 )\n\u001b[32m    261\u001b[39m             )\n\u001b[32m    263\u001b[39m     \u001b[38;5;66;03m# Request image\u001b[39;00m\n\u001b[32m    264\u001b[39m     \u001b[38;5;66;03m# -------------\u001b[39;00m\n\u001b[32m    265\u001b[39m     \u001b[38;5;66;03m# Do this first so we don't create a file if image conversion fails\u001b[39;00m\n\u001b[32m--> \u001b[39m\u001b[32m266\u001b[39m     img_data = \u001b[43mto_image\u001b[49m\u001b[43m(\u001b[49m\n\u001b[32m    267\u001b[39m \u001b[43m        \u001b[49m\u001b[43mfig\u001b[49m\u001b[43m,\u001b[49m\n\u001b[32m    268\u001b[39m \u001b[43m        \u001b[49m\u001b[38;5;28;43mformat\u001b[39;49m\u001b[43m=\u001b[49m\u001b[38;5;28;43mformat\u001b[39;49m\u001b[43m,\u001b[49m\n\u001b[32m    269\u001b[39m \u001b[43m        \u001b[49m\u001b[43mscale\u001b[49m\u001b[43m=\u001b[49m\u001b[43mscale\u001b[49m\u001b[43m,\u001b[49m\n\u001b[32m    270\u001b[39m \u001b[43m        \u001b[49m\u001b[43mwidth\u001b[49m\u001b[43m=\u001b[49m\u001b[43mwidth\u001b[49m\u001b[43m,\u001b[49m\n\u001b[32m    271\u001b[39m \u001b[43m        \u001b[49m\u001b[43mheight\u001b[49m\u001b[43m=\u001b[49m\u001b[43mheight\u001b[49m\u001b[43m,\u001b[49m\n\u001b[32m    272\u001b[39m \u001b[43m        \u001b[49m\u001b[43mvalidate\u001b[49m\u001b[43m=\u001b[49m\u001b[43mvalidate\u001b[49m\u001b[43m,\u001b[49m\n\u001b[32m    273\u001b[39m \u001b[43m        \u001b[49m\u001b[43mengine\u001b[49m\u001b[43m=\u001b[49m\u001b[43mengine\u001b[49m\u001b[43m,\u001b[49m\n\u001b[32m    274\u001b[39m \u001b[43m    \u001b[49m\u001b[43m)\u001b[49m\n\u001b[32m    276\u001b[39m     \u001b[38;5;66;03m# Open file\u001b[39;00m\n\u001b[32m    277\u001b[39m     \u001b[38;5;66;03m# ---------\u001b[39;00m\n\u001b[32m    278\u001b[39m     \u001b[38;5;28;01mif\u001b[39;00m path \u001b[38;5;129;01mis\u001b[39;00m \u001b[38;5;28;01mNone\u001b[39;00m:\n\u001b[32m    279\u001b[39m         \u001b[38;5;66;03m# We previously failed to make sense of `file` as a pathlib object.\u001b[39;00m\n\u001b[32m    280\u001b[39m         \u001b[38;5;66;03m# Attempt to write to `file` as an open file descriptor.\u001b[39;00m\n",
      "\u001b[36mFile \u001b[39m\u001b[32m~/Desktop/Graph course python/.venv/lib/python3.12/site-packages/plotly/io/_kaleido.py:143\u001b[39m, in \u001b[36mto_image\u001b[39m\u001b[34m(fig, format, width, height, scale, validate, engine)\u001b[39m\n\u001b[32m    140\u001b[39m \u001b[38;5;66;03m# Validate figure\u001b[39;00m\n\u001b[32m    141\u001b[39m \u001b[38;5;66;03m# ---------------\u001b[39;00m\n\u001b[32m    142\u001b[39m fig_dict = validate_coerce_fig_to_dict(fig, validate)\n\u001b[32m--> \u001b[39m\u001b[32m143\u001b[39m img_bytes = \u001b[43mscope\u001b[49m\u001b[43m.\u001b[49m\u001b[43mtransform\u001b[49m\u001b[43m(\u001b[49m\n\u001b[32m    144\u001b[39m \u001b[43m    \u001b[49m\u001b[43mfig_dict\u001b[49m\u001b[43m,\u001b[49m\u001b[43m \u001b[49m\u001b[38;5;28;43mformat\u001b[39;49m\u001b[43m=\u001b[49m\u001b[38;5;28;43mformat\u001b[39;49m\u001b[43m,\u001b[49m\u001b[43m \u001b[49m\u001b[43mwidth\u001b[49m\u001b[43m=\u001b[49m\u001b[43mwidth\u001b[49m\u001b[43m,\u001b[49m\u001b[43m \u001b[49m\u001b[43mheight\u001b[49m\u001b[43m=\u001b[49m\u001b[43mheight\u001b[49m\u001b[43m,\u001b[49m\u001b[43m \u001b[49m\u001b[43mscale\u001b[49m\u001b[43m=\u001b[49m\u001b[43mscale\u001b[49m\n\u001b[32m    145\u001b[39m \u001b[43m\u001b[49m\u001b[43m)\u001b[49m\n\u001b[32m    147\u001b[39m \u001b[38;5;28;01mreturn\u001b[39;00m img_bytes\n",
      "\u001b[36mFile \u001b[39m\u001b[32m~/Desktop/Graph course python/.venv/lib/python3.12/site-packages/kaleido/scopes/plotly.py:153\u001b[39m, in \u001b[36mPlotlyScope.transform\u001b[39m\u001b[34m(self, figure, format, width, height, scale)\u001b[39m\n\u001b[32m    142\u001b[39m     \u001b[38;5;28;01mraise\u001b[39;00m \u001b[38;5;167;01mValueError\u001b[39;00m(\n\u001b[32m    143\u001b[39m         \u001b[33m\"\u001b[39m\u001b[33mInvalid format \u001b[39m\u001b[33m'\u001b[39m\u001b[38;5;132;01m{original_format}\u001b[39;00m\u001b[33m'\u001b[39m\u001b[33m.\u001b[39m\u001b[38;5;130;01m\\n\u001b[39;00m\u001b[33m\"\u001b[39m\n\u001b[32m    144\u001b[39m         \u001b[33m\"\u001b[39m\u001b[33m    Supported formats: \u001b[39m\u001b[38;5;132;01m{supported_formats_str}\u001b[39;00m\u001b[33m\"\u001b[39m\n\u001b[32m   (...)\u001b[39m\u001b[32m    148\u001b[39m         )\n\u001b[32m    149\u001b[39m     )\n\u001b[32m    151\u001b[39m \u001b[38;5;66;03m# Transform in using _perform_transform rather than superclass so we can access the full\u001b[39;00m\n\u001b[32m    152\u001b[39m \u001b[38;5;66;03m# response dict, including error codes.\u001b[39;00m\n\u001b[32m--> \u001b[39m\u001b[32m153\u001b[39m response = \u001b[38;5;28;43mself\u001b[39;49m\u001b[43m.\u001b[49m\u001b[43m_perform_transform\u001b[49m\u001b[43m(\u001b[49m\n\u001b[32m    154\u001b[39m \u001b[43m    \u001b[49m\u001b[43mfigure\u001b[49m\u001b[43m,\u001b[49m\u001b[43m \u001b[49m\u001b[38;5;28;43mformat\u001b[39;49m\u001b[43m=\u001b[49m\u001b[38;5;28;43mformat\u001b[39;49m\u001b[43m,\u001b[49m\u001b[43m \u001b[49m\u001b[43mwidth\u001b[49m\u001b[43m=\u001b[49m\u001b[43mwidth\u001b[49m\u001b[43m,\u001b[49m\u001b[43m \u001b[49m\u001b[43mheight\u001b[49m\u001b[43m=\u001b[49m\u001b[43mheight\u001b[49m\u001b[43m,\u001b[49m\u001b[43m \u001b[49m\u001b[43mscale\u001b[49m\u001b[43m=\u001b[49m\u001b[43mscale\u001b[49m\n\u001b[32m    155\u001b[39m \u001b[43m\u001b[49m\u001b[43m)\u001b[49m\n\u001b[32m    157\u001b[39m \u001b[38;5;66;03m# Check for export error, later can customize error messages for plotly Python users\u001b[39;00m\n\u001b[32m    158\u001b[39m code = response.get(\u001b[33m\"\u001b[39m\u001b[33mcode\u001b[39m\u001b[33m\"\u001b[39m, \u001b[32m0\u001b[39m)\n",
      "\u001b[36mFile \u001b[39m\u001b[32m~/Desktop/Graph course python/.venv/lib/python3.12/site-packages/kaleido/scopes/base.py:293\u001b[39m, in \u001b[36mBaseScope._perform_transform\u001b[39m\u001b[34m(self, data, **kwargs)\u001b[39m\n\u001b[32m    284\u001b[39m \u001b[38;5;250m\u001b[39m\u001b[33;03m\"\"\"\u001b[39;00m\n\u001b[32m    285\u001b[39m \u001b[33;03mTransform input data using the current scope, returning dict response with error code\u001b[39;00m\n\u001b[32m    286\u001b[39m \u001b[33;03mwhether successful or not.\u001b[39;00m\n\u001b[32m   (...)\u001b[39m\u001b[32m    290\u001b[39m \u001b[33;03m:return: Dict of response from Kaleido executable, whether successful or not\u001b[39;00m\n\u001b[32m    291\u001b[39m \u001b[33;03m\"\"\"\u001b[39;00m\n\u001b[32m    292\u001b[39m \u001b[38;5;66;03m# Ensure that kaleido subprocess is running\u001b[39;00m\n\u001b[32m--> \u001b[39m\u001b[32m293\u001b[39m \u001b[38;5;28;43mself\u001b[39;49m\u001b[43m.\u001b[49m\u001b[43m_ensure_kaleido\u001b[49m\u001b[43m(\u001b[49m\u001b[43m)\u001b[49m\n\u001b[32m    295\u001b[39m \u001b[38;5;66;03m# Perform export\u001b[39;00m\n\u001b[32m    296\u001b[39m export_spec = \u001b[38;5;28mself\u001b[39m._json_dumps(\u001b[38;5;28mdict\u001b[39m(kwargs, data=data)).encode(\u001b[33m'\u001b[39m\u001b[33mutf-8\u001b[39m\u001b[33m'\u001b[39m)\n",
      "\u001b[36mFile \u001b[39m\u001b[32m~/Desktop/Graph course python/.venv/lib/python3.12/site-packages/kaleido/scopes/base.py:198\u001b[39m, in \u001b[36mBaseScope._ensure_kaleido\u001b[39m\u001b[34m(self)\u001b[39m\n\u001b[32m    193\u001b[39m \u001b[38;5;28;01mif\u001b[39;00m \u001b[38;5;129;01mnot\u001b[39;00m startup_response_string:\n\u001b[32m    194\u001b[39m     message = (\n\u001b[32m    195\u001b[39m         \u001b[33m\"\u001b[39m\u001b[33mFailed to start Kaleido subprocess. Error stream:\u001b[39m\u001b[38;5;130;01m\\n\u001b[39;00m\u001b[38;5;130;01m\\n\u001b[39;00m\u001b[33m\"\u001b[39m +\n\u001b[32m    196\u001b[39m         \u001b[38;5;28mself\u001b[39m._get_decoded_std_error()\n\u001b[32m    197\u001b[39m     )\n\u001b[32m--> \u001b[39m\u001b[32m198\u001b[39m     \u001b[38;5;28;01mraise\u001b[39;00m \u001b[38;5;167;01mValueError\u001b[39;00m(message)\n\u001b[32m    199\u001b[39m \u001b[38;5;28;01melse\u001b[39;00m:\n\u001b[32m    200\u001b[39m     startup_response = json.loads(startup_response_string)\n",
      "\u001b[31mValueError\u001b[39m: Failed to start Kaleido subprocess. Error stream:\n\n/Users/Federica/Desktop/Graph course python/.venv/lib/python3.12/site-packages/kaleido/executable/kaleido: line 4: cd: /Users/Federica/Desktop/Graph: No such file or directory\n/Users/Federica/Desktop/Graph course python/.venv/lib/python3.12/site-packages/kaleido/executable/kaleido: line 5: ./bin/kaleido: No such file or directory\n"
     ]
    }
   ],
   "source": [
    "tips_sex = px.violin(tips, x=\"day\", y=\"total_bill\", color=\"sex\")\n",
    "tips_sex.show()\n",
    "tips_sex.write_image(\"tips_sex_plot.png\")"
   ]
  }
 ],
 "metadata": {
  "kernelspec": {
   "display_name": ".venv",
   "language": "python",
   "name": "python3"
  },
  "language_info": {
   "name": "python",
   "version": "3.12.0"
  }
 },
 "nbformat": 4,
 "nbformat_minor": 5
}
